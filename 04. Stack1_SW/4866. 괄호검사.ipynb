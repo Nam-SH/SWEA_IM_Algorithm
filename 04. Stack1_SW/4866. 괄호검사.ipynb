{
 "cells": [
  {
   "cell_type": "markdown",
   "metadata": {},
   "source": [
    "# 4866.  괄호검사\n",
    "\n",
    "<br>\n",
    "\n",
    "![image](https://user-images.githubusercontent.com/50367487/62712785-7bd3f700-ba36-11e9-9d5f-48d8d2d4c37e.png)"
   ]
  },
  {
   "cell_type": "markdown",
   "metadata": {},
   "source": [
    "```\n",
    "print('{} {}'.format(1, 2))\n",
    "N, M = map(int, input().split())\n",
    "print('#{} {}'.format(tc, find())\n",
    "```"
   ]
  },
  {
   "cell_type": "code",
   "execution_count": null,
   "metadata": {},
   "outputs": [],
   "source": [
    "for t in range(int(input())):\n",
    "    data = input()\n",
    "    lst = []\n",
    "    for i in data:\n",
    "        if i == '(' or i == '{': lst.append(i)\n",
    "\n",
    "        elif i == ')' or i == '}':\n",
    "            if not lst or (i == ')' and lst.pop() == '{') or (i == '}' and lst.pop() == '('):\n",
    "                res = 0\n",
    "                break\n",
    "    else:\n",
    "        if lst: res = 0\n",
    "        else: res = 1\n",
    "\n",
    "    print('#{} {}'.format(t + 1, res))"
   ]
  }
 ],
 "metadata": {
  "kernelspec": {
   "display_name": "Python 3",
   "language": "python",
   "name": "python3"
  },
  "language_info": {
   "codemirror_mode": {
    "name": "ipython",
    "version": 3
   },
   "file_extension": ".py",
   "mimetype": "text/x-python",
   "name": "python",
   "nbconvert_exporter": "python",
   "pygments_lexer": "ipython3",
   "version": "3.7.6"
  },
  "toc": {
   "base_numbering": 1,
   "nav_menu": {},
   "number_sections": true,
   "sideBar": true,
   "skip_h1_title": false,
   "title_cell": "Table of Contents",
   "title_sidebar": "Contents",
   "toc_cell": false,
   "toc_position": {},
   "toc_section_display": true,
   "toc_window_display": false
  }
 },
 "nbformat": 4,
 "nbformat_minor": 4
}
