{
 "cells": [
  {
   "cell_type": "markdown",
   "metadata": {},
   "source": [
    "#  4871. 그래프 경로\n",
    "\n",
    "<br>\n",
    "\n",
    "![image](https://user-images.githubusercontent.com/50367487/62712846-9b6b1f80-ba36-11e9-827e-0066b1d502c9.png)"
   ]
  },
  {
   "cell_type": "code",
   "execution_count": null,
   "metadata": {},
   "outputs": [],
   "source": [
    "import sys\n",
    "sys.stdin = open('test.txt', 'r')\n",
    "\n",
    "TC = int(input())\n",
    "for tc in range(TC):\n",
    "    v, e = map(int, input().split())\n",
    "\n",
    "    arr = [[] for _ in range(v+1)]\n",
    "    for _ in range(e):\n",
    "        a, b = map(int, input().split())\n",
    "        arr[a].append(b)\n",
    "    s, g = map(int, input().split())\n",
    "\n",
    "    visited = [s]\n",
    "    while 1:\n",
    "        if arr[s]:\n",
    "            s = arr[s][0]\n",
    "            visited.append(s)\n",
    "        else:\n",
    "            visited.pop()\n",
    "            if visited:\n",
    "                s = visited[-1]\n",
    "                arr[s].pop(0)\n",
    "            else:\n",
    "                print(\"#{} 0\".format(tc + 1))\n",
    "                break\n",
    "        if s == g:\n",
    "            print(\"#{} 1\".format(tc + 1))\n",
    "            break\n"
   ]
  }
 ],
 "metadata": {
  "kernelspec": {
   "display_name": "Python 3",
   "language": "python",
   "name": "python3"
  },
  "language_info": {
   "codemirror_mode": {
    "name": "ipython",
    "version": 3
   },
   "file_extension": ".py",
   "mimetype": "text/x-python",
   "name": "python",
   "nbconvert_exporter": "python",
   "pygments_lexer": "ipython3",
   "version": "3.7.6"
  },
  "toc": {
   "base_numbering": 1,
   "nav_menu": {},
   "number_sections": true,
   "sideBar": true,
   "skip_h1_title": false,
   "title_cell": "Table of Contents",
   "title_sidebar": "Contents",
   "toc_cell": false,
   "toc_position": {},
   "toc_section_display": true,
   "toc_window_display": false
  }
 },
 "nbformat": 4,
 "nbformat_minor": 4
}
