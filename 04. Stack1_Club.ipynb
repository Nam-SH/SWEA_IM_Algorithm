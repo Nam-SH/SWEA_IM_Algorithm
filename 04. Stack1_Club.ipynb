{
 "cells": [
  {
   "cell_type": "markdown",
   "metadata": {},
   "source": [
    "# 1210. Ladder1\n",
    "\n",
    "<br>\n",
    "\n",
    "![image](https://user-images.githubusercontent.com/50367487/63263541-e18c7280-c2c3-11e9-808e-8ace4eace6b3.png)"
   ]
  },
  {
   "cell_type": "code",
   "execution_count": null,
   "metadata": {},
   "outputs": [],
   "source": [
    "import sys; sys.stdin = open('ladder1.txt', 'r')\n",
    "\n",
    "for _ in range(10):\n",
    "\n",
    "    t = int(input())\n",
    "    arr = [list(map(int, input().split())) for _ in range(100)]\n",
    "\n",
    "    for j in range(100):\n",
    "        i = 0\n",
    "        a = j\n",
    "        if arr[i][a] == 1:\n",
    "            while i < 99:\n",
    "                if a < 99 and arr[i][a + 1] == 1:\n",
    "                    while a < 99 and arr[i][a + 1] == 1: a += 1\n",
    "                    i += 1\n",
    "                elif a > 0 and arr[i][a - 1] == 1:\n",
    "                    while a > 0 and arr[i][a - 1] == 1: a -= 1\n",
    "                    i += 1\n",
    "                else: i += 1\n",
    "\n",
    "        if arr[i][a] == 2:\n",
    "            print('#{} {}'.format(t, j))"
   ]
  },
  {
   "cell_type": "markdown",
   "metadata": {},
   "source": [
    "# 1267. 작업순서\n",
    "\n",
    "<br>\n",
    "\n",
    "![image](https://user-images.githubusercontent.com/50367487/63307610-f4399280-c329-11e9-932d-e81aa4883510.png)"
   ]
  },
  {
   "cell_type": "code",
   "execution_count": null,
   "metadata": {},
   "outputs": [],
   "source": [
    "import sys; sys.stdin = open('input.txt', 'r')\n",
    "\n",
    "for tc in range(10):\n",
    "    A, B = map(int, input().split())\n",
    "\n",
    "    data = list(map(int, input().split()))\n",
    "\n",
    "    arr = [[] for _ in range(A + 1)]\n",
    "    for i in range(0, len(data) - 1, 2):\n",
    "        arr[data[i]].append(data[i+1])\n",
    "\n",
    "    Num = [0 for _ in range(A + 1)]\n",
    "    for i in arr:\n",
    "        for j in i: Num[j] += 1\n",
    "\n",
    "    TS = []\n",
    "    for idx, i in enumerate(Num[1:]):\n",
    "        if i == 0:\n",
    "            if idx + 1 not in TS: TS.append(idx + 1)\n",
    "\n",
    "    while sum(Num) != 0:\n",
    "        for i in TS:\n",
    "            arr[i] = []\n",
    "\n",
    "        Num = [0 for _ in range(A + 1)]\n",
    "        for i in arr:\n",
    "            for j in i: Num[j] += 1\n",
    "\n",
    "        for idx, i in enumerate(Num[1:]):\n",
    "            if i == 0:\n",
    "                if idx + 1 not in TS: TS.append(idx + 1)\n",
    "\n",
    "    print('#{} {}'.format(tc + 1, ' '.join(map(str, TS))))"
   ]
  }
 ],
 "metadata": {
  "kernelspec": {
   "display_name": "Python 3",
   "language": "python",
   "name": "python3"
  },
  "language_info": {
   "codemirror_mode": {
    "name": "ipython",
    "version": 3
   },
   "file_extension": ".py",
   "mimetype": "text/x-python",
   "name": "python",
   "nbconvert_exporter": "python",
   "pygments_lexer": "ipython3",
   "version": "3.7.3"
  },
  "toc": {
   "base_numbering": 1,
   "nav_menu": {},
   "number_sections": true,
   "sideBar": true,
   "skip_h1_title": false,
   "title_cell": "Table of Contents",
   "title_sidebar": "Contents",
   "toc_cell": false,
   "toc_position": {},
   "toc_section_display": true,
   "toc_window_display": false
  }
 },
 "nbformat": 4,
 "nbformat_minor": 2
}
