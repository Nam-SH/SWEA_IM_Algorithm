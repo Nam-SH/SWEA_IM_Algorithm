{
 "cells": [
  {
   "cell_type": "markdown",
   "metadata": {},
   "source": [
    "# 5174. subtree\n",
    "\n",
    "<br>\n",
    "\n",
    "![image](https://user-images.githubusercontent.com/50367487/64059706-a7dd3500-cbfc-11e9-9418-cee3ed0e5736.png)"
   ]
  },
  {
   "cell_type": "code",
   "execution_count": null,
   "metadata": {},
   "outputs": [],
   "source": [
    "from collections import deque\n",
    "\n",
    "def find(N):\n",
    "    q = deque()\n",
    "    q.append(N)\n",
    "    check[N] = True\n",
    "    while q:\n",
    "        w = q.popleft()\n",
    "        for k in arr[w]:\n",
    "            if not check[k]:\n",
    "                check[k] = True\n",
    "                q.append(k)\n",
    "    return\n",
    "\n",
    "T = int(input())\n",
    "for tc in range(T):\n",
    "    E, N = map(int, input().split())\n",
    "    data = list(map(int, input().split()))\n",
    "\n",
    "    arr = [[] for _ in range(E + 2)]\n",
    "    check = [False] * (E + 2)\n",
    "\n",
    "    for i in range(0, len(data), 2):\n",
    "        arr[data[i]].append(data[i + 1])\n",
    "\n",
    "    find(N)\n",
    "    print('#{} {}'.format(str(tc + 1), sum(check)))"
   ]
  },
  {
   "cell_type": "markdown",
   "metadata": {},
   "source": [
    "# 5176. 이진탐색\n",
    "\n",
    "<br>\n",
    "\n",
    "![image](https://user-images.githubusercontent.com/50367487/64059710-b1669d00-cbfc-11e9-80cb-e08baaf6b33e.png)"
   ]
  },
  {
   "cell_type": "code",
   "execution_count": null,
   "metadata": {},
   "outputs": [],
   "source": [
    "import sys; sys.stdin = open('data/(5176)input.txt', 'r')\n",
    "\n",
    "def find(n):\n",
    "    global i\n",
    "\n",
    "    if n <= N:\n",
    "        find(n * 2)\n",
    "        arr[n] = i\n",
    "        i += 1\n",
    "        find(n * 2 + 1)\n",
    "    return\n",
    "\n",
    "for tc in range(int(input())):\n",
    "    N = int(input())\n",
    "    i = 1\n",
    "    arr = [0 for _ in range(N + 1)]\n",
    "    find(1)\n",
    "    print('#{} {} {}'.format(tc + 1, arr[1], arr[N//2]))"
   ]
  },
  {
   "cell_type": "markdown",
   "metadata": {},
   "source": [
    "# 5177. 이진 힙\n",
    "\n",
    "<br>\n",
    "\n",
    "![image](https://user-images.githubusercontent.com/50367487/64059712-b75c7e00-cbfc-11e9-958a-27fba81b4392.png)"
   ]
  },
  {
   "cell_type": "code",
   "execution_count": null,
   "metadata": {},
   "outputs": [],
   "source": [
    "import sys; sys.stdin = open('data/(5177)input.txt', 'r')\n",
    "\n",
    "import heapq\n",
    "\n",
    "for tc in range(int(input())):\n",
    "    N = int(input())\n",
    "    arr = list(map(int, input().split()))\n",
    "\n",
    "    heap = []\n",
    "    for i in arr:\n",
    "        heapq.heappush(heap, i)\n",
    "    res = 0\n",
    "    while N - 1 >= 1:\n",
    "        N //= 2\n",
    "        res += heap[N - 1]\n",
    "    print('#{} {}'.format(tc + 1, res))"
   ]
  },
  {
   "cell_type": "markdown",
   "metadata": {},
   "source": [
    "# 5178. 노드의 합\n",
    "\n",
    "<br>\n",
    "\n",
    "![image](https://user-images.githubusercontent.com/50367487/64059713-bdeaf580-cbfc-11e9-87e0-1f52692600ae.png)"
   ]
  },
  {
   "cell_type": "code",
   "execution_count": null,
   "metadata": {},
   "outputs": [],
   "source": [
    "import sys; sys.stdin = open('data/(5178)input.txt', 'r')\n",
    "\n",
    "\n",
    "def find(n):\n",
    "\n",
    "    l_n = n * 2\n",
    "    r_n = n * 2 + 1\n",
    "\n",
    "    if n > N: return\n",
    "    find(l_n)\n",
    "    find(r_n)\n",
    "    if l_n > N and l_n <= N:\n",
    "        arr[n] = arr[r_n]\n",
    "        return\n",
    "    if r_n > N and l_n <= N:\n",
    "        arr[n] = arr[l_n]\n",
    "        return\n",
    "    if r_n <= N and l_n <= N:\n",
    "        arr[n] = arr[r_n] + arr[l_n]\n",
    "    return\n",
    "\n",
    "for tc in range(int(input())):\n",
    "    N, M, L = map(int, input().split())\n",
    "    arr = [0]*(N + 1)\n",
    "\n",
    "    for _ in range(M):\n",
    "        idx, val = map(int, input().split())\n",
    "        arr[idx] = val\n",
    "    find(1)\n",
    "    print('#{} {}'.format(tc + 1, arr[L]))"
   ]
  },
  {
   "cell_type": "code",
   "execution_count": null,
   "metadata": {},
   "outputs": [],
   "source": [
    "import sys; sys.stdin = open('data/(5178)input.txt', 'r')\n",
    "\n",
    "def find(n):\n",
    "\n",
    "    l_n = n * 2\n",
    "    r_n = n * 2 + 1\n",
    "    if r_n > N and l_n > N: return\n",
    "    find(l_n)\n",
    "    find(r_n)\n",
    "    arr[n] = arr[r_n] + arr[l_n]\n",
    "\n",
    "for tc in range(int(input())):\n",
    "    N, M, L = map(int, input().split())\n",
    "    arr = [0]*(N + 1) + [0]\n",
    "\n",
    "    for _ in range(M):\n",
    "        idx, val = map(int, input().split())\n",
    "        arr[idx] = val\n",
    "    find(1)\n",
    "    print('#{} {}'.format(tc + 1, arr[L]))"
   ]
  }
 ],
 "metadata": {
  "kernelspec": {
   "display_name": "Python 3",
   "language": "python",
   "name": "python3"
  },
  "language_info": {
   "codemirror_mode": {
    "name": "ipython",
    "version": 3
   },
   "file_extension": ".py",
   "mimetype": "text/x-python",
   "name": "python",
   "nbconvert_exporter": "python",
   "pygments_lexer": "ipython3",
   "version": "3.7.4"
  },
  "toc": {
   "base_numbering": 1,
   "nav_menu": {},
   "number_sections": true,
   "sideBar": true,
   "skip_h1_title": false,
   "title_cell": "Table of Contents",
   "title_sidebar": "Contents",
   "toc_cell": false,
   "toc_position": {},
   "toc_section_display": true,
   "toc_window_display": false
  }
 },
 "nbformat": 4,
 "nbformat_minor": 4
}
