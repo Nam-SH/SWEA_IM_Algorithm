{
 "cells": [
  {
   "cell_type": "markdown",
   "metadata": {},
   "source": [
    "# 4836. 색칠하기\n",
    "\n",
    "<br>\n",
    "\n",
    "![image](https://user-images.githubusercontent.com/50367487/62107472-9abde500-b2e2-11e9-8c78-10b1e675a810.png)\n",
    "![image](https://user-images.githubusercontent.com/50367487/62107507-b1643c00-b2e2-11e9-9d82-7bda826760df.png)"
   ]
  },
  {
   "cell_type": "code",
   "execution_count": null,
   "metadata": {},
   "outputs": [],
   "source": [
    "T = int(input())\n",
    "    for k in range(T):\n",
    "        N = int(input())\n",
    "    \n",
    "        data = [[0]*10 for _ in range(10)]\n",
    "    \n",
    "        count = 0\n",
    "        for _ in range(N):\n",
    "            a, b, c, d, e = map(int, input().split())\n",
    "            for i in range(c-a+1):\n",
    "                for j in range(d-b+1):\n",
    "                    if data[a+i][b+j] == 0:\n",
    "                        data[a+i][b+j] = e\n",
    "                    if  or data[a+i][b+j] != e:\n",
    "                        data[a+i][b+j] = e\n",
    "                        count += 1\n",
    "                        \n",
    "        print('#{} {}'.format(k + 1, count))"
   ]
  }
 ],
 "metadata": {
  "kernelspec": {
   "display_name": "Python 3",
   "language": "python",
   "name": "python3"
  },
  "language_info": {
   "codemirror_mode": {
    "name": "ipython",
    "version": 3
   },
   "file_extension": ".py",
   "mimetype": "text/x-python",
   "name": "python",
   "nbconvert_exporter": "python",
   "pygments_lexer": "ipython3",
   "version": "3.7.6"
  },
  "toc": {
   "base_numbering": 1,
   "nav_menu": {},
   "number_sections": true,
   "sideBar": true,
   "skip_h1_title": false,
   "title_cell": "Table of Contents",
   "title_sidebar": "Contents",
   "toc_cell": false,
   "toc_position": {},
   "toc_section_display": true,
   "toc_window_display": false
  }
 },
 "nbformat": 4,
 "nbformat_minor": 4
}
