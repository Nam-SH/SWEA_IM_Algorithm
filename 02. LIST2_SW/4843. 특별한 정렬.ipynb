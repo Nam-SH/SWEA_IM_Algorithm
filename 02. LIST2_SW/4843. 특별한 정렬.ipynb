{
 "cells": [
  {
   "cell_type": "markdown",
   "metadata": {},
   "source": [
    "# 4843. 특별한 정렬\n",
    "\n",
    "<br>\n",
    "\n",
    "![image](https://user-images.githubusercontent.com/50367487/62819361-29f2b480-bb8f-11e9-95b0-02b02c84de02.png)"
   ]
  },
  {
   "cell_type": "code",
   "execution_count": null,
   "metadata": {},
   "outputs": [],
   "source": [
    "TC = int(input())\n",
    "for t in range(TC):\n",
    "    N = int(input())\n",
    "    data = sorted(map(int, input().split()))\n",
    "    small, big = data[:N//2], data[N//2:]\n",
    "\n",
    "    res = []\n",
    "    while len(small + big) != 0 and len(res) != 10:\n",
    "\n",
    "        if big:\n",
    "            res.append(big.pop())\n",
    "        if small:\n",
    "            res.append(small.pop(0))\n",
    "\n",
    "    print('#{} {}'.format(t + 1, ' '.join(map(str, res))))"
   ]
  }
 ],
 "metadata": {
  "kernelspec": {
   "display_name": "Python 3",
   "language": "python",
   "name": "python3"
  },
  "language_info": {
   "codemirror_mode": {
    "name": "ipython",
    "version": 3
   },
   "file_extension": ".py",
   "mimetype": "text/x-python",
   "name": "python",
   "nbconvert_exporter": "python",
   "pygments_lexer": "ipython3",
   "version": "3.7.6"
  },
  "toc": {
   "base_numbering": 1,
   "nav_menu": {},
   "number_sections": true,
   "sideBar": true,
   "skip_h1_title": false,
   "title_cell": "Table of Contents",
   "title_sidebar": "Contents",
   "toc_cell": false,
   "toc_position": {},
   "toc_section_display": true,
   "toc_window_display": false
  }
 },
 "nbformat": 4,
 "nbformat_minor": 4
}
