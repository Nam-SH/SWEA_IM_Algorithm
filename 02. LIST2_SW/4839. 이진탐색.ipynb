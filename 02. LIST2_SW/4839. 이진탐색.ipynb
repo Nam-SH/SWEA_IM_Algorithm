{
 "cells": [
  {
   "cell_type": "markdown",
   "metadata": {},
   "source": [
    "# 4839. 이진탐색\n",
    "\n",
    "<br>\n",
    "\n",
    "![image](https://user-images.githubusercontent.com/50367487/62107598-e7a1bb80-b2e2-11e9-851d-9d68babf14a9.png)"
   ]
  },
  {
   "cell_type": "code",
   "execution_count": null,
   "metadata": {},
   "outputs": [],
   "source": [
    "T = int(input())\n",
    "for t in range(T):\n",
    "    p, a, b = map(int, input().split())\n",
    "\n",
    "    def cnt(p, x):\n",
    "        l = 1\n",
    "        count = 1\n",
    "        while 1:\n",
    "            c = (l + p )//2\n",
    "            if c == x:\n",
    "                return count\n",
    "                break\n",
    "            elif c < x:\n",
    "                l = c\n",
    "            else:\n",
    "                p = c\n",
    "            count += 1\n",
    "\n",
    "    if cnt(p, a) == cnt(p, b):\n",
    "        print('#{} {}'.format(t + 1, 0) )\n",
    "    elif cnt(p, a) < cnt(p, b):\n",
    "        print('#{} {}'.format(t + 1, 'A') )\n",
    "    else:\n",
    "        print('#{} {}'.format(t + 1, 'B'))"
   ]
  }
 ],
 "metadata": {
  "kernelspec": {
   "display_name": "Python 3",
   "language": "python",
   "name": "python3"
  },
  "language_info": {
   "codemirror_mode": {
    "name": "ipython",
    "version": 3
   },
   "file_extension": ".py",
   "mimetype": "text/x-python",
   "name": "python",
   "nbconvert_exporter": "python",
   "pygments_lexer": "ipython3",
   "version": "3.7.6"
  },
  "toc": {
   "base_numbering": 1,
   "nav_menu": {},
   "number_sections": true,
   "sideBar": true,
   "skip_h1_title": false,
   "title_cell": "Table of Contents",
   "title_sidebar": "Contents",
   "toc_cell": false,
   "toc_position": {},
   "toc_section_display": true,
   "toc_window_display": false
  }
 },
 "nbformat": 4,
 "nbformat_minor": 4
}
