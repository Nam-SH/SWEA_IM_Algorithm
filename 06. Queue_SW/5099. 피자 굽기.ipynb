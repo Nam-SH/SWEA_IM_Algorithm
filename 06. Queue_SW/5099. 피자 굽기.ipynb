{
 "cells": [
  {
   "cell_type": "markdown",
   "metadata": {},
   "source": [
    "# 5099. 피자 굽기\n",
    "\n",
    "<br>\n",
    "\n",
    "![image](https://user-images.githubusercontent.com/50367487/63595458-fa629400-c5f3-11e9-9a12-e12b5b8bae60.png)"
   ]
  },
  {
   "cell_type": "code",
   "execution_count": null,
   "metadata": {},
   "outputs": [],
   "source": [
    "import sys; sys.stdin = open('data/(5099)input.txt', 'r')\n",
    "from collections import deque\n",
    "\n",
    "for tc in range(int(input())):\n",
    "    N, M = map(int, input().split())\n",
    "    arr = list(map(int, input().split()))\n",
    "    q = deque()\n",
    "\n",
    "    for i in range(N): q.append([arr[i], i + 1])\n",
    "\n",
    "    j = 0\n",
    "    while len(q) != 1:\n",
    "        q[0][0] //= 2\n",
    "        if q[0][0] != 0: q.append(q.popleft())\n",
    "        else:\n",
    "            q.popleft()\n",
    "            if N + j < M:\n",
    "                q.append([arr[N + j], N + j + 1])\n",
    "                j += 1\n",
    "\n",
    "    print('#{} {}'.format(tc + 1, q[0][1]))"
   ]
  }
 ],
 "metadata": {
  "kernelspec": {
   "display_name": "Python 3",
   "language": "python",
   "name": "python3"
  },
  "language_info": {
   "codemirror_mode": {
    "name": "ipython",
    "version": 3
   },
   "file_extension": ".py",
   "mimetype": "text/x-python",
   "name": "python",
   "nbconvert_exporter": "python",
   "pygments_lexer": "ipython3",
   "version": "3.7.6"
  },
  "toc": {
   "base_numbering": 1,
   "nav_menu": {},
   "number_sections": true,
   "sideBar": true,
   "skip_h1_title": false,
   "title_cell": "Table of Contents",
   "title_sidebar": "Contents",
   "toc_cell": false,
   "toc_position": {},
   "toc_section_display": true,
   "toc_window_display": false
  }
 },
 "nbformat": 4,
 "nbformat_minor": 4
}
