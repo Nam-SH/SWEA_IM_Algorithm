{
 "cells": [
  {
   "cell_type": "markdown",
   "metadata": {},
   "source": [
    "# 5102. 노드의 거리\n",
    "\n",
    "<br>\n",
    "\n",
    "![image](https://user-images.githubusercontent.com/50367487/63595469-00587500-c5f4-11e9-851c-9a0882351ce6.png)"
   ]
  },
  {
   "cell_type": "code",
   "execution_count": null,
   "metadata": {},
   "outputs": [],
   "source": [
    "import sys; sys.stdin = open('data/(5102)input.txt', 'r')\n",
    "from collections import deque\n",
    "\n",
    "def bfs(s):\n",
    "    global res\n",
    "    q.append(s)\n",
    "    visit[s] = True\n",
    "\n",
    "    while q:\n",
    "        s = q.popleft()\n",
    "        for k in arr[s]:\n",
    "            if arr[k] and not visit[k]:\n",
    "                q.append(k)\n",
    "                visit[k] = True\n",
    "                num[k] = num[s] +1\n",
    "                if k == g:\n",
    "                    res = num[k]\n",
    "                    return\n",
    "\n",
    "for tc in range(int(input())):\n",
    "    v, e = map(int, input().split())\n",
    "    arr = [[0] * (v+1) for _ in range(v+1)]\n",
    "    visit = [False] * (v+1)\n",
    "    num = [0] * (v+1)\n",
    "    res = 0\n",
    "    for i in range(e):\n",
    "        i, j = map(int, input().split())\n",
    "        arr[i].append(j)\n",
    "        arr[j].append(i)\n",
    "\n",
    "    s, g = map(int, input().split())\n",
    "    q = deque()\n",
    "    bfs(s)\n",
    "\n",
    "    print('#{} {}'.format(tc + 1, res))"
   ]
  }
 ],
 "metadata": {
  "kernelspec": {
   "display_name": "Python 3",
   "language": "python",
   "name": "python3"
  },
  "language_info": {
   "codemirror_mode": {
    "name": "ipython",
    "version": 3
   },
   "file_extension": ".py",
   "mimetype": "text/x-python",
   "name": "python",
   "nbconvert_exporter": "python",
   "pygments_lexer": "ipython3",
   "version": "3.7.6"
  },
  "toc": {
   "base_numbering": 1,
   "nav_menu": {},
   "number_sections": true,
   "sideBar": true,
   "skip_h1_title": false,
   "title_cell": "Table of Contents",
   "title_sidebar": "Contents",
   "toc_cell": false,
   "toc_position": {},
   "toc_section_display": true,
   "toc_window_display": false
  }
 },
 "nbformat": 4,
 "nbformat_minor": 4
}
