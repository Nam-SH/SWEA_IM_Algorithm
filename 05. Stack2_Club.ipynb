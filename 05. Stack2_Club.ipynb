{
 "cells": [
  {
   "cell_type": "markdown",
   "metadata": {},
   "source": [
    "# 1220. Magnetic\n",
    "\n",
    "<br>\n",
    "\n",
    "![image](https://user-images.githubusercontent.com/50367487/63670814-e055cb00-c818-11e9-9057-68a04e6d8154.png)"
   ]
  },
  {
   "cell_type": "code",
   "execution_count": null,
   "metadata": {},
   "outputs": [],
   "source": [
    "import sys; sys.stdin = open('(1220)input.txt', 'r')\n",
    "\n",
    "def find(i, j, N):\n",
    "    global cnt\n",
    "\n",
    "    if i + 1 == N: return\n",
    "\n",
    "    if arr[i][j] == 0 or arr[i][j] == 2: find(i + 1, j, N)\n",
    "\n",
    "    elif arr[i][j] == 1:\n",
    "        if arr[i + 1][j] == 0:\n",
    "            arr[i][j], arr[i + 1][j] = arr[i + 1][j], arr[i][j]\n",
    "            find(i + 1, j, N)\n",
    "\n",
    "        elif arr[i + 1][j] == 1: find(i + 1, j, N)\n",
    "\n",
    "        elif arr[i + 1][j] == 2:\n",
    "            cnt += 1\n",
    "            find(i + 1, j, N)\n",
    "\n",
    "for tc in range(10):\n",
    "    N = int(input())\n",
    "    arr = [list(map(int, input().split())) for _ in range(N)]\n",
    "    cnt = i = 0\n",
    "    for j in range(100): find(i, j, N)\n",
    "\n",
    "    print('#{} {}'.format(tc + 1, cnt))"
   ]
  },
  {
   "cell_type": "code",
   "execution_count": null,
   "metadata": {},
   "outputs": [],
   "source": [
    "for tc in range(10):\n",
    "    N = int(input())\n",
    "\n",
    "    arr = [list(map(int, input().split())) for _ in range(N)]\n",
    "\n",
    "    cnt = 0\n",
    "    for i in range(N):ㅇ\n",
    "        c = 0\n",
    "        for j in range(N):\n",
    "            if arr[j][i] == 1 and c == 0:\n",
    "                c = 1\n",
    "            if arr[j][i] == 2 and c == 1:\n",
    "                cnt += 1\n",
    "                c = 0\n",
    "\n",
    "    print(\"#{} {}\".format(tc + 1, cnt))"
   ]
  }
 ],
 "metadata": {
  "kernelspec": {
   "display_name": "Python 3",
   "language": "python",
   "name": "python3"
  },
  "language_info": {
   "codemirror_mode": {
    "name": "ipython",
    "version": 3
   },
   "file_extension": ".py",
   "mimetype": "text/x-python",
   "name": "python",
   "nbconvert_exporter": "python",
   "pygments_lexer": "ipython3",
   "version": "3.7.3"
  },
  "toc": {
   "base_numbering": 1,
   "nav_menu": {},
   "number_sections": true,
   "sideBar": true,
   "skip_h1_title": false,
   "title_cell": "Table of Contents",
   "title_sidebar": "Contents",
   "toc_cell": false,
   "toc_position": {},
   "toc_section_display": true,
   "toc_window_display": false
  }
 },
 "nbformat": 4,
 "nbformat_minor": 2
}
