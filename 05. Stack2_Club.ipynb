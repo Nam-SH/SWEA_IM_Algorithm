{
 "cells": [
  {
   "cell_type": "markdown",
   "metadata": {},
   "source": [
    "# 1220. Magnetic\n",
    "\n",
    "<br>\n",
    "\n",
    "![image](https://user-images.githubusercontent.com/50367487/63670814-e055cb00-c818-11e9-9057-68a04e6d8154.png)"
   ]
  },
  {
   "cell_type": "code",
   "execution_count": null,
   "metadata": {},
   "outputs": [],
   "source": [
    "import sys; sys.stdin = open('(1220)input.txt', 'r')\n",
    "\n",
    "def find(i, j, N):\n",
    "    global cnt\n",
    "\n",
    "    if i + 1 == N: return\n",
    "\n",
    "    if arr[i][j] == 0 or arr[i][j] == 2: find(i + 1, j, N)\n",
    "\n",
    "    elif arr[i][j] == 1:\n",
    "        if arr[i + 1][j] == 0:\n",
    "            arr[i][j], arr[i + 1][j] = arr[i + 1][j], arr[i][j]\n",
    "            find(i + 1, j, N)\n",
    "\n",
    "        elif arr[i + 1][j] == 1: find(i + 1, j, N)\n",
    "\n",
    "        elif arr[i + 1][j] == 2:\n",
    "            cnt += 1\n",
    "            find(i + 1, j, N)\n",
    "\n",
    "for tc in range(10):\n",
    "    N = int(input())\n",
    "    arr = [list(map(int, input().split())) for _ in range(N)]\n",
    "    cnt = i = 0\n",
    "    for j in range(100): find(i, j, N)\n",
    "\n",
    "    print('#{} {}'.format(tc + 1, cnt))"
   ]
  },
  {
   "cell_type": "code",
   "execution_count": null,
   "metadata": {},
   "outputs": [],
   "source": [
    "for tc in range(10):\n",
    "    N = int(input())\n",
    "\n",
    "    arr = [list(map(int, input().split())) for _ in range(N)]\n",
    "\n",
    "    cnt = 0\n",
    "    for i in range(N):\n",
    "        c = 0\n",
    "        for j in range(N):\n",
    "            if arr[j][i] == 1:\n",
    "                c = 1\n",
    "            if arr[j][i] == 2 and c == 1:\n",
    "                cnt += 1\n",
    "                c = 0\n",
    "\n",
    "    print(\"#{} {}\".format(tc + 1, cnt))"
   ]
  },
  {
   "cell_type": "markdown",
   "metadata": {},
   "source": [
    "# 1222. 계산기1\n",
    "\n",
    "<br>\n",
    "\n",
    "![image](https://user-images.githubusercontent.com/50367487/63696407-9d661880-c855-11e9-89a3-6d58552bfc63.png)"
   ]
  },
  {
   "cell_type": "code",
   "execution_count": null,
   "metadata": {},
   "outputs": [],
   "source": [
    "for tc in range(10):\n",
    "    N = int(input())\n",
    "    data = input()\n",
    "    num = [data[0]]\n",
    "\n",
    "    for i in range(1, N - 1):\n",
    "        if not data[i].isdigit():\n",
    "            b = data[i + 1]\n",
    "            a = num.pop()\n",
    "            val = int(a) + int(b)\n",
    "            num.append(val)\n",
    "\n",
    "    print('#{} {}'.format(tc + 1, *num))"
   ]
  },
  {
   "cell_type": "markdown",
   "metadata": {},
   "source": [
    "# 1223. 계산기2\n",
    "\n",
    "<br>\n",
    "\n",
    "![image](https://user-images.githubusercontent.com/50367487/63696445-ba025080-c855-11e9-81fa-b81ac2866bc8.png)"
   ]
  },
  {
   "cell_type": "code",
   "execution_count": null,
   "metadata": {},
   "outputs": [],
   "source": [
    "import sys; sys.stdin = open('data/(1223)input.txt', 'r')\n",
    "\n",
    "isp = {'(': 0, '+': 1, '-': 1, '*': 2, '/': 2}\n",
    "icp = {'(': 3, '+': 1, '-': 1, '*': 2, '/': 2}\n",
    "\n",
    "for tc in range(10):\n",
    "    N = int(input())\n",
    "    arr = input()\n",
    "    sign = []\n",
    "    res = []\n",
    "    for i in arr:\n",
    "        if i.isdigit(): res.append(i)\n",
    "\n",
    "        else:\n",
    "            if not sign: sign.append(i)\n",
    "\n",
    "            else:\n",
    "                if icp[i] > isp[sign[-1]]: sign.append(i)\n",
    "\n",
    "                else:\n",
    "                    while sign and icp[i] <= isp[sign[-1]]: res.append(sign.pop())\n",
    "                    sign.append(i)\n",
    "\n",
    "    while sign: res.append(sign.pop())\n",
    "\n",
    "    calc = []\n",
    "    for j in res:\n",
    "        if j.isdigit(): calc.append(j)\n",
    "\n",
    "        else:\n",
    "            b = int(calc.pop())\n",
    "            a = int(calc.pop())\n",
    "\n",
    "            if j == \"+\": c = a + b\n",
    "            else: c = a * b\n",
    "            calc.append(c)\n",
    "\n",
    "    print('#{} {}'.format(tc + 1, *calc))"
   ]
  },
  {
   "cell_type": "markdown",
   "metadata": {},
   "source": [
    "# 1224. 계산기3\n",
    "\n",
    "<br>\n",
    "\n",
    "![image](https://user-images.githubusercontent.com/50367487/63696452-bf5f9b00-c855-11e9-9c9f-c493e7987450.png)"
   ]
  },
  {
   "cell_type": "code",
   "execution_count": null,
   "metadata": {},
   "outputs": [],
   "source": [
    "import sys; sys.stdin = open('data/(1224)input.txt', 'r')\n",
    "\n",
    "isp = {'(': 0, '+': 1, '-': 1, '*': 2, '/': 2}\n",
    "icp = {'(': 3, '+': 1, '-': 1, '*': 2, '/': 2}\n",
    "\n",
    "for tc in range(10):\n",
    "    N = int(input())\n",
    "    arr = input()\n",
    "    sign = []\n",
    "    res = []\n",
    "    for i in arr:\n",
    "        if i.isdigit(): res.append(i)\n",
    "\n",
    "        else:\n",
    "            if not sign: sign.append(i)\n",
    "            else:\n",
    "                if i == ')':\n",
    "                    while sign[-1] != '(': res.append(sign.pop())\n",
    "                    sign.pop()\n",
    "                elif icp[i] > isp[sign[-1]]: sign.append(i)\n",
    "                else:\n",
    "                    while icp[i] <= isp[sign[-1]]: res.append(sign.pop())\n",
    "                    sign.append(i)\n",
    "\n",
    "    calc = []\n",
    "    for j in res:\n",
    "        if j.isdigit(): calc.append(j)\n",
    "        else:\n",
    "            b = int(calc.pop())\n",
    "            a = int(calc.pop())\n",
    "            if j == \"+\": c = a + b\n",
    "            else: c = a * b\n",
    "            calc.append(c)\n",
    "\n",
    "    print('#{} {}'.format(tc + 1, *calc))"
   ]
  },
  {
   "cell_type": "markdown",
   "metadata": {},
   "source": [
    "# 8444. IM 기출\n",
    "\n",
    "<br>\n",
    "\n",
    "![image](https://user-images.githubusercontent.com/50367487/63903833-e383cd80-ca49-11e9-975b-554b5f4028f6.png)"
   ]
  },
  {
   "cell_type": "code",
   "execution_count": null,
   "metadata": {},
   "outputs": [],
   "source": [
    "# 역방향\n",
    "\n",
    "import sys; sys.stdin = open('data/(8444)input.txt', 'r')\n",
    "\n",
    "for tc in range(int(input())):\n",
    "    N = int(input())\n",
    "    data = [0] + list(map(int, input().split()))\n",
    "\n",
    "    cnt = 0\n",
    "    for i in range(1, N + 1):\n",
    "        if data[i]:\n",
    "            for j in range(1, N//i + 1):\n",
    "                if data[i * j]: data[i * j] = 0\n",
    "                else: data[i * j] = 1\n",
    "            cnt += 1\n",
    "        if sum(data) == 0: break\n",
    "    print('#{} {}'.format(tc + 1, cnt))"
   ]
  },
  {
   "cell_type": "code",
   "execution_count": null,
   "metadata": {},
   "outputs": [],
   "source": [
    "# BFS 풀이 (정방향)"
   ]
  }
 ],
 "metadata": {
  "kernelspec": {
   "display_name": "Python 3",
   "language": "python",
   "name": "python3"
  },
  "language_info": {
   "codemirror_mode": {
    "name": "ipython",
    "version": 3
   },
   "file_extension": ".py",
   "mimetype": "text/x-python",
   "name": "python",
   "nbconvert_exporter": "python",
   "pygments_lexer": "ipython3",
   "version": "3.7.3"
  },
  "toc": {
   "base_numbering": 1,
   "nav_menu": {},
   "number_sections": true,
   "sideBar": true,
   "skip_h1_title": false,
   "title_cell": "Table of Contents",
   "title_sidebar": "Contents",
   "toc_cell": false,
   "toc_position": {},
   "toc_section_display": true,
   "toc_window_display": false
  }
 },
 "nbformat": 4,
 "nbformat_minor": 2
}
