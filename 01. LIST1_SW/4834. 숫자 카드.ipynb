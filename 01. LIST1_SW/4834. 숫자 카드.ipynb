{
 "cells": [
  {
   "cell_type": "markdown",
   "metadata": {},
   "source": [
    "# 4834. 숫자 카드\n",
    "\n",
    "![image](https://user-images.githubusercontent.com/50367487/62105891-a3142100-b2de-11e9-8caa-4475176d37e5.png)"
   ]
  },
  {
   "cell_type": "code",
   "execution_count": null,
   "metadata": {},
   "outputs": [],
   "source": [
    "T = int(input())\n",
    "\n",
    "for k in range(T):\n",
    "    N = int(input())\n",
    "    card = sorted(list(map(int, input())))\n",
    "\n",
    "    result = {}\n",
    "    for key in card:\n",
    "        if key not in result:\n",
    "            result[key] = 1\n",
    "        else:\n",
    "            result[key] += 1\n",
    "        res = {val: key for key, val in result.items()}\n",
    "\n",
    "    print('#{} {} {}'.format(k+1, res[max(res)], result[res[max(res)]]))"
   ]
  },
  {
   "cell_type": "code",
   "execution_count": null,
   "metadata": {},
   "outputs": [],
   "source": [
    "T = int(input())\n",
    "\n",
    "for k in range(T):\n",
    "    N = int(input())\n",
    "    card = sorted(list(map(int, input())))\n",
    "    \n",
    "    ztot = [0]*10\n",
    "    \n",
    "    for i in range(N):\n",
    "        ztot[int(cards[i])] += 1\n",
    "        \n",
    "    maxi = ztot[0]\n",
    "    for i in ragne(1, len(ztot)):\n",
    "        if maxi <= ztot[i]:\n",
    "            maxi = ztot[i]\n",
    "            idx = i\n",
    "    print('#{} {} {}'.format(k+1, ))"
   ]
  }
 ],
 "metadata": {
  "kernelspec": {
   "display_name": "Python 3",
   "language": "python",
   "name": "python3"
  },
  "language_info": {
   "codemirror_mode": {
    "name": "ipython",
    "version": 3
   },
   "file_extension": ".py",
   "mimetype": "text/x-python",
   "name": "python",
   "nbconvert_exporter": "python",
   "pygments_lexer": "ipython3",
   "version": "3.7.6"
  },
  "toc": {
   "base_numbering": 1,
   "nav_menu": {},
   "number_sections": true,
   "sideBar": true,
   "skip_h1_title": false,
   "title_cell": "Table of Contents",
   "title_sidebar": "Contents",
   "toc_cell": false,
   "toc_position": {},
   "toc_section_display": true,
   "toc_window_display": false
  }
 },
 "nbformat": 4,
 "nbformat_minor": 4
}
