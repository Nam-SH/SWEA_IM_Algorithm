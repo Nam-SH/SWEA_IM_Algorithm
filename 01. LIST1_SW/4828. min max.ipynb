{
 "cells": [
  {
   "cell_type": "markdown",
   "metadata": {},
   "source": [
    "# 4828. min max\n",
    "\n",
    "![image](https://user-images.githubusercontent.com/50367487/62105233-bfaf5980-b2dc-11e9-8238-5f3a483f3f01.png)"
   ]
  },
  {
   "cell_type": "code",
   "execution_count": null,
   "metadata": {},
   "outputs": [],
   "source": [
    "N = int(input())\n",
    "\n",
    "for k in range(N):\n",
    "    num = int(input())\n",
    "    ex_list = list(map(int, input().split()))\n",
    "\n",
    "    MAX = MIN = ex_list[0]\n",
    "    for val in ex_list[1:]:\n",
    "        if MAX < val:\n",
    "            MAX = int(val)\n",
    "        if MIN > val:\n",
    "            MIN = val\n",
    "            \n",
    "    print('#{} {}'.format(k+1, MAX - MIN))"
   ]
  }
 ],
 "metadata": {
  "kernelspec": {
   "display_name": "Python 3",
   "language": "python",
   "name": "python3"
  },
  "language_info": {
   "codemirror_mode": {
    "name": "ipython",
    "version": 3
   },
   "file_extension": ".py",
   "mimetype": "text/x-python",
   "name": "python",
   "nbconvert_exporter": "python",
   "pygments_lexer": "ipython3",
   "version": "3.7.6"
  },
  "toc": {
   "base_numbering": 1,
   "nav_menu": {},
   "number_sections": true,
   "sideBar": true,
   "skip_h1_title": false,
   "title_cell": "Table of Contents",
   "title_sidebar": "Contents",
   "toc_cell": false,
   "toc_position": {},
   "toc_section_display": true,
   "toc_window_display": false
  }
 },
 "nbformat": 4,
 "nbformat_minor": 4
}
