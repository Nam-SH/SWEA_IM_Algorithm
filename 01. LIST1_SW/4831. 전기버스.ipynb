{
 "cells": [
  {
   "cell_type": "markdown",
   "metadata": {},
   "source": [
    "# 4831. 전기버스\n",
    "\n",
    "![image](https://user-images.githubusercontent.com/50367487/62105819-7233ec00-b2de-11e9-86c8-085ded14457a.png)\n",
    "![image](https://user-images.githubusercontent.com/50367487/62105796-647e6680-b2de-11e9-8f8d-d5eba125ab7b.png)"
   ]
  },
  {
   "cell_type": "code",
   "execution_count": null,
   "metadata": {},
   "outputs": [],
   "source": [
    "T = int(input())\n",
    "\n",
    "for p in range(T):\n",
    "\n",
    "    k, n, m = list(map(int, input().split()))\n",
    "    m_list = list(map(int, input().split()))\n",
    "    loc = count = 0\n",
    "    \n",
    "    while loc < (n - k):\n",
    "        for j in range(k, 0, -1):\n",
    "            if (loc + j) in m_list:\n",
    "                loc += j\n",
    "                count += 1\n",
    "                break\n",
    "        else:\n",
    "            count = 0\n",
    "\n",
    "    print('#{} {}'.format(p+1, count))"
   ]
  },
  {
   "cell_type": "code",
   "execution_count": null,
   "metadata": {},
   "outputs": [],
   "source": [
    "T = int(input())\n",
    "\n",
    "for p in range(T):\n",
    "\n",
    "    k, n, m = list(map(int, input().split()))\n",
    "    arr = [0]  list(map(int, input().split())) + [N]\n",
    "    \n",
    "    ans = bus = 0\n",
    "    \n",
    "    for i in range(1, m + 2):\n",
    "        if arr[i] - arr[i - 1] > k:\n",
    "            ans = 0\n",
    "            break\n",
    "            \n",
    "        if arr[i] > bus > k:\n",
    "            bus = arr[i-1]\n",
    "            ans += 1\n",
    "    \n",
    "    print('#{} {}'.format(p+1, ans))"
   ]
  }
 ],
 "metadata": {
  "kernelspec": {
   "display_name": "Python 3",
   "language": "python",
   "name": "python3"
  },
  "language_info": {
   "codemirror_mode": {
    "name": "ipython",
    "version": 3
   },
   "file_extension": ".py",
   "mimetype": "text/x-python",
   "name": "python",
   "nbconvert_exporter": "python",
   "pygments_lexer": "ipython3",
   "version": "3.7.6"
  },
  "toc": {
   "base_numbering": 1,
   "nav_menu": {},
   "number_sections": true,
   "sideBar": true,
   "skip_h1_title": false,
   "title_cell": "Table of Contents",
   "title_sidebar": "Contents",
   "toc_cell": false,
   "toc_position": {},
   "toc_section_display": true,
   "toc_window_display": false
  }
 },
 "nbformat": 4,
 "nbformat_minor": 4
}
