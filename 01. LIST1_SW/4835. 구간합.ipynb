{
 "cells": [
  {
   "cell_type": "markdown",
   "metadata": {},
   "source": [
    "# 4835. 구간합\n",
    "\n",
    "![image](https://user-images.githubusercontent.com/50367487/62106028-16b62e00-b2df-11e9-9eeb-ae3ec013f12e.png)\n",
    "![image](https://user-images.githubusercontent.com/50367487/62106044-26357700-b2df-11e9-8d4f-a399a590e392.png)"
   ]
  },
  {
   "cell_type": "code",
   "execution_count": null,
   "metadata": {},
   "outputs": [],
   "source": [
    "# n*n의 시간비례도\n",
    "\n",
    "T = int(input())\n",
    "\n",
    "for k in range(T):\n",
    "    N, M = map(int, input().split())\n",
    "    n_list = list(map(int, input().split()))\n",
    "    \n",
    "    SUM = 0\n",
    "    for i in range(M):\n",
    "        SUM += n_list[i]\n",
    "    \n",
    "    MAX = MIN = SUN\n",
    "    for i in range(1, N-(M-1)):\n",
    "        \n",
    "        crt = 0\n",
    "        for j in range(i, i+M):\n",
    "            crt += n_list[j]\n",
    "        \n",
    "        if MAX < crt:\n",
    "            MAX = crt\n",
    "\n",
    "        if MIN > crt:\n",
    "            MIN = crt\n",
    "\n",
    "    print('#{} {}'.format(k+1, MAX - MIN))"
   ]
  },
  {
   "cell_type": "code",
   "execution_count": null,
   "metadata": {},
   "outputs": [],
   "source": [
    "# 슬라이딩 윈도우 for문이 하나 줄어 들음\n",
    "\n",
    "T = int(input())\n",
    "\n",
    "for k in range(T):\n",
    "    N, M = map(int, input().split())\n",
    "    arr = list(map(int, input().split()))\n",
    "    \n",
    "    SUM = 0\n",
    "    for i in range(M):\n",
    "        SUM += arr[i]\n",
    "    \n",
    "    MIN = MAX = SUM\n",
    "    for i in range(N - M + 1):\n",
    "        SUM += arr[i+M] - arr[i]\n",
    "        MIN = min(MIN, SUM)\n",
    "        MAX = max(MAX, SUM)\n",
    "        \n",
    "    print('#{} {}'.format(k+1, MAX - MIN))"
   ]
  }
 ],
 "metadata": {
  "kernelspec": {
   "display_name": "Python 3",
   "language": "python",
   "name": "python3"
  },
  "language_info": {
   "codemirror_mode": {
    "name": "ipython",
    "version": 3
   },
   "file_extension": ".py",
   "mimetype": "text/x-python",
   "name": "python",
   "nbconvert_exporter": "python",
   "pygments_lexer": "ipython3",
   "version": "3.7.6"
  },
  "toc": {
   "base_numbering": 1,
   "nav_menu": {},
   "number_sections": true,
   "sideBar": true,
   "skip_h1_title": false,
   "title_cell": "Table of Contents",
   "title_sidebar": "Contents",
   "toc_cell": false,
   "toc_position": {},
   "toc_section_display": true,
   "toc_window_display": false
  }
 },
 "nbformat": 4,
 "nbformat_minor": 4
}
