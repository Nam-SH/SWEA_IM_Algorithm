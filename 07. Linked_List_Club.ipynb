{
 "cells": [
  {
   "cell_type": "markdown",
   "metadata": {},
   "source": [
    "# 1228. 암호문1\n",
    "\n",
    "<br>\n",
    "\n",
    "![image](https://user-images.githubusercontent.com/50367487/63696743-52003a00-c856-11e9-86a2-dcf529ed940d.png)"
   ]
  },
  {
   "cell_type": "code",
   "execution_count": null,
   "metadata": {},
   "outputs": [],
   "source": [
    "import sys; sys.stdin = open('data/(1228)input.txt', 'r')\n",
    "\n",
    "for tc in range(10):\n",
    "    N = int(input())\n",
    "    data = input().split()\n",
    "\n",
    "    T = int(input())\n",
    "\n",
    "    arr = input().split()\n",
    "    cnt = i = 0\n",
    "    while cnt != T:\n",
    "        if arr[i] == 'I':\n",
    "            loc = int(arr[i + 1])\n",
    "            num = int(arr[i + 2])\n",
    "            for j in range(i + 3, i + 3 + num):\n",
    "                data.insert(loc, arr[j])\n",
    "                loc += 1\n",
    "        cnt += 1\n",
    "        i += 3 + num\n",
    "\n",
    "    print('#{}'.format(tc + 1), *data[:10])"
   ]
  },
  {
   "cell_type": "markdown",
   "metadata": {},
   "source": [
    "# 1229. 암호문2\n",
    "\n",
    "<br>\n",
    "\n",
    "![image](https://user-images.githubusercontent.com/50367487/63696753-588eb180-c856-11e9-9a2a-bff930bb7b89.png)"
   ]
  },
  {
   "cell_type": "code",
   "execution_count": null,
   "metadata": {},
   "outputs": [],
   "source": [
    "import sys; sys.stdin = open('data/(1229)input.txt', 'r')\n",
    "\n",
    "for tc in range(10):\n",
    "    basic_n = int(input())\n",
    "    basic_data = input().split()\n",
    "\n",
    "    N = int(input())\n",
    "    data = input().split()\n",
    "\n",
    "    cnt = i = 0\n",
    "    while cnt != N:\n",
    "        if data[i] == 'I':\n",
    "            x = int(data[i + 1])\n",
    "            y = int(data[i + 2])\n",
    "            for j in range(i + 3, i + 3 + y):\n",
    "                basic_data.insert(x, data[j])\n",
    "                x += 1\n",
    "            i += 3 + y\n",
    "\n",
    "        elif data[i] == 'D':\n",
    "            x = int(data[i + 1])\n",
    "            y = int(data[i + 2])\n",
    "            for _ in range(y):\n",
    "                basic_data.pop(x)\n",
    "            i += 3\n",
    "        cnt += 1\n",
    "\n",
    "    print('#{}'.format(tc + 1), *basic_data[:10])"
   ]
  },
  {
   "cell_type": "markdown",
   "metadata": {},
   "source": [
    "# 1230. 암호문3\n",
    "\n",
    "<br>\n",
    "\n",
    "![image](https://user-images.githubusercontent.com/50367487/63696758-5e849280-c856-11e9-9bd3-626f06ae081e.png)"
   ]
  },
  {
   "cell_type": "code",
   "execution_count": null,
   "metadata": {},
   "outputs": [],
   "source": [
    "import sys; sys.stdin = open('data/(1230)input.txt', 'r')\n",
    "\n",
    "for tc in range(10):\n",
    "    basic_n = int(input())\n",
    "    basic_data = input().split()\n",
    "\n",
    "    N = int(input())\n",
    "    data = input().split()\n",
    "\n",
    "    cnt = i = 0\n",
    "    while cnt != N:\n",
    "        if data[i] == 'I':\n",
    "            x = int(data[i + 1])\n",
    "            y = int(data[i + 2])\n",
    "            for j in range(i + 3, i + 3 + y):\n",
    "                basic_data.insert(x, data[j])\n",
    "                x += 1\n",
    "            i += 3 + y\n",
    "\n",
    "        elif data[i] == 'D':\n",
    "            x = int(data[i + 1])\n",
    "            y = int(data[i + 2])\n",
    "            for _ in range(y):\n",
    "                basic_data.pop(x)\n",
    "            i += 3\n",
    "\n",
    "        elif data[i] == 'A':\n",
    "            y = int(data[i + 1])\n",
    "            for j in range(i + 2, i + 2 + y):\n",
    "                basic_data.append(data[j])\n",
    "            i += 2 + y\n",
    "\n",
    "        cnt += 1\n",
    "\n",
    "    print('#{}'.format(tc + 1), *basic_data[:10])\n"
   ]
  },
  {
   "cell_type": "markdown",
   "metadata": {},
   "source": [
    "# 6485. 삼성시의 버스 노선\n",
    "\n",
    "<br>\n",
    "\n",
    "![image](https://user-images.githubusercontent.com/50367487/64095683-7d28e300-cd9a-11e9-84a0-9c3f23cea5b3.png)"
   ]
  },
  {
   "cell_type": "code",
   "execution_count": null,
   "metadata": {},
   "outputs": [],
   "source": [
    "import sys; sys.stdin = open('data/(6485)input.txt', 'r')\n",
    "\n",
    "for tc in range(int(input())):\n",
    "    N = int(input())\n",
    "    arr = [0] * 5001\n",
    "\n",
    "    for _ in range(N):\n",
    "        a, b = map(int, input().split())\n",
    "        for i in range(a, b + 1):\n",
    "            arr[i] += 1\n",
    "\n",
    "    print('#' + str(tc + 1), end=' ')\n",
    "    for _ in range(int(input())):\n",
    "        print(arr[int(input())], end = ' ')\n",
    "    print()"
   ]
  },
  {
   "cell_type": "markdown",
   "metadata": {},
   "source": [
    "# 1258. 행렬찾기\n",
    "\n",
    "<br>\n",
    "\n",
    "![image](https://user-images.githubusercontent.com/50367487/64100730-24137c00-cda7-11e9-90c5-e05b53ae717c.png)"
   ]
  },
  {
   "cell_type": "code",
   "execution_count": null,
   "metadata": {},
   "outputs": [],
   "source": []
  }
 ],
 "metadata": {
  "kernelspec": {
   "display_name": "Python 3",
   "language": "python",
   "name": "python3"
  },
  "language_info": {
   "codemirror_mode": {
    "name": "ipython",
    "version": 3
   },
   "file_extension": ".py",
   "mimetype": "text/x-python",
   "name": "python",
   "nbconvert_exporter": "python",
   "pygments_lexer": "ipython3",
   "version": "3.7.3"
  },
  "toc": {
   "base_numbering": 1,
   "nav_menu": {},
   "number_sections": true,
   "sideBar": true,
   "skip_h1_title": false,
   "title_cell": "Table of Contents",
   "title_sidebar": "Contents",
   "toc_cell": false,
   "toc_position": {},
   "toc_section_display": true,
   "toc_window_display": false
  }
 },
 "nbformat": 4,
 "nbformat_minor": 2
}
