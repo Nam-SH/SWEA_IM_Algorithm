{
 "cells": [
  {
   "cell_type": "markdown",
   "metadata": {},
   "source": [
    "# 1231. 중위순회\n",
    "\n",
    "<br>\n",
    "\n",
    "![image](https://user-images.githubusercontent.com/50367487/63696772-65aba080-c856-11e9-8c36-30b13b83ba42.png)"
   ]
  },
  {
   "cell_type": "code",
   "execution_count": null,
   "metadata": {},
   "outputs": [],
   "source": [
    "import sys; sys.stdin = open('data/(1231)input.txt', 'r')\n",
    "\n",
    "def find(n):\n",
    "    if n <= N:\n",
    "        find(n * 2)\n",
    "        print(lst[n][1], end='')\n",
    "        find(n * 2 + 1)\n",
    "    return\n",
    "\n",
    "for tc in range(10):\n",
    "    N = int(input())\n",
    "    lst = [0] + [input().split() for _ in range(N)]\n",
    "    print('#' + str(tc + 1), end=' '); find(1)\n",
    "    print()"
   ]
  },
  {
   "cell_type": "markdown",
   "metadata": {},
   "source": [
    "# 1232. 사칙연산\n",
    "\n",
    "<br>\n",
    "\n",
    "![image](https://user-images.githubusercontent.com/50367487/63696795-73612600-c856-11e9-8240-c232c824dd0b.png)"
   ]
  },
  {
   "cell_type": "code",
   "execution_count": null,
   "metadata": {},
   "outputs": [],
   "source": [
    "import sys; sys.stdin = open('data/(1232)input.txt', 'r')\n",
    "\n",
    "def find(n):\n",
    "    if len(arr[n]) == 2: return arr[n][1]\n",
    "    else:\n",
    "        a = find(int(arr[n][2]))\n",
    "        b = arr[n][1]\n",
    "        c = find(int(arr[n][3]))\n",
    "        return str(eval(a + b + c))\n",
    "\n",
    "for tc in range(10):\n",
    "    N = int(input())\n",
    "    arr = [0] + [input().split() for i in range(N)]\n",
    "    print('#{} {}'.format(tc + 1, round(float(find(1)))))"
   ]
  },
  {
   "cell_type": "markdown",
   "metadata": {},
   "source": [
    "# 1233. 사칙연산 유효성 검사\n",
    "\n",
    "<br>\n",
    "\n",
    "![image](https://user-images.githubusercontent.com/50367487/63696790-6cd2ae80-c856-11e9-895d-6f76644e664d.png)"
   ]
  },
  {
   "cell_type": "code",
   "execution_count": null,
   "metadata": {},
   "outputs": [],
   "source": [
    "import sys; sys.stdin = open('data/(1233)input.txt', 'r')\n",
    "\n",
    "for tc in range(10):\n",
    "    N = int(input())\n",
    "    res = 1\n",
    "    for _ in range(N):\n",
    "        data = input().split()[1:]\n",
    "        if len(data) == 1:\n",
    "            if not data[0].isdigit():\n",
    "                res = 0\n",
    "    print('#{} {}'.format(tc + 1, res))"
   ]
  },
  {
   "cell_type": "markdown",
   "metadata": {},
   "source": [
    "# 1234. 비밀번호\n",
    "\n",
    "<br>\n",
    "\n",
    "![image](https://user-images.githubusercontent.com/50367487/63696807-7a883400-c856-11e9-8963-2ef87bd0852e.png)"
   ]
  },
  {
   "cell_type": "code",
   "execution_count": null,
   "metadata": {},
   "outputs": [],
   "source": [
    "import sys; sys.stdin = open('data/(1234)input.txt', 'r')\n",
    "\n",
    "for tc in range(10):\n",
    "    N, data = input().split()\n",
    "    res = []\n",
    "    for i in range(int(N)):\n",
    "        if res:\n",
    "            if data[i] != res[-1]:\n",
    "                res.append(data[i])\n",
    "            else:\n",
    "                res.pop()\n",
    "        else: res.append(data[i])\n",
    "\n",
    "    print('#{} {}'.format(tc + 1, ''.join(res)))"
   ]
  }
 ],
 "metadata": {
  "kernelspec": {
   "display_name": "Python 3",
   "language": "python",
   "name": "python3"
  },
  "language_info": {
   "codemirror_mode": {
    "name": "ipython",
    "version": 3
   },
   "file_extension": ".py",
   "mimetype": "text/x-python",
   "name": "python",
   "nbconvert_exporter": "python",
   "pygments_lexer": "ipython3",
   "version": "3.7.3"
  },
  "toc": {
   "base_numbering": 1,
   "nav_menu": {},
   "number_sections": true,
   "sideBar": true,
   "skip_h1_title": false,
   "title_cell": "Table of Contents",
   "title_sidebar": "Contents",
   "toc_cell": false,
   "toc_position": {},
   "toc_section_display": true,
   "toc_window_display": false
  }
 },
 "nbformat": 4,
 "nbformat_minor": 2
}
