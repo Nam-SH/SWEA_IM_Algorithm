{
 "cells": [
  {
   "cell_type": "markdown",
   "metadata": {},
   "source": [
    "# 4864. 3일차 - 문자열 비교\n",
    "\n",
    "![image](https://user-images.githubusercontent.com/50367487/62300702-3cdff780-b4b2-11e9-85db-c4b2e9dda5b4.png)\n",
    "![image](https://user-images.githubusercontent.com/50367487/62300812-6ac53c00-b4b2-11e9-8aba-2447b6b8bf4e.png)"
   ]
  },
  {
   "cell_type": "code",
   "execution_count": null,
   "metadata": {},
   "outputs": [],
   "source": [
    "T = int(input())\n",
    "\n",
    "for t in range(T):\n",
    "    st = input()\n",
    "    nd = input()\n",
    "\n",
    "    res = 0\n",
    "    for i in range(len(nd)-len(st)+1):\n",
    "        if nd[i:i+len(st)] == st:\n",
    "            res = 1\n",
    "\n",
    "    print('#{} {}'.format(t + 1, res))"
   ]
  },
  {
   "cell_type": "markdown",
   "metadata": {},
   "source": [
    "# 4861. 3일차 - 회문\n",
    "\n",
    "<br>\n",
    "\n",
    "![image](https://user-images.githubusercontent.com/50367487/62423668-6a20e580-b6fe-11e9-8870-f320f1e460a6.png)"
   ]
  },
  {
   "cell_type": "markdown",
   "metadata": {},
   "source": [
    "```\n",
    "3\n",
    "10 10\n",
    "GOFFAKWFSM\n",
    "OYECRSLDLQ\n",
    "UJAJQVSYYC\n",
    "JAEZNNZEAJ\n",
    "WJAKCGSGCF\n",
    "QKUDGATDQL\n",
    "OKGPFPYRKQ\n",
    "TDCXBMQTIO\n",
    "UNADRPNETZ\n",
    "ZATWDEKDQF\n",
    "10 10\n",
    "WPMACSIBIK\n",
    "STWASDCOBQ\n",
    "AMOUENCSOG\n",
    "XTIIGBLRCZ\n",
    "WXVSWXYYVU\n",
    "CJVAHRZZEM\n",
    "NDIEBIIMTX\n",
    "UOOGPQCBIW\n",
    "OWWATKUEUY\n",
    "FTMERSSANL\n",
    "20 13\n",
    "ECFQBKSYBBOSZQSFBXKI\n",
    "VBOAIDLYEXYMNGLLIOPP\n",
    "AIZMTVJBZAWSJEIGAKWB\n",
    "CABLQKMRFNBINNZSOGNT\n",
    "NQLMHYUMBOCSZWIOBINM\n",
    "QJZQPSOMNQELBPLVXNRN\n",
    "RHMDWPBHDAMWROUFTPYH\n",
    "FNERUGIFZNLJSSATGFHF\n",
    "TUIAXPMHFKDLQLNYQBPW\n",
    "OPIRADJURRDLTDKZGOGA\n",
    "JHYXHBQTLMMHOOOHMMLT\n",
    "XXCNJGTXXKUCVOUYNXZR\n",
    "RMWTQQFHZUIGCJBASNOX\n",
    "CVODFKWMJSGMFTCSLLWO\n",
    "EJISQCXLNQHEIXXZSGKG\n",
    "KGVFJLNNBTVXJLFXPOZA\n",
    "YUNDJDSSOPRVSLLHGKGZ\n",
    "OZVTWRYWRFIAIPEYRFFG\n",
    "```"
   ]
  },
  {
   "cell_type": "markdown",
   "metadata": {},
   "source": [
    "```\n",
    "#1 JAEZNNZEAJ\n",
    "#2 MWOIVVIOWM\n",
    "#3 TLMMHOOOHMMLT\n",
    "```"
   ]
  },
  {
   "cell_type": "code",
   "execution_count": null,
   "metadata": {},
   "outputs": [],
   "source": [
    "T = int(input())\n",
    "for t in range(T):\n",
    "    N, M = map(int, input().split())\n",
    "    data = []\n",
    "    for n in range(N):\n",
    "        sub = []\n",
    "        sub.append(input())\n",
    "        data.append(sub)\n",
    "\n",
    "    for d in data:\n",
    "        if d[0] == d[0][::-1]:\n",
    "            \n",
    "            \n",
    "            \n",
    "            \n",
    "            \n",
    "            \n",
    "            \n",
    "            \n",
    "            \n",
    "            print('#{} {}'.format(t + 1, d))"
   ]
  }
 ],
 "metadata": {
  "kernelspec": {
   "display_name": "Python 3",
   "language": "python",
   "name": "python3"
  },
  "language_info": {
   "codemirror_mode": {
    "name": "ipython",
    "version": 3
   },
   "file_extension": ".py",
   "mimetype": "text/x-python",
   "name": "python",
   "nbconvert_exporter": "python",
   "pygments_lexer": "ipython3",
   "version": "3.7.3"
  },
  "toc": {
   "base_numbering": 1,
   "nav_menu": {},
   "number_sections": true,
   "sideBar": true,
   "skip_h1_title": false,
   "title_cell": "Table of Contents",
   "title_sidebar": "Contents",
   "toc_cell": false,
   "toc_position": {},
   "toc_section_display": true,
   "toc_window_display": false
  }
 },
 "nbformat": 4,
 "nbformat_minor": 2
}
