{
 "cells": [
  {
   "cell_type": "markdown",
   "metadata": {},
   "source": [
    "# 5097. 회전\n",
    "\n",
    "<br>\n",
    "\n",
    "![image](https://user-images.githubusercontent.com/50367487/63595450-f33b8600-c5f3-11e9-89a7-e1935176ebf7.png)"
   ]
  },
  {
   "cell_type": "code",
   "execution_count": null,
   "metadata": {},
   "outputs": [],
   "source": [
    "import sys; sys.stdin = open('(5097)input.txt', 'r')\n",
    "\n",
    "for tc in range(int(input())):\n",
    "    N, M = map(int, input().split())\n",
    "    arr = input().split()\n",
    "\n",
    "    i = M % N\n",
    "    print('#{} {}'.format(tc + 1, arr[i]))"
   ]
  },
  {
   "cell_type": "markdown",
   "metadata": {},
   "source": [
    "# 5099. 피자 굽기\n",
    "\n",
    "<br>\n",
    "\n",
    "![image](https://user-images.githubusercontent.com/50367487/63595458-fa629400-c5f3-11e9-9a12-e12b5b8bae60.png)"
   ]
  },
  {
   "cell_type": "code",
   "execution_count": null,
   "metadata": {},
   "outputs": [],
   "source": [
    "import sys; sys.stdin = open('data/(5099)input.txt', 'r')\n",
    "from collections import deque\n",
    "\n",
    "for tc in range(int(input())):\n",
    "    N, M = map(int, input().split())\n",
    "    arr = list(map(int, input().split()))\n",
    "    q = deque()\n",
    "\n",
    "    for i in range(N): q.append([arr[i], i + 1])\n",
    "\n",
    "    j = 0\n",
    "    while len(q) != 1:\n",
    "        q[0][0] //= 2\n",
    "        if q[0][0] != 0: q.append(q.popleft())\n",
    "        else:\n",
    "            q.popleft()\n",
    "            if N + j < M:\n",
    "                q.append([arr[N + j], N + j + 1])\n",
    "                j += 1\n",
    "\n",
    "    print('#{} {}'.format(tc + 1, q[0][1]))"
   ]
  },
  {
   "cell_type": "markdown",
   "metadata": {},
   "source": [
    "# 5102. 노드의 거리\n",
    "\n",
    "<br>\n",
    "\n",
    "![image](https://user-images.githubusercontent.com/50367487/63595469-00587500-c5f4-11e9-851c-9a0882351ce6.png)"
   ]
  },
  {
   "cell_type": "code",
   "execution_count": null,
   "metadata": {},
   "outputs": [],
   "source": [
    "import sys; sys.stdin = open('data/(5102)input.txt', 'r')\n",
    "from collections import deque\n",
    "\n",
    "def bfs(s):\n",
    "    global res\n",
    "    q.append(s)\n",
    "    visit[s] = True\n",
    "\n",
    "    while q:\n",
    "        s = q.popleft()\n",
    "        for k in arr[s]:\n",
    "            if arr[k] and not visit[k]:\n",
    "                q.append(k)\n",
    "                visit[k] = True\n",
    "                num[k] = num[s] +1\n",
    "                if k == g:\n",
    "                    res = num[k]\n",
    "                    return\n",
    "\n",
    "for tc in range(int(input())):\n",
    "    v, e = map(int, input().split())\n",
    "    arr = [[0] * (v+1) for _ in range(v+1)]\n",
    "    visit = [False] * (v+1)\n",
    "    num = [0] * (v+1)\n",
    "    res = 0\n",
    "    for i in range(e):\n",
    "        i, j = map(int, input().split())\n",
    "        arr[i].append(j)\n",
    "        arr[j].append(i)\n",
    "\n",
    "    s, g = map(int, input().split())\n",
    "    q = deque()\n",
    "    bfs(s)\n",
    "\n",
    "    print('#{} {}'.format(tc + 1, res))"
   ]
  },
  {
   "cell_type": "markdown",
   "metadata": {},
   "source": [
    "# 5105. 미로의 거리\n",
    "\n",
    "<br>\n",
    "\n",
    "![image](https://user-images.githubusercontent.com/50367487/63595472-051d2900-c5f4-11e9-9a80-9696b5a3ca5d.png)"
   ]
  },
  {
   "cell_type": "code",
   "execution_count": null,
   "metadata": {},
   "outputs": [],
   "source": [
    "import sys; sys.stdin = open('data/(5105)input.txt', 'r')\n",
    "from collections import deque\n",
    "\n",
    "def bfs(arr, i, j):\n",
    "    global check, visit, res\n",
    "\n",
    "    while q:\n",
    "        i, j = q.popleft()\n",
    "        for dx, dy in delta:\n",
    "            tx = i + dx\n",
    "            ty = j + dy\n",
    "            if N > tx >= 0 and N > ty >= 0:\n",
    "                if arr[tx][ty] == 0 and check[tx][ty] == False:\n",
    "                    q.append((tx, ty))\n",
    "                    visit[tx][ty] = visit[i][j] + 1\n",
    "                    check[tx][ty] = True\n",
    "                    bfs(arr, tx, ty)\n",
    "                if arr[tx][ty] == 3:\n",
    "                    res = visit[i][j]\n",
    "                    return\n",
    "    return 0\n",
    "\n",
    "delta = [(-1, 0), (1, 0), (0, -1), (0, 1)]\n",
    "\n",
    "for tc in range(int(input())):\n",
    "    N = int(input())\n",
    "    arr = [list(map(int, input())) for _ in range(N)]\n",
    "    check = [[False for _ in range(N)] for _ in range(N)]\n",
    "    visit = [[0] * N for _ in range(N)]\n",
    "    q = deque()\n",
    "    res = 0\n",
    "    for i in range(N):\n",
    "        for j in range(N):\n",
    "            if arr[i][j] == 2:\n",
    "                q.append((i, j))\n",
    "                check[i][j] = True\n",
    "                bfs(arr, i, j)\n",
    "                print('#{} {}'.format(tc + 1, res))\n",
    "                break"
   ]
  }
 ],
 "metadata": {
  "kernelspec": {
   "display_name": "Python 3",
   "language": "python",
   "name": "python3"
  },
  "language_info": {
   "codemirror_mode": {
    "name": "ipython",
    "version": 3
   },
   "file_extension": ".py",
   "mimetype": "text/x-python",
   "name": "python",
   "nbconvert_exporter": "python",
   "pygments_lexer": "ipython3",
   "version": "3.7.3"
  },
  "toc": {
   "base_numbering": 1,
   "nav_menu": {},
   "number_sections": true,
   "sideBar": true,
   "skip_h1_title": false,
   "title_cell": "Table of Contents",
   "title_sidebar": "Contents",
   "toc_cell": false,
   "toc_position": {},
   "toc_section_display": true,
   "toc_window_display": false
  }
 },
 "nbformat": 4,
 "nbformat_minor": 2
}
