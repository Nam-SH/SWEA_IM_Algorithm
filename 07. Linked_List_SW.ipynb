{
 "cells": [
  {
   "cell_type": "markdown",
   "metadata": {},
   "source": [
    "# 5108. 숫자추가\n",
    "\n",
    "<br>\n",
    "\n",
    "![image](https://user-images.githubusercontent.com/50367487/63827202-3eabb680-c99d-11e9-86b6-f5bc12ad449a.png)"
   ]
  },
  {
   "cell_type": "code",
   "execution_count": null,
   "metadata": {},
   "outputs": [],
   "source": [
    "import sys; sys.stdin = open('data/(5108)input.txt', 'r')\n",
    "\n",
    "for tc in range(int(input())):\n",
    "    N, M, L = map(int, input().split())\n",
    "\n",
    "    arr = list(map(int, input().split()))\n",
    "\n",
    "    for _ in range(M):\n",
    "        idx, num = map(int, input().split())\n",
    "        arr.insert(idx, num)\n",
    "\n",
    "    print('#{} {}'.format(tc + 1, arr[L]))"
   ]
  },
  {
   "cell_type": "markdown",
   "metadata": {},
   "source": [
    "# 5110. 수열합치기\n",
    "\n",
    "<br>\n",
    "\n",
    "![image](https://user-images.githubusercontent.com/50367487/63827210-44090100-c99d-11e9-9ac1-586c95d2eed0.png)"
   ]
  },
  {
   "cell_type": "code",
   "execution_count": null,
   "metadata": {},
   "outputs": [],
   "source": [
    "# 시간초과\n",
    "\n",
    "import sys; sys.stdin = open('data/(5110)input.txt', 'r')\n",
    "\n",
    "for tc in range(int(input())):\n",
    "    N, M = map(int, input().split())\n",
    "    q = list(map(int, input().split()))\n",
    "    all_data = [list(map(int, input().split())) for i in range(M - 1)]\n",
    "\n",
    "    for data in all_data:\n",
    "        for j in range(len(q)):\n",
    "            if data[0] < q[j]:\n",
    "                q = [q[k] for k in range(j)] + data + [q[k] for k in range(j, len(q))]\n",
    "                break\n",
    "        else:\n",
    "            q.extend(data)\n",
    "\n",
    "    print('#' + str(tc + 1), end = ' ')\n",
    "    for i in range(1, 11): print(q[-i], end=' ')\n",
    "    print()"
   ]
  },
  {
   "cell_type": "markdown",
   "metadata": {},
   "source": [
    "# 5120. 암호\n",
    "\n",
    "<br>\n",
    "\n",
    "![image](https://user-images.githubusercontent.com/50367487/63827220-49fee200-c99d-11e9-89be-bf03c7f4154f.png)"
   ]
  },
  {
   "cell_type": "code",
   "execution_count": null,
   "metadata": {},
   "outputs": [],
   "source": [
    "import sys; sys.stdin = open('data/(5120)input.txt', 'r')\n",
    "\n",
    "TC = int(input())\n",
    "\n",
    "for tc in range(TC):\n",
    "    N, M, K = map(int, input().split())\n",
    "    arr = list(map(int, input().split()))\n",
    "\n",
    "    s = M\n",
    "    for i in range(K):\n",
    "        if s < len(arr):\n",
    "            arr.insert(s, arr[s - 1] + arr[s])\n",
    "            s += M\n",
    "\n",
    "        elif s == len(arr):\n",
    "            arr.append(arr[s - 1] + arr[0])\n",
    "            s += M - len(arr)\n",
    "\n",
    "        else:\n",
    "            s = s - len(arr)\n",
    "            arr.insert(s, arr[s - 1] + arr[s])\n",
    "            s += M\n",
    "\n",
    "    arr.reverse()\n",
    "    arr = arr[:10]\n",
    "    print(tc + 1, *arr)"
   ]
  },
  {
   "cell_type": "markdown",
   "metadata": {},
   "source": [
    "# 5122. 수열 편집\n",
    "\n",
    "<br>\n",
    "\n",
    "![image](https://user-images.githubusercontent.com/50367487/63827232-5125f000-c99d-11e9-99ca-ca14b843c97c.png)"
   ]
  },
  {
   "cell_type": "code",
   "execution_count": null,
   "metadata": {},
   "outputs": [],
   "source": [
    "import sys; sys.stdin = open('data/(5122)input.txt', 'r')\n",
    "\n",
    "for tc in range(int(input())):\n",
    "    N, M, L = map(int, input().split())\n",
    "    arr = list(map(int, input().split()))\n",
    "    for _ in range(M):\n",
    "        e, *v = input().split()\n",
    "        if e == 'I':\n",
    "            arr.insert(int(v[0]), int(v[1]))\n",
    "        elif e == 'D':\n",
    "            arr.pop(int(v[0]))\n",
    "        else:\n",
    "            arr[int(v[0])] = int(v[1])\n",
    "\n",
    "    print('#{} {}'.format(tc + 1, arr[L] if L < len(arr) else -1))"
   ]
  }
 ],
 "metadata": {
  "kernelspec": {
   "display_name": "Python 3",
   "language": "python",
   "name": "python3"
  },
  "language_info": {
   "codemirror_mode": {
    "name": "ipython",
    "version": 3
   },
   "file_extension": ".py",
   "mimetype": "text/x-python",
   "name": "python",
   "nbconvert_exporter": "python",
   "pygments_lexer": "ipython3",
   "version": "3.7.3"
  },
  "toc": {
   "base_numbering": 1,
   "nav_menu": {},
   "number_sections": true,
   "sideBar": true,
   "skip_h1_title": false,
   "title_cell": "Table of Contents",
   "title_sidebar": "Contents",
   "toc_cell": false,
   "toc_position": {},
   "toc_section_display": true,
   "toc_window_display": false
  }
 },
 "nbformat": 4,
 "nbformat_minor": 2
}
