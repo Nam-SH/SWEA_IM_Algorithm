{
 "cells": [
  {
   "cell_type": "markdown",
   "metadata": {},
   "source": [
    "# 4880. 토너먼트 카드게임\n",
    "\n",
    "<br>\n",
    "\n",
    "![image](https://user-images.githubusercontent.com/50367487/62833002-94305580-bc72-11e9-8d45-f0afdbae0a81.png)"
   ]
  },
  {
   "cell_type": "markdown",
   "metadata": {},
   "source": [
    "```\n",
    "3\n",
    "4\n",
    "1 3 2 1\n",
    "6\n",
    "2 1 1 2 3 3\n",
    "7\n",
    "1 3 3 3 1 1 3\n",
    "```\n",
    "```\n",
    "#1 3\n",
    "#2 5\n",
    "#3 1\n",
    "```"
   ]
  },
  {
   "cell_type": "code",
   "execution_count": null,
   "metadata": {},
   "outputs": [],
   "source": [
    "import sys; sys.stdin = open('input.txt', 'r')\n",
    "\n",
    "def win(l, r):\n",
    "    if (arr[l], arr[r]) == (1, 3) or (arr[l], arr[r]) == (3, 2) or (arr[l], arr[r]) == (2, 1):\n",
    "        return l\n",
    "    elif (arr[l], arr[r]) == (3, 1) or (arr[l], arr[r]) ==  (2, 3) or (arr[l], arr[r]) == (1, 2):\n",
    "        return r\n",
    "    else: return l\n",
    "\n",
    "def lr(s, f):\n",
    "    if s == f: return s\n",
    "    l = lr(s, (s + f)//2)\n",
    "    r = lr((s + f)//2 + 1, f)\n",
    "    return win(l, r)\n",
    "\n",
    "for tc in range(int(input())):\n",
    "    N = int(input())\n",
    "    arr = list(map(int, input().split()))\n",
    "\n",
    "    print('#{} {}'.format(tc + 1, lr(0, N - 1) + 1))"
   ]
  }
 ],
 "metadata": {
  "kernelspec": {
   "display_name": "Python 3",
   "language": "python",
   "name": "python3"
  },
  "language_info": {
   "codemirror_mode": {
    "name": "ipython",
    "version": 3
   },
   "file_extension": ".py",
   "mimetype": "text/x-python",
   "name": "python",
   "nbconvert_exporter": "python",
   "pygments_lexer": "ipython3",
   "version": "3.7.6"
  },
  "toc": {
   "base_numbering": 1,
   "nav_menu": {},
   "number_sections": true,
   "sideBar": true,
   "skip_h1_title": false,
   "title_cell": "Table of Contents",
   "title_sidebar": "Contents",
   "toc_cell": false,
   "toc_position": {},
   "toc_section_display": true,
   "toc_window_display": false
  }
 },
 "nbformat": 4,
 "nbformat_minor": 4
}
