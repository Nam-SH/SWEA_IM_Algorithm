{
 "cells": [
  {
   "cell_type": "markdown",
   "metadata": {},
   "source": [
    "#  4881. 배열 최소 합\n",
    "\n",
    "<br>\n",
    "\n",
    "![image](https://user-images.githubusercontent.com/50367487/62833023-eb362a80-bc72-11e9-900b-a6ccf09e493e.png)"
   ]
  },
  {
   "cell_type": "markdown",
   "metadata": {},
   "source": [
    "```\n",
    "3\n",
    "3\n",
    "2 1 2\n",
    "5 8 5\n",
    "7 2 2\n",
    "3\n",
    "9 4 7\n",
    "8 6 5\n",
    "5 3 7\n",
    "5\n",
    "5 2 1 1 9\n",
    "3 3 8 3 1\n",
    "9 2 8 8 6\n",
    "1 5 7 8 3\n",
    "5 5 4 6 8\n",
    "```\n",
    "```\n",
    "#1 8\n",
    "#2 14\n",
    "#3 9\n",
    "```"
   ]
  },
  {
   "cell_type": "code",
   "execution_count": null,
   "metadata": {},
   "outputs": [],
   "source": [
    "def find(i):\n",
    "    global res, Min\n",
    "\n",
    "    if Min < res: return\n",
    "\n",
    "    if i == N:\n",
    "        if Min > res: Min = res\n",
    "        return\n",
    "\n",
    "    for j in range(N):\n",
    "        if not visit[j]:\n",
    "            visit[j] = True\n",
    "            res += arr[i][j]\n",
    "            find(i+1)\n",
    "            visit[j] = False\n",
    "            res -= arr[i][j]\n",
    "\n",
    "for tc in range(int(input())):\n",
    "    N = int(input())\n",
    "    arr = [list(map(int, input().split())) for _ in range(N)]\n",
    "    visit = [False] * N\n",
    "    res, Min = 0, 9999999\n",
    "    find(0)\n",
    "    print('#{} {}'.format(tc + 1, Min))"
   ]
  },
  {
   "cell_type": "code",
   "execution_count": null,
   "metadata": {},
   "outputs": [],
   "source": [
    "from itertools import permutations\n",
    "\n",
    "def find():\n",
    "    min = 999999\n",
    "    for p in permutations(range(N)):\n",
    "        s = 0\n",
    "        for i in range(N):\n",
    "            s += m[i][p[i]]\n",
    "        if min > s:\n",
    "            min = s\n",
    "    return min\n",
    "\n",
    "T = int(input())\n",
    "for tc in range(10):\n",
    "    N = int(input())\n",
    "    m = [list(map(int, input().split())) for _ in range(N)]\n",
    "    print('#{} {}'.format(tc + 1, find()))"
   ]
  }
 ],
 "metadata": {
  "kernelspec": {
   "display_name": "Python 3",
   "language": "python",
   "name": "python3"
  },
  "language_info": {
   "codemirror_mode": {
    "name": "ipython",
    "version": 3
   },
   "file_extension": ".py",
   "mimetype": "text/x-python",
   "name": "python",
   "nbconvert_exporter": "python",
   "pygments_lexer": "ipython3",
   "version": "3.7.6"
  },
  "toc": {
   "base_numbering": 1,
   "nav_menu": {},
   "number_sections": true,
   "sideBar": true,
   "skip_h1_title": false,
   "title_cell": "Table of Contents",
   "title_sidebar": "Contents",
   "toc_cell": false,
   "toc_position": {},
   "toc_section_display": true,
   "toc_window_display": false
  }
 },
 "nbformat": 4,
 "nbformat_minor": 4
}
