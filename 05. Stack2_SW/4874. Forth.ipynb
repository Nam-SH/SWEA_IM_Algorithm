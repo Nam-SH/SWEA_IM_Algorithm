{
 "cells": [
  {
   "cell_type": "markdown",
   "metadata": {},
   "source": [
    "# 4874. Forth \n",
    "\n",
    "<br>\n",
    "\n",
    "![image](https://user-images.githubusercontent.com/50367487/62832905-c5a82180-bc70-11e9-8f48-b6c1cd24e02a.png)"
   ]
  },
  {
   "cell_type": "markdown",
   "metadata": {},
   "source": [
    "```\n",
    "3\n",
    "10 2 + 3 4 + * .\n",
    "5 3 * + .\n",
    "1 5 8 10 3 4 + + 3 + * 2 + + + .\n",
    "```\n",
    "```\n",
    "#1 84\n",
    "#2 error\n",
    "#3 168\n",
    "```"
   ]
  },
  {
   "cell_type": "code",
   "execution_count": null,
   "metadata": {},
   "outputs": [],
   "source": [
    "TC = int(input())\n",
    "for tc in range(TC):\n",
    "    arr = []\n",
    "    data = input().split()\n",
    "    for i in data:\n",
    "        if i.isdigit():\n",
    "            arr.append(i)\n",
    "        else:\n",
    "            try:\n",
    "                if i == '.': \n",
    "                    if len(arr) > 1:\n",
    "                        print('#{} error'.format(tc + 1)); break\n",
    "                    else:\n",
    "                        print('#{} {}'.format(tc + 1, arr[0])); break\n",
    "                b = int(arr.pop())\n",
    "                a = int(arr.pop())\n",
    "                elif i == '+': c = a + b\n",
    "                elif i == '-': c = a - b\n",
    "                elif i == '*': c = a * b\n",
    "                elif i =='/':  c = a // b\n",
    "                arr.append(c)\n",
    "            except:\n",
    "                print('#{} error'.format(tc + 1)); break"
   ]
  }
 ],
 "metadata": {
  "kernelspec": {
   "display_name": "Python 3",
   "language": "python",
   "name": "python3"
  },
  "language_info": {
   "codemirror_mode": {
    "name": "ipython",
    "version": 3
   },
   "file_extension": ".py",
   "mimetype": "text/x-python",
   "name": "python",
   "nbconvert_exporter": "python",
   "pygments_lexer": "ipython3",
   "version": "3.7.6"
  },
  "toc": {
   "base_numbering": 1,
   "nav_menu": {},
   "number_sections": true,
   "sideBar": true,
   "skip_h1_title": false,
   "title_cell": "Table of Contents",
   "title_sidebar": "Contents",
   "toc_cell": false,
   "toc_position": {},
   "toc_section_display": true,
   "toc_window_display": false
  }
 },
 "nbformat": 4,
 "nbformat_minor": 4
}
