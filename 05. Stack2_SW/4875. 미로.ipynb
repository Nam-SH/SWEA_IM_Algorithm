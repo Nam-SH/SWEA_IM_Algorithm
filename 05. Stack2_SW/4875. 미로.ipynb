{
 "cells": [
  {
   "cell_type": "markdown",
   "metadata": {},
   "source": [
    "# 4875. 미로 \n",
    "\n",
    "<br>\n",
    "\n",
    "![image](https://user-images.githubusercontent.com/50367487/62832983-56333180-bc72-11e9-935a-96869a8d28eb.png)"
   ]
  },
  {
   "cell_type": "markdown",
   "metadata": {},
   "source": [
    "|첫번째|두번째|세번쩨|\n",
    "|:---:|:---:|:---:|\n",
    "|5|5|5|\n",
    "|13101|10031|00013|\n",
    "|10101|10111|01110|\n",
    "|10101|10101|21000|\n",
    "|10101|10101|01111|\n",
    "|10021|12001|00000|\n",
    "|#1 1|#2 1|#3 0|"
   ]
  },
  {
   "cell_type": "code",
   "execution_count": null,
   "metadata": {},
   "outputs": [],
   "source": [
    "import sys; sys.stdin = open('data/(4875)input.txt', 'r')\n",
    "\n",
    "def dfs(i, j):\n",
    "    global res, delta\n",
    "\n",
    "    if arr[i][j] == 3:\n",
    "        res = 1\n",
    "        return\n",
    "\n",
    "    visit.append((i, j))\n",
    "    for dx, dy in (0, 1), (0, -1), (1, 0), (-1, 0):\n",
    "        ty = i + dy\n",
    "        tx = j + dx\n",
    "        if 0 <= ty < N and 0 <= tx < N and (arr[ty][tx] == 0 or arr[ty][tx] == 3):\n",
    "            if (ty, tx) not in visit:\n",
    "                dfs(ty, tx)\n",
    "\n",
    "for tc in range(int(input())):\n",
    "    N = int(input())\n",
    "    arr = [list(map(int, input())) for _ in range(N)]\n",
    "    for i in range(N):\n",
    "        for j in range(N):\n",
    "            if arr[i][j] == 2:\n",
    "                x, y = i, j\n",
    "                break\n",
    "\n",
    "    visit = []\n",
    "    res = 0\n",
    "    dfs(x, y)\n",
    "\n",
    "    print('#{} {}'.format(tc + 1, res))"
   ]
  }
 ],
 "metadata": {
  "kernelspec": {
   "display_name": "Python 3",
   "language": "python",
   "name": "python3"
  },
  "language_info": {
   "codemirror_mode": {
    "name": "ipython",
    "version": 3
   },
   "file_extension": ".py",
   "mimetype": "text/x-python",
   "name": "python",
   "nbconvert_exporter": "python",
   "pygments_lexer": "ipython3",
   "version": "3.7.6"
  },
  "toc": {
   "base_numbering": 1,
   "nav_menu": {},
   "number_sections": true,
   "sideBar": true,
   "skip_h1_title": false,
   "title_cell": "Table of Contents",
   "title_sidebar": "Contents",
   "toc_cell": false,
   "toc_position": {},
   "toc_section_display": true,
   "toc_window_display": false
  }
 },
 "nbformat": 4,
 "nbformat_minor": 4
}
