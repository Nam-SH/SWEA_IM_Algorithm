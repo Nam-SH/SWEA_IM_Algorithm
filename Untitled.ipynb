{
 "cells": [
  {
   "cell_type": "code",
   "execution_count": null,
   "metadata": {},
   "outputs": [],
   "source": [
    "arr = [\n",
    "    [1, 2, 3, 4, 5],\n",
    "    [16, 17, 18, 19, 6],\n",
    "    [15, 24, 25, 20, 7],\n",
    "    [14, 23, 22, 21, 8],\n",
    "    [13, 12, 11, 10, 9]\n",
    "]\n",
    "N = len(arr)\n",
    "n = len(arr[0])\n",
    "\n",
    "count = 1\n",
    "i_val = 0\n",
    "while count <= 9:\n",
    "\n",
    "    if count == 1 or count == 5 or count == 9:\n",
    "        for j in range(n):\n",
    "            print(arr[i_val][j], end=' ')\n",
    "            j_val = j\n",
    "        count += 1\n",
    "\n",
    "    if count == 2 or count == 6:\n",
    "        for i in range(1, N):\n",
    "            print(arr[i][j_val], end=' ')\n",
    "            i_val = i\n",
    "        count += 1\n",
    "\n",
    "    if count == 3 or count == 7:\n",
    "        for j in range(n-2, -1, -1):\n",
    "            print(arr[i_val][j], end=' ')\n",
    "            j_val = j\n",
    "        count += 1\n",
    "\n",
    "    if count == 4 or count == 8:\n",
    "        for i in range(N-2, 0, -1):\n",
    "            print(arr[i][j_val], end=' ')\n",
    "            i_val = i\n",
    "        count += 1"
   ]
  }
 ],
 "metadata": {
  "kernelspec": {
   "display_name": "Python 3",
   "language": "python",
   "name": "python3"
  },
  "language_info": {
   "codemirror_mode": {
    "name": "ipython",
    "version": 3
   },
   "file_extension": ".py",
   "mimetype": "text/x-python",
   "name": "python",
   "nbconvert_exporter": "python",
   "pygments_lexer": "ipython3",
   "version": "3.7.3"
  },
  "toc": {
   "base_numbering": 1,
   "nav_menu": {},
   "number_sections": true,
   "sideBar": true,
   "skip_h1_title": false,
   "title_cell": "Table of Contents",
   "title_sidebar": "Contents",
   "toc_cell": false,
   "toc_position": {},
   "toc_section_display": true,
   "toc_window_display": false
  }
 },
 "nbformat": 4,
 "nbformat_minor": 2
}
