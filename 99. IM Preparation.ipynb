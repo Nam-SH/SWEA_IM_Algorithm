{
 "cells": [
  {
   "cell_type": "markdown",
   "metadata": {},
   "source": [
    "# 8444. IM 기출\n",
    "\n",
    "<br>\n",
    "\n",
    "![image](https://user-images.githubusercontent.com/50367487/63903833-e383cd80-ca49-11e9-975b-554b5f4028f6.png)"
   ]
  },
  {
   "cell_type": "code",
   "execution_count": null,
   "metadata": {},
   "outputs": [],
   "source": [
    "# 역방향\n",
    "\n",
    "import sys; sys.stdin = open('data/(8444)input.txt', 'r')\n",
    "\n",
    "for tc in range(int(input())):\n",
    "    N = int(input())\n",
    "    data = [0] + list(map(int, input().split()))\n",
    "\n",
    "    cnt = 0\n",
    "    for i in range(1, N + 1):\n",
    "        if data[i]:\n",
    "            for j in range(1, N//i + 1):\n",
    "                if data[i * j]: data[i * j] = 0\n",
    "                else: data[i * j] = 1\n",
    "            cnt += 1\n",
    "        if sum(data) == 0: break\n",
    "    print('#{} {}'.format(tc + 1, cnt))"
   ]
  },
  {
   "cell_type": "code",
   "execution_count": null,
   "metadata": {},
   "outputs": [],
   "source": [
    "# BFS 풀이 (정방향)"
   ]
  },
  {
   "cell_type": "markdown",
   "metadata": {},
   "source": [
    "# 1961. 숫자 배열 회전\n",
    "\n",
    "<br>\n",
    "\n",
    "![image](https://user-images.githubusercontent.com/50367487/63939117-6dab5080-caa1-11e9-8887-01b8cfba11bb.png)"
   ]
  },
  {
   "cell_type": "code",
   "execution_count": null,
   "metadata": {},
   "outputs": [],
   "source": [
    "import sys; sys.stdin = open('data/(1961)input.txt', 'r')\n",
    "\n",
    "for tc in range(int(input())):\n",
    "    N = int(input())\n",
    "\n",
    "    data = [input().split() for _ in range(N)]\n",
    "\n",
    "    print('#' + str(tc + 1))\n",
    "    for j in range(N):\n",
    "        for i in range(N - 1, -1, -1): print(data[i][j], end = '')\n",
    "        print(end=' ')\n",
    "        for i in range(N - 1, -1, -1): print(data[N - 1 - j][i], end = '')\n",
    "        print(end=' ')\n",
    "        for i in range(N): print(data[i][N - 1 - j], end = '')\n",
    "        print()"
   ]
  },
  {
   "cell_type": "markdown",
   "metadata": {},
   "source": [
    "# 1974. 스도쿠 검증\n",
    "\n",
    "<br>\n",
    "\n",
    "![image](https://user-images.githubusercontent.com/50367487/63938811-abf44000-caa0-11e9-9bef-31467917137a.png)"
   ]
  },
  {
   "cell_type": "code",
   "execution_count": null,
   "metadata": {},
   "outputs": [],
   "source": [
    "import sys; sys.stdin = open('data/(1974)input.txt', 'r')\n",
    "\n",
    "for tc in range(int(input())):\n",
    "    data = [list(map(int, input().split())) for _ in range(9)]\n",
    "\n",
    "    out = 0\n",
    "    for i in range(len(data)):\n",
    "        row = col = 0\n",
    "        for j in range(len(data[0])):\n",
    "            row += data[i][j]\n",
    "            col += data[j][i]\n",
    "        if row != 45 or col != 45:\n",
    "            out = 1\n",
    "            break\n",
    "    if not out:\n",
    "        for i in range(1, 9, 3):\n",
    "            for j in range(1, 9, 3):\n",
    "                res = 0\n",
    "                for dy, dx in [(-1, -1), (-1, 0), (-1, 1), (0, -1), (0, 0), (0, 1), (1, -1), (1, 0), (1, 1)]:\n",
    "                    res += data[i + dy][j + dx]\n",
    "                if res != 45:\n",
    "                    out = 1\n",
    "                    break\n",
    "            if out: break\n",
    "\n",
    "    print('#{} {}'.format(tc + 1, int(not out)))"
   ]
  },
  {
   "cell_type": "markdown",
   "metadata": {},
   "source": [
    "# 1979. 어디에 단어가 들어갈 수 있을까\n",
    "\n",
    "<br>\n",
    "\n",
    "![image](https://user-images.githubusercontent.com/50367487/63938825-b31b4e00-caa0-11e9-9d66-a54a8e110e53.png)"
   ]
  },
  {
   "cell_type": "code",
   "execution_count": null,
   "metadata": {},
   "outputs": [],
   "source": [
    "import sys; sys.stdin = open('data/(1979)input.txt', 'r')\n",
    "\n",
    "for tc in range(int(input())):\n",
    "    N, K = map(int, input().split())\n",
    "    arr = [list(map(int, input().split())) for _ in range(N)]\n",
    "    count = 0\n",
    "\n",
    "    for i in range(N):\n",
    "        r_sum = c_sum = 0\n",
    "        for j in range(N):\n",
    "            if arr[i][j]:\n",
    "                r_sum += 1\n",
    "            else: \n",
    "                count += (r_sum == K)\n",
    "                r_sum = 0\n",
    "            if arr[j][i]: c_sum += 1\n",
    "            else: \n",
    "                count += (c_sum == K)\n",
    "                c_sum = 0\n",
    "        count += (c_sum == K) + (r_sum == K)\n",
    "    print('#{} {}'.format(tc + 1, count))"
   ]
  },
  {
   "cell_type": "markdown",
   "metadata": {},
   "source": [
    "# 2007. 패턴 마디의 길이\n",
    "\n",
    "<br>\n",
    "\n",
    "![image](https://user-images.githubusercontent.com/50367487/63944210-1a8acb00-caac-11e9-8a8b-e279628ac91c.png)"
   ]
  },
  {
   "cell_type": "code",
   "execution_count": null,
   "metadata": {},
   "outputs": [],
   "source": [
    "import sys; sys.stdin = open('data/(2007)input.txt', 'r')\n",
    "\n",
    "for tc in range(int(input())):\n",
    "    arr = list(input())\n",
    "\n",
    "    m = 2\n",
    "    while 1:\n",
    "        if arr[:m] == arr[m: m + m]: break\n",
    "        m += 1\n",
    "\n",
    "    print('#{} {}'.format(tc + 1, m))"
   ]
  },
  {
   "cell_type": "markdown",
   "metadata": {},
   "source": [
    "# 2805. 농작물 수확하기\n",
    "\n",
    "<br>\n",
    "\n",
    "![image](https://user-images.githubusercontent.com/50367487/63939146-874c9800-caa1-11e9-95f7-5f1ee50f699d.png)"
   ]
  },
  {
   "cell_type": "code",
   "execution_count": null,
   "metadata": {},
   "outputs": [],
   "source": [
    "import sys; sys.stdin = open('data/(2805)input.txt', 'r')\n",
    "\n",
    "for tc in range(int(input())):\n",
    "    N = int(input())\n",
    "\n",
    "    i = N // 2\n",
    "    j = N // 2 + 1\n",
    "    res = cnt = 0\n",
    "    for _ in range(N):\n",
    "        data = [list(input())]\n",
    "        for k in range(i, j):\n",
    "            res += int(data[0][k])\n",
    "        if cnt < N // 2:\n",
    "            i -= 1\n",
    "            j += 1\n",
    "            cnt += 1\n",
    "            continue\n",
    "        i += 1\n",
    "        j -= 1\n",
    "    print('#{} {}'.format(tc + 1, res))"
   ]
  },
  {
   "cell_type": "markdown",
   "metadata": {},
   "source": [
    "# 5356. 의석이의 세로로 말해요\n",
    "\n",
    "<br>\n",
    "\n",
    "![image](https://user-images.githubusercontent.com/50367487/63943761-435e9080-caab-11e9-8203-5a391e00970c.png)"
   ]
  },
  {
   "cell_type": "code",
   "execution_count": null,
   "metadata": {},
   "outputs": [],
   "source": [
    "from itertools import zip_longest\n",
    "\n",
    "for tc in range(int(input())):\n",
    "    data = [list(input()) for _ in range(5)]\n",
    "    rev = list(zip_longest(*data))\n",
    "    print('#' + str(tc + 1), end=' ')\n",
    "    for i in rev:\n",
    "        for j in i:\n",
    "            if j != None:\n",
    "                print(j, end = '')\n",
    "    print()"
   ]
  },
  {
   "cell_type": "markdown",
   "metadata": {},
   "source": [
    "# 5789. 현주의 상자 바꾸기\n",
    "\n",
    "<br>\n",
    "\n",
    "![image](https://user-images.githubusercontent.com/50367487/63945664-af8ec380-caae-11e9-8eac-959773b452a6.png)"
   ]
  },
  {
   "cell_type": "code",
   "execution_count": null,
   "metadata": {},
   "outputs": [],
   "source": [
    "import sys; sys.stdin = open('data/(5789)input.txt', 'r')\n",
    "\n",
    "for tc in range(int(input())):\n",
    "\n",
    "    N, Q = map(int, input().split())\n",
    "    arr = [0] * (N + 1)\n",
    "    for i in range(1, Q + 1):\n",
    "        l, r = map(int, input().split())\n",
    "        for j in range(l, r + 1):\n",
    "            arr[j] = i\n",
    "\n",
    "    print('#' + str(tc + 1), *arr[1:])"
   ]
  },
  {
   "cell_type": "markdown",
   "metadata": {},
   "source": [
    "# 5432. 쇠막대기 자르기\n",
    "\n",
    "\n",
    "<br>\n",
    "\n",
    "![image](https://user-images.githubusercontent.com/50367487/63773462-2cd30080-c916-11e9-8bcf-b6c68db1edc9.png)"
   ]
  },
  {
   "cell_type": "code",
   "execution_count": null,
   "metadata": {},
   "outputs": [],
   "source": []
  },
  {
   "cell_type": "markdown",
   "metadata": {},
   "source": [
    "# 6190. 정곤이의 단조 증가하는 수\n",
    "\n",
    "<br>\n",
    "\n",
    "![image](https://user-images.githubusercontent.com/50367487/64216622-8a59e500-cef4-11e9-9cd6-110833301d7f.png)"
   ]
  },
  {
   "cell_type": "code",
   "execution_count": null,
   "metadata": {},
   "outputs": [],
   "source": []
  },
  {
   "cell_type": "markdown",
   "metadata": {},
   "source": [
    "# 4615. 재미있는 오셀로 게임\n",
    "\n",
    "<br>\n",
    "\n",
    "![image](https://user-images.githubusercontent.com/50367487/64216628-92b22000-cef4-11e9-8bbf-221627b8eaf5.png)"
   ]
  },
  {
   "cell_type": "code",
   "execution_count": null,
   "metadata": {},
   "outputs": [],
   "source": []
  },
  {
   "cell_type": "markdown",
   "metadata": {},
   "source": [
    "# 2001. 파리 퇴치\n",
    "\n",
    "<br>\n",
    "\n",
    "![image](https://user-images.githubusercontent.com/50367487/64216633-98a80100-cef4-11e9-872d-ec19dcee3e7b.png)"
   ]
  },
  {
   "cell_type": "code",
   "execution_count": null,
   "metadata": {},
   "outputs": [],
   "source": []
  }
 ],
 "metadata": {
  "kernelspec": {
   "display_name": "Python 3",
   "language": "python",
   "name": "python3"
  },
  "language_info": {
   "codemirror_mode": {
    "name": "ipython",
    "version": 3
   },
   "file_extension": ".py",
   "mimetype": "text/x-python",
   "name": "python",
   "nbconvert_exporter": "python",
   "pygments_lexer": "ipython3",
   "version": "3.7.3"
  },
  "toc": {
   "base_numbering": 1,
   "nav_menu": {},
   "number_sections": true,
   "sideBar": true,
   "skip_h1_title": false,
   "title_cell": "Table of Contents",
   "title_sidebar": "Contents",
   "toc_cell": false,
   "toc_position": {},
   "toc_section_display": true,
   "toc_window_display": false
  }
 },
 "nbformat": 4,
 "nbformat_minor": 2
}
