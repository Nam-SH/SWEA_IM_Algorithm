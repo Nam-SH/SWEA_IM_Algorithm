{
 "cells": [
  {
   "cell_type": "markdown",
   "metadata": {},
   "source": [
    "# 8444. IM 기출\n",
    "\n",
    "<br>\n",
    "\n",
    "![image](https://user-images.githubusercontent.com/50367487/63903833-e383cd80-ca49-11e9-975b-554b5f4028f6.png)"
   ]
  },
  {
   "cell_type": "code",
   "execution_count": null,
   "metadata": {},
   "outputs": [],
   "source": [
    "# 역방향\n",
    "\n",
    "import sys; sys.stdin = open('data/(8444)input.txt', 'r')\n",
    "\n",
    "for tc in range(int(input())):\n",
    "    N = int(input())\n",
    "    data = [0] + list(map(int, input().split()))\n",
    "\n",
    "    cnt = 0\n",
    "    for i in range(1, N + 1):\n",
    "        if data[i]:\n",
    "            for j in range(1, N//i + 1):\n",
    "                if data[i * j]: data[i * j] = 0\n",
    "                else: data[i * j] = 1\n",
    "            cnt += 1\n",
    "        if sum(data) == 0: break\n",
    "    print('#{} {}'.format(tc + 1, cnt))"
   ]
  },
  {
   "cell_type": "code",
   "execution_count": null,
   "metadata": {},
   "outputs": [],
   "source": [
    "# BFS 풀이 (정방향)"
   ]
  },
  {
   "cell_type": "markdown",
   "metadata": {},
   "source": [
    "# 1961. 숫자 배열 회전\n",
    "\n",
    "<br>\n",
    "\n",
    "![image](https://user-images.githubusercontent.com/50367487/63939117-6dab5080-caa1-11e9-8887-01b8cfba11bb.png)"
   ]
  },
  {
   "cell_type": "code",
   "execution_count": null,
   "metadata": {},
   "outputs": [],
   "source": [
    "import sys; sys.stdin = open('data/(1961)input.txt', 'r')\n",
    "\n",
    "for tc in range(int(input())):\n",
    "    N = int(input())\n",
    "\n",
    "    data = [input().split() for _ in range(N)]\n",
    "\n",
    "    print('#' + str(tc + 1))\n",
    "    for j in range(N):\n",
    "        for i in range(N - 1, -1, -1): print(data[i][j], end = '')\n",
    "        print(end=' ')\n",
    "        for i in range(N - 1, -1, -1): print(data[N - 1 - j][i], end = '')\n",
    "        print(end=' ')\n",
    "        for i in range(N): print(data[i][N - 1 - j], end = '')\n",
    "        print()"
   ]
  },
  {
   "cell_type": "markdown",
   "metadata": {},
   "source": [
    "# 1974. 스도쿠 검증\n",
    "\n",
    "<br>\n",
    "\n",
    "![image](https://user-images.githubusercontent.com/50367487/63938811-abf44000-caa0-11e9-9bef-31467917137a.png)"
   ]
  },
  {
   "cell_type": "code",
   "execution_count": null,
   "metadata": {},
   "outputs": [],
   "source": [
    "import sys; sys.stdin = open('data/(1974)input.txt', 'r')\n",
    "\n",
    "for tc in range(int(input())):\n",
    "    data = [list(map(int, input().split())) for _ in range(9)]\n",
    "\n",
    "    out = 0\n",
    "    for i in range(len(data)):\n",
    "        row = col = 0\n",
    "        for j in range(len(data[0])):\n",
    "            row += data[i][j]\n",
    "            col += data[j][i]\n",
    "        if row != 45 or col != 45:\n",
    "            out = 1\n",
    "            break\n",
    "    if not out:\n",
    "        for i in range(1, 9, 3):\n",
    "            for j in range(1, 9, 3):\n",
    "                res = 0\n",
    "                for dy, dx in [(-1, -1), (-1, 0), (-1, 1), (0, -1), (0, 0), (0, 1), (1, -1), (1, 0), (1, 1)]:\n",
    "                    res += data[i + dy][j + dx]\n",
    "                if res != 45:\n",
    "                    out = 1\n",
    "                    break\n",
    "            if out: break\n",
    "\n",
    "    print('#{} {}'.format(tc + 1, int(not out)))"
   ]
  },
  {
   "cell_type": "markdown",
   "metadata": {},
   "source": [
    "# 1979. 어디에 단어가 들어갈 수 있을까\n",
    "\n",
    "<br>\n",
    "\n",
    "![image](https://user-images.githubusercontent.com/50367487/63938825-b31b4e00-caa0-11e9-9d66-a54a8e110e53.png)"
   ]
  },
  {
   "cell_type": "code",
   "execution_count": null,
   "metadata": {},
   "outputs": [],
   "source": [
    "import sys; sys.stdin = open('data/(1979)input.txt', 'r')\n",
    "\n",
    "for tc in range(int(input())):\n",
    "    N, K = map(int, input().split())\n",
    "    arr = [list(map(int, input().split())) for _ in range(N)]\n",
    "    count = 0\n",
    "\n",
    "    for i in range(N):\n",
    "        r_sum = c_sum = 0\n",
    "        for j in range(N):\n",
    "            if arr[i][j]:\n",
    "                r_sum += 1\n",
    "            else: \n",
    "                count += (r_sum == K)\n",
    "                r_sum = 0\n",
    "            if arr[j][i]: c_sum += 1\n",
    "            else: \n",
    "                count += (c_sum == K)\n",
    "                c_sum = 0\n",
    "        count += (c_sum == K) + (r_sum == K)\n",
    "    print('#{} {}'.format(tc + 1, count))"
   ]
  },
  {
   "cell_type": "markdown",
   "metadata": {},
   "source": [
    "# 2007. 패턴 마디의 길이\n",
    "\n",
    "<br>\n",
    "\n",
    "![image](https://user-images.githubusercontent.com/50367487/63944210-1a8acb00-caac-11e9-8a8b-e279628ac91c.png)"
   ]
  },
  {
   "cell_type": "code",
   "execution_count": null,
   "metadata": {},
   "outputs": [],
   "source": [
    "import sys; sys.stdin = open('data/(2007)input.txt', 'r')\n",
    "\n",
    "for tc in range(int(input())):\n",
    "    arr = list(input())\n",
    "\n",
    "    m = 2\n",
    "    while 1:\n",
    "        if arr[:m] == arr[m: m + m]: break\n",
    "        m += 1\n",
    "\n",
    "    print('#{} {}'.format(tc + 1, m))"
   ]
  },
  {
   "cell_type": "markdown",
   "metadata": {},
   "source": [
    "# 2805. 농작물 수확하기\n",
    "\n",
    "<br>\n",
    "\n",
    "![image](https://user-images.githubusercontent.com/50367487/63939146-874c9800-caa1-11e9-95f7-5f1ee50f699d.png)"
   ]
  },
  {
   "cell_type": "code",
   "execution_count": null,
   "metadata": {},
   "outputs": [],
   "source": [
    "import sys; sys.stdin = open('data/(2805)input.txt', 'r')\n",
    "\n",
    "for tc in range(int(input())):\n",
    "    N = int(input())\n",
    "\n",
    "    i = N // 2\n",
    "    j = N // 2 + 1\n",
    "    res = cnt = 0\n",
    "    for _ in range(N):\n",
    "        data = [list(input())]\n",
    "        for k in range(i, j):\n",
    "            res += int(data[0][k])\n",
    "        if cnt < N // 2:\n",
    "            i -= 1\n",
    "            j += 1\n",
    "            cnt += 1\n",
    "            continue\n",
    "        i += 1\n",
    "        j -= 1\n",
    "    print('#{} {}'.format(tc + 1, res))"
   ]
  },
  {
   "cell_type": "markdown",
   "metadata": {},
   "source": [
    "# 5356. 의석이의 세로로 말해요\n",
    "\n",
    "<br>\n",
    "\n",
    "![image](https://user-images.githubusercontent.com/50367487/63943761-435e9080-caab-11e9-8203-5a391e00970c.png)"
   ]
  },
  {
   "cell_type": "code",
   "execution_count": null,
   "metadata": {},
   "outputs": [],
   "source": [
    "from itertools import zip_longest\n",
    "\n",
    "for tc in range(int(input())):\n",
    "    data = [list(input()) for _ in range(5)]\n",
    "    rev = list(zip_longest(*data))\n",
    "    print('#' + str(tc + 1), end=' ')\n",
    "    for i in rev:\n",
    "        for j in i:\n",
    "            if j != None:\n",
    "                print(j, end = '')\n",
    "    print()"
   ]
  },
  {
   "cell_type": "markdown",
   "metadata": {},
   "source": [
    "# 5789. 현주의 상자 바꾸기\n",
    "\n",
    "<br>\n",
    "\n",
    "![image](https://user-images.githubusercontent.com/50367487/63945664-af8ec380-caae-11e9-8eac-959773b452a6.png)"
   ]
  },
  {
   "cell_type": "code",
   "execution_count": null,
   "metadata": {},
   "outputs": [],
   "source": [
    "import sys; sys.stdin = open('data/(5789)input.txt', 'r')\n",
    "\n",
    "for tc in range(int(input())):\n",
    "\n",
    "    N, Q = map(int, input().split())\n",
    "    arr = [0] * (N + 1)\n",
    "    for i in range(1, Q + 1):\n",
    "        l, r = map(int, input().split())\n",
    "        for j in range(l, r + 1):\n",
    "            arr[j] = i\n",
    "\n",
    "    print('#' + str(tc + 1), *arr[1:])"
   ]
  },
  {
   "cell_type": "markdown",
   "metadata": {},
   "source": [
    "# 5432. 쇠막대기 자르기\n",
    "\n",
    "\n",
    "<br>\n",
    "\n",
    "![image](https://user-images.githubusercontent.com/50367487/63773462-2cd30080-c916-11e9-8bcf-b6c68db1edc9.png)"
   ]
  },
  {
   "cell_type": "code",
   "execution_count": null,
   "metadata": {},
   "outputs": [],
   "source": []
  },
  {
   "cell_type": "markdown",
   "metadata": {},
   "source": [
    "# 6190. 정곤이의 단조 증가하는 수\n",
    "\n",
    "<br>\n",
    "\n",
    "![image](https://user-images.githubusercontent.com/50367487/64216622-8a59e500-cef4-11e9-9cd6-110833301d7f.png)"
   ]
  },
  {
   "cell_type": "code",
   "execution_count": null,
   "metadata": {},
   "outputs": [],
   "source": [
    "import sys; sys.stdin = open('data/(6190)input.txt', 'r')\n",
    "\n",
    "def isDanjo(num):\n",
    "    while num >= 1:\n",
    "        num1 = num % 10\n",
    "        num = num // 10\n",
    "        num2 = num % 10\n",
    "        if num2 > num1:\n",
    "            return False\n",
    "    return True\n",
    "\n",
    "T = int(input())\n",
    "for test_case in range(1, T + 1):\n",
    "    N = int(input())\n",
    "    nums = list(map(int, input().split()))\n",
    "\n",
    "    ans = -1\n",
    "    for i in range(0, N - 1):\n",
    "        for j in range(i + 1, N):\n",
    "            num = nums[i] * nums[j]\n",
    "            if isDanjo(num):\n",
    "                if ans < num:\n",
    "                    ans = num\n",
    "    print('#%d %d' % (test_case, ans))"
   ]
  },
  {
   "cell_type": "markdown",
   "metadata": {},
   "source": [
    "# 4615. 재미있는 오셀로 게임\n",
    "\n",
    "<br>\n",
    "\n",
    "![image](https://user-images.githubusercontent.com/50367487/64216628-92b22000-cef4-11e9-8bbf-221627b8eaf5.png)"
   ]
  },
  {
   "cell_type": "code",
   "execution_count": null,
   "metadata": {},
   "outputs": [],
   "source": [
    "import sys; sys.stdin = open('data/(4615)input.txt', 'r')\n",
    "\n",
    "def find(i, j, color):\n",
    "    arr[i][j] = color\n",
    "    for dy, dx in [(-1, -1), (-1, 0), (-1, 1), (0, -1), (0, 1), (1, -1), (1, 0), (1, 1)]:\n",
    "        ty = i + dy; tx = j + dx\n",
    "\n",
    "        cnt = 0\n",
    "        while 0 <= ty < N and 0 <= tx < N and arr[ty][tx]:\n",
    "            cnt += 1\n",
    "            if arr[ty][tx] == color:\n",
    "                for k in range(cnt):\n",
    "                    arr[i + dy * k][j + dx * k] = color\n",
    "                break\n",
    "            ty += dy\n",
    "            tx += dx\n",
    "\n",
    "for tc in range(int(input())):\n",
    "    N, M = map(int, input().split())\n",
    "\n",
    "    arr = [[0]*N for _ in range(N)]\n",
    "    arr[N//2][N//2] = arr[N//2 - 1][N//2 - 1] = 2\n",
    "    arr[N//2 - 1][N//2] = arr[N//2][N//2 - 1] = 1\n",
    "\n",
    "    for _ in range(M):\n",
    "        i, j, color = map(int, input().split())\n",
    "        find(i - 1, j - 1, color)\n",
    "\n",
    "    B = W = 0\n",
    "    for i in arr:\n",
    "         B += i.count(1)\n",
    "         W += i.count(2)\n",
    "    print('#{} {} {}'.format(tc + 1, B, W))"
   ]
  },
  {
   "cell_type": "markdown",
   "metadata": {},
   "source": [
    "# 2001. 파리 퇴치\n",
    "\n",
    "<br>\n",
    "\n",
    "![image](https://user-images.githubusercontent.com/50367487/64216633-98a80100-cef4-11e9-872d-ec19dcee3e7b.png)"
   ]
  },
  {
   "cell_type": "code",
   "execution_count": null,
   "metadata": {},
   "outputs": [],
   "source": [
    "import sys; sys.stdin = open('data/(2001)input.txt', 'r')\n",
    "\n",
    "for sample in range(int(input())):\n",
    "    n, m = map(int, input().split())\n",
    "    arr = [list(map(int, input().split())) for _ in range(n)]\n",
    "    ma = 0\n",
    "    for i in range(n-m+1):\n",
    "        for j in range(n-m+1):\n",
    "            result = 0\n",
    "            for k in range(m):\n",
    "                result += sum(arr[i+k][j:j+m])\n",
    "            else:\n",
    "                if result > ma: ma = result\n",
    "    print('#{} {}'.format(sample+1, ma))"
   ]
  },
  {
   "cell_type": "markdown",
   "metadata": {},
   "source": [
    "# 6485. 삼성시의 버스 노선\n",
    "\n",
    "<br>\n",
    "\n",
    "![image](https://user-images.githubusercontent.com/50367487/64095683-7d28e300-cd9a-11e9-84a0-9c3f23cea5b3.png)"
   ]
  },
  {
   "cell_type": "code",
   "execution_count": null,
   "metadata": {},
   "outputs": [],
   "source": [
    "import sys; sys.stdin = open('data/(6485)input.txt', 'r')\n",
    "\n",
    "for tc in range(int(input())):\n",
    "    N = int(input())\n",
    "    arr = [0] * 5001\n",
    "\n",
    "    for _ in range(N):\n",
    "        a, b = map(int, input().split())\n",
    "        for i in range(a, b + 1):\n",
    "            arr[i] += 1\n",
    "\n",
    "    print('#' + str(tc + 1), end=' ')\n",
    "    for _ in range(int(input())):\n",
    "        print(arr[int(input())], end = ' ')\n",
    "    print()"
   ]
  },
  {
   "cell_type": "markdown",
   "metadata": {},
   "source": [
    "# 1258. 행렬찾기\n",
    "\n",
    "<br>\n",
    "\n",
    "![image](https://user-images.githubusercontent.com/50367487/64100730-24137c00-cda7-11e9-90c5-e05b53ae717c.png)"
   ]
  },
  {
   "cell_type": "code",
   "execution_count": null,
   "metadata": {},
   "outputs": [],
   "source": [
    "import sys; sys.stdin = open('data/(1258)input.txt', 'r')\n",
    "from collections import deque\n",
    "\n",
    "def BFS(i, j):\n",
    "    q = deque()\n",
    "    q.append((i, j))\n",
    "    check[i][j] = 1\n",
    "    visit[i][j] = cnt\n",
    "    while q:\n",
    "        y, x = q.popleft()\n",
    "        for dy, dx in [(0, -1), (0, 1), (1, 0), (-1, 0)]:\n",
    "            ty = y + dy\n",
    "            tx = x + dx\n",
    "            if 0 <= ty < N and 0 <= tx < N:\n",
    "                if arr[ty][tx] != 0 and not check[ty][tx]:\n",
    "                    q.append((ty, tx))\n",
    "                    check[ty][tx] = 1\n",
    "                    visit[ty][tx] = cnt\n",
    "    return\n",
    "\n",
    "for tc in range(int(input())):\n",
    "    N = int(input())\n",
    "    arr = [list(map(int, input().split())) for _ in range(N)]\n",
    "    check = [[0] * N for _ in range(N)]\n",
    "    visit = [[0] * N for _ in range(N)]\n",
    "    cnt = 1\n",
    "    for i in range(N):\n",
    "        for j in range(N):\n",
    "            if arr[i][j] != 0 and not check[i][j]:\n",
    "                BFS(i, j)\n",
    "                cnt += 1\n",
    "\n",
    "    row = [0] * cnt\n",
    "    col = [0] * cnt\n",
    "\n",
    "    for i in range(len(visit)):\n",
    "        for c in range(1, cnt):\n",
    "            if visit[i].count(c) != 0:\n",
    "                row[c] = visit[i].count(c)\n",
    "            if list(zip(*visit))[i].count(c) != 0:\n",
    "                col[c] = list(zip(*visit))[i].count(c)\n",
    "\n",
    "    lst = []\n",
    "    for w in zip(col, row):\n",
    "        if w == (0, 0): continue\n",
    "        lst.append(w)\n",
    "\n",
    "    for i in range(len(lst) - 1):\n",
    "        for j in range(i + 1, len(lst)):\n",
    "            if (lst[i][0] * lst[i][1]) > (lst[j][0] * lst[j][1]):\n",
    "                lst[i], lst[j] = lst[j], lst[i]\n",
    "            elif (lst[i][0] * lst[i][1]) == (lst[j][0] * lst[j][1]) and lst[i][0] > lst[j][0]:\n",
    "                lst[i], lst[j] = lst[j], lst[i]\n",
    "\n",
    "    print('#{} {}'.format(tc + 1, len(lst)), end = ' ')\n",
    "    for i in lst:\n",
    "        for j in i:\n",
    "            print(j, end = ' ')\n",
    "    print()"
   ]
  },
  {
   "cell_type": "code",
   "execution_count": null,
   "metadata": {},
   "outputs": [],
   "source": [
    "import sys; sys.stdin = open('data/(1258)input.txt', 'r')\n",
    "\n",
    "\n",
    "t = int(input())\n",
    "for tc in range(1):\n",
    "    n = int(input())\n",
    "    m = [[0] * n for _ in range(n)]\n",
    "\n",
    "    dic = dict()\n",
    "    for i in range(n):\n",
    "        num = 0\n",
    "        line = list(map(int, input().split()))\n",
    "        for j in range(n):\n",
    "            if line[j]: num += 1\n",
    "            elif num:\n",
    "                if num not in dic:\n",
    "                    dic[num] = 1\n",
    "                else:\n",
    "                    dic[num] += 1\n",
    "                num = 0\n",
    "    arr = []\n",
    "    for key in dic:\n",
    "        arr.append([dic[key], key, dic[key] * key])\n",
    "\n",
    "    arr.sort(key=lambda x: (x[2], x[0]))\n",
    "\n",
    "    print(\"#{} {}\".format(tc + 1, len(arr)), end=' ')\n",
    "    for i in arr: print(i[0], i[1], end = ' ')\n",
    "    print()"
   ]
  },
  {
   "cell_type": "code",
   "execution_count": null,
   "metadata": {},
   "outputs": [],
   "source": [
    "import sys; sys.stdin = open('data/(1258)input.txt', 'r')\n",
    "\n",
    "T = int(input())\n",
    "for tc in range(T):\n",
    "    N = int(input())\n",
    "    arr = [list(map(int, input().split())) for _ in range(N)]\n",
    "    ret = []\n",
    "\n",
    "    for i in range(N):\n",
    "        for j in range(N):\n",
    "            if arr[i][j]:\n",
    "                x, y = 0, 0\n",
    "                while arr[i + x][j]:\n",
    "                    x += 1\n",
    "                while arr[i][j + y]:\n",
    "                    y += 1\n",
    "                ret.append((x, y))\n",
    "\n",
    "                for m in range(x):\n",
    "                    for n in range(y):\n",
    "                        arr[i + m][j + n] = 0\n",
    "\n",
    "    ret = sorted(sorted(ret, key=lambda p: p[0]), key=lambda p: p[0] * p[1])\n",
    "\n",
    "    print('#{} {}'.format(tc + 1, len(ret)), end=' ')\n",
    "    for i in range(len(ret)):\n",
    "        for j in range(2):\n",
    "            print(ret[i][j], end=' ')\n",
    "    print()"
   ]
  },
  {
   "cell_type": "markdown",
   "metadata": {},
   "source": [
    "# 1493. 수의 새로운 연산\n",
    "\n",
    "<br>\n",
    "\n",
    "![image](https://user-images.githubusercontent.com/50367487/64352759-8a163280-d037-11e9-8462-ecb4d2b29de6.png)"
   ]
  },
  {
   "cell_type": "code",
   "execution_count": null,
   "metadata": {},
   "outputs": [],
   "source": [
    "import sys; sys.stdin = open('data/(1493)input.txt', 'r')\n",
    "\n",
    "\n",
    "def dot(n):\n",
    "    global res\n",
    "    val, j = 1, 0\n",
    "    while val <= n:\n",
    "        j += 1\n",
    "        val += j\n",
    "    val = val - j\n",
    "    x, y = 1, j\n",
    "    while val != n:\n",
    "        x += 1\n",
    "        y -= 1\n",
    "        val += 1\n",
    "    return x, y\n",
    "\n",
    "def find(x, y):\n",
    "    val = 1\n",
    "    for i in range(y): val += i\n",
    "    for j in range(x - 1): val += i + j + 2\n",
    "    return val\n",
    "\n",
    "for tc in range(int(input())):\n",
    "    res = []\n",
    "    a, b = map(int, input().split())\n",
    "    print('#{} {}'.format(tc + 1, find(dot(a)[0] + dot(b)[0], dot(a)[1] + dot(b)[1])))"
   ]
  },
  {
   "cell_type": "markdown",
   "metadata": {},
   "source": [
    "# 2005. 파스칼의 삼각형\n",
    "\n",
    "<br>\n",
    "\n",
    "![image](https://user-images.githubusercontent.com/50367487/64352949-d82b3600-d037-11e9-82bf-41724638cc65.png)"
   ]
  },
  {
   "cell_type": "code",
   "execution_count": null,
   "metadata": {},
   "outputs": [],
   "source": [
    "import sys; sys.stdin = open('data/(2005)input.txt', 'r')\n",
    "\n",
    "for tc in range(1, int(input()) + 1):\n",
    "    arr = [[1]]\n",
    "    N = int(input())\n",
    "    if N > 1:\n",
    "        for i in range(1, N):\n",
    "            arr.append([1])\n",
    "            for j in range(len(arr[i - 1]) - 1):\n",
    "                arr[i].append(arr[i-1][j] + arr[i-1][j + 1])\n",
    "            arr[i].append(1)\n",
    "\n",
    "    print('#' + str(tc))\n",
    "    for i in arr:\n",
    "        for j in i:\n",
    "            print(j, end = ' ')\n",
    "        print()"
   ]
  }
 ],
 "metadata": {
  "kernelspec": {
   "display_name": "Python 3",
   "language": "python",
   "name": "python3"
  },
  "language_info": {
   "codemirror_mode": {
    "name": "ipython",
    "version": 3
   },
   "file_extension": ".py",
   "mimetype": "text/x-python",
   "name": "python",
   "nbconvert_exporter": "python",
   "pygments_lexer": "ipython3",
   "version": "3.7.3"
  },
  "toc": {
   "base_numbering": 1,
   "nav_menu": {},
   "number_sections": true,
   "sideBar": true,
   "skip_h1_title": false,
   "title_cell": "Table of Contents",
   "title_sidebar": "Contents",
   "toc_cell": false,
   "toc_position": {},
   "toc_section_display": true,
   "toc_window_display": false
  }
 },
 "nbformat": 4,
 "nbformat_minor": 2
}
