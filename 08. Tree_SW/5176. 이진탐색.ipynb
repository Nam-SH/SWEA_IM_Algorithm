{
 "cells": [
  {
   "cell_type": "markdown",
   "metadata": {},
   "source": [
    "# 5176. 이진탐색\n",
    "\n",
    "<br>\n",
    "\n",
    "![image](https://user-images.githubusercontent.com/50367487/64059710-b1669d00-cbfc-11e9-80cb-e08baaf6b33e.png)"
   ]
  },
  {
   "cell_type": "code",
   "execution_count": null,
   "metadata": {},
   "outputs": [],
   "source": [
    "import sys; sys.stdin = open('data/(5176)input.txt', 'r')\n",
    "\n",
    "def find(n):\n",
    "    global i\n",
    "\n",
    "    if n <= N:\n",
    "        find(n * 2)\n",
    "        arr[n] = i\n",
    "        i += 1\n",
    "        find(n * 2 + 1)\n",
    "    return\n",
    "\n",
    "for tc in range(int(input())):\n",
    "    N = int(input())\n",
    "    i = 1\n",
    "    arr = [0 for _ in range(N + 1)]\n",
    "    find(1)\n",
    "    print('#{} {} {}'.format(tc + 1, arr[1], arr[N//2]))"
   ]
  }
 ],
 "metadata": {
  "kernelspec": {
   "display_name": "Python 3",
   "language": "python",
   "name": "python3"
  },
  "language_info": {
   "codemirror_mode": {
    "name": "ipython",
    "version": 3
   },
   "file_extension": ".py",
   "mimetype": "text/x-python",
   "name": "python",
   "nbconvert_exporter": "python",
   "pygments_lexer": "ipython3",
   "version": "3.7.6"
  },
  "toc": {
   "base_numbering": 1,
   "nav_menu": {},
   "number_sections": true,
   "sideBar": true,
   "skip_h1_title": false,
   "title_cell": "Table of Contents",
   "title_sidebar": "Contents",
   "toc_cell": false,
   "toc_position": {},
   "toc_section_display": true,
   "toc_window_display": false
  }
 },
 "nbformat": 4,
 "nbformat_minor": 4
}
