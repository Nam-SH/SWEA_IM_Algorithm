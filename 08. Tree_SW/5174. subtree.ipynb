{
 "cells": [
  {
   "cell_type": "markdown",
   "metadata": {},
   "source": [
    "# 5174. subtree\n",
    "\n",
    "<br>\n",
    "\n",
    "![image](https://user-images.githubusercontent.com/50367487/64059706-a7dd3500-cbfc-11e9-9418-cee3ed0e5736.png)"
   ]
  },
  {
   "cell_type": "code",
   "execution_count": null,
   "metadata": {},
   "outputs": [],
   "source": [
    "def preorder(n):                                # 전위 순회\n",
    "    global cnt\n",
    "    if n != 0:\n",
    "        cnt += 1                                    # 방문한 노드 개수\n",
    "        preorder(child[n][0])\n",
    "        preorder(child[n][1])\n",
    "        \n",
    "T = int(input())\n",
    "\n",
    "for tc in range(1, T+1):\n",
    "    E, N = map(int, input().split())\n",
    "    \n",
    "    child = [[0]*2 for i in range(E+2)]\n",
    "\n",
    "    cnt = 0\n",
    "    l = list(map(int, input().split()))\n",
    "\n",
    "    for i in range(E):                              # E개의 간선을 처리\n",
    "        if child[l[i*2]][0] == 0:                # 부모 노드 i*2에 자식 노드가 없는 경우\n",
    "            child[l[i*2]][0] = l[i*2+1]         \n",
    "        else:                                           # 이미 자식이 한 개 있는 경우\n",
    "            child[l[i*2]][1] = l[i*2+1]\n",
    "    preorder(N)     \n",
    "    print('#{} {}'.format(tc, cnt))"
   ]
  },
  {
   "cell_type": "code",
   "execution_count": null,
   "metadata": {},
   "outputs": [],
   "source": [
    "from collections import deque\n",
    "\n",
    "def find(N):\n",
    "    q = deque()\n",
    "    q.append(N)\n",
    "    check[N] = True\n",
    "    while q:\n",
    "        w = q.popleft()\n",
    "        for k in arr[w]:\n",
    "            if not check[k]:\n",
    "                check[k] = True\n",
    "                q.append(k)\n",
    "    return\n",
    "\n",
    "T = int(input())\n",
    "for tc in range(T):\n",
    "    E, N = map(int, input().split())\n",
    "    data = list(map(int, input().split()))\n",
    "\n",
    "    arr = [[] for _ in range(E + 2)]\n",
    "    check = [False] * (E + 2)\n",
    "\n",
    "    for i in range(0, len(data), 2):\n",
    "        arr[data[i]].append(data[i + 1])\n",
    "\n",
    "    find(N)\n",
    "    print('#{} {}'.format(str(tc + 1), sum(check)))"
   ]
  }
 ],
 "metadata": {
  "kernelspec": {
   "display_name": "Python 3",
   "language": "python",
   "name": "python3"
  },
  "language_info": {
   "codemirror_mode": {
    "name": "ipython",
    "version": 3
   },
   "file_extension": ".py",
   "mimetype": "text/x-python",
   "name": "python",
   "nbconvert_exporter": "python",
   "pygments_lexer": "ipython3",
   "version": "3.7.6"
  },
  "toc": {
   "base_numbering": 1,
   "nav_menu": {},
   "number_sections": true,
   "sideBar": true,
   "skip_h1_title": false,
   "title_cell": "Table of Contents",
   "title_sidebar": "Contents",
   "toc_cell": false,
   "toc_position": {},
   "toc_section_display": true,
   "toc_window_display": false
  }
 },
 "nbformat": 4,
 "nbformat_minor": 4
}
