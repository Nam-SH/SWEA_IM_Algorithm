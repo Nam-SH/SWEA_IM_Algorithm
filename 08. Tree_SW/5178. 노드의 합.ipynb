{
 "cells": [
  {
   "cell_type": "markdown",
   "metadata": {},
   "source": [
    "# 5178. 노드의 합\n",
    "\n",
    "<br>\n",
    "\n",
    "![image](https://user-images.githubusercontent.com/50367487/64059713-bdeaf580-cbfc-11e9-87e0-1f52692600ae.png)"
   ]
  },
  {
   "cell_type": "code",
   "execution_count": null,
   "metadata": {},
   "outputs": [],
   "source": [
    "import sys; sys.stdin = open('data/(5178)input.txt', 'r')\n",
    "\n",
    "\n",
    "def find(n):\n",
    "\n",
    "    l_n = n * 2\n",
    "    r_n = n * 2 + 1\n",
    "\n",
    "    if n > N: return\n",
    "    find(l_n)\n",
    "    find(r_n)\n",
    "    if l_n > N and l_n <= N:\n",
    "        arr[n] = arr[r_n]\n",
    "        return\n",
    "    if r_n > N and l_n <= N:\n",
    "        arr[n] = arr[l_n]\n",
    "        return\n",
    "    if r_n <= N and l_n <= N:\n",
    "        arr[n] = arr[r_n] + arr[l_n]\n",
    "    return\n",
    "\n",
    "for tc in range(int(input())):\n",
    "    N, M, L = map(int, input().split())\n",
    "    arr = [0]*(N + 1)\n",
    "\n",
    "    for _ in range(M):\n",
    "        idx, val = map(int, input().split())\n",
    "        arr[idx] = val\n",
    "    find(1)\n",
    "    print('#{} {}'.format(tc + 1, arr[L]))"
   ]
  },
  {
   "cell_type": "code",
   "execution_count": null,
   "metadata": {},
   "outputs": [],
   "source": [
    "import sys; sys.stdin = open('data/(5178)input.txt', 'r')\n",
    "\n",
    "def find(n):\n",
    "\n",
    "    l_n = n * 2\n",
    "    r_n = n * 2 + 1\n",
    "    if r_n > N and l_n > N: return\n",
    "    find(l_n)\n",
    "    find(r_n)\n",
    "    arr[n] = arr[r_n] + arr[l_n]\n",
    "\n",
    "for tc in range(int(input())):\n",
    "    N, M, L = map(int, input().split())\n",
    "    arr = [0]*(N + 1) + [0]\n",
    "\n",
    "    for _ in range(M):\n",
    "        idx, val = map(int, input().split())\n",
    "        arr[idx] = val\n",
    "    find(1)\n",
    "    print('#{} {}'.format(tc + 1, arr[L]))"
   ]
  },
  {
   "cell_type": "code",
   "execution_count": null,
   "metadata": {},
   "outputs": [],
   "source": [
    "def postOrder(n):             # 후위 순회\n",
    "    global N\n",
    "    if n>N:                     # 유효한 노드가 아니면 0 반환\n",
    "        return 0\n",
    "    else:\n",
    "        if tree[n] !=0 :        # 리프노드인 경우 저장된 값 리턴\n",
    "            return tree[n]\n",
    "        else:\n",
    "            a = postOrder(2*n)    # 왼쪽 자식으로 이동\n",
    "            b = postOrder(2*n+1)        # 오른쪽 자식으로 이동\n",
    "            tree[n] = a+b                   # 양쪽의 값을 더해서 저장\n",
    "        return tree[n]                      # 노드에 저장된 값을 반환\n",
    "    \n",
    "T = int(input())\n",
    "\n",
    "for tc in range(1, T+1):\n",
    "    N, M, L = map(int, input().split())\n",
    "    tree = [0 for i in range(N+1)]                         # 트리 생성\n",
    "    \n",
    "    for i in range(M):              \n",
    "        idx, value = map(int, input().split())          # 리프노드 값을 입력받아 저장\n",
    "        tree[idx] = value\n",
    "    postOrder(1)\n",
    "    \n",
    "    print('#{} {}'.format(tc, tree[L]))"
   ]
  }
 ],
 "metadata": {
  "kernelspec": {
   "display_name": "Python 3",
   "language": "python",
   "name": "python3"
  },
  "language_info": {
   "codemirror_mode": {
    "name": "ipython",
    "version": 3
   },
   "file_extension": ".py",
   "mimetype": "text/x-python",
   "name": "python",
   "nbconvert_exporter": "python",
   "pygments_lexer": "ipython3",
   "version": "3.7.6"
  },
  "toc": {
   "base_numbering": 1,
   "nav_menu": {},
   "number_sections": true,
   "sideBar": true,
   "skip_h1_title": false,
   "title_cell": "Table of Contents",
   "title_sidebar": "Contents",
   "toc_cell": false,
   "toc_position": {},
   "toc_section_display": true,
   "toc_window_display": false
  }
 },
 "nbformat": 4,
 "nbformat_minor": 4
}
