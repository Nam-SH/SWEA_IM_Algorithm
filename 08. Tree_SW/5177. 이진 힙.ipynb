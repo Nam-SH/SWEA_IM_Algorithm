{
 "cells": [
  {
   "cell_type": "markdown",
   "metadata": {},
   "source": [
    "# 5177. 이진 힙\n",
    "\n",
    "<br>\n",
    "\n",
    "![image](https://user-images.githubusercontent.com/50367487/64059712-b75c7e00-cbfc-11e9-958a-27fba81b4392.png)"
   ]
  },
  {
   "cell_type": "code",
   "execution_count": null,
   "metadata": {},
   "outputs": [],
   "source": [
    "def makeheap(n):\n",
    "    global last\n",
    "    last += 1      # 마지막 노드번호 증가\n",
    "    c = last          # 마지막 노드를 자식 노드로\n",
    "    p = c//2         # 부모 노드 번호 계산\n",
    "    tree[last] = n       # 마지막 노드에 값 저장\n",
    "    while c>1 and tree[p] > tree[c] :   # 루트가 아니고, 부모 노드의 값이 더 크면\n",
    "        tree[p], tree[c]=tree[c], tree[p]\n",
    "        c = p      # 부모를 새로운 자식 노드로\n",
    "        p = p//2\n",
    "\n",
    "def find():    # 마지막 노드의 조상 노드 찾기\n",
    "    global N\n",
    "    c = N\n",
    "    p = c//2\n",
    "    s = 0\n",
    "    while p>0 :\n",
    "        s += tree[p]       # 조상 노드 값을 더함\n",
    "        p = p//2\n",
    "    return s\n",
    "    \n",
    "T = int(input())\n",
    "for tc in range(1, T+1):\n",
    "    N = int(input())\n",
    "    last = 0                        # 노드가 하나도 없는 상태\n",
    "    tree = [0 for i in range(N+1)]     # 이진 힙 구현을 위한 리스트 생성\n",
    "    arr = list(map(int, input().split()))\n",
    "    \n",
    "    for i in range(N):              # 힙에 저장\n",
    "        makeheap(arr[i])\n",
    "    print('#{} {}'.format(tc, find()))\n"
   ]
  },
  {
   "cell_type": "code",
   "execution_count": null,
   "metadata": {},
   "outputs": [],
   "source": [
    "import sys; sys.stdin = open('data/(5177)input.txt', 'r')\n",
    "\n",
    "import heapq\n",
    "\n",
    "for tc in range(int(input())):\n",
    "    N = int(input())\n",
    "    arr = list(map(int, input().split()))\n",
    "\n",
    "    heap = []\n",
    "    for i in arr:\n",
    "        heapq.heappush(heap, i)\n",
    "    res = 0\n",
    "    while N - 1 >= 1:\n",
    "        N //= 2\n",
    "        res += heap[N - 1]\n",
    "    print('#{} {}'.format(tc + 1, res))"
   ]
  }
 ],
 "metadata": {
  "kernelspec": {
   "display_name": "Python 3",
   "language": "python",
   "name": "python3"
  },
  "language_info": {
   "codemirror_mode": {
    "name": "ipython",
    "version": 3
   },
   "file_extension": ".py",
   "mimetype": "text/x-python",
   "name": "python",
   "nbconvert_exporter": "python",
   "pygments_lexer": "ipython3",
   "version": "3.7.6"
  },
  "toc": {
   "base_numbering": 1,
   "nav_menu": {},
   "number_sections": true,
   "sideBar": true,
   "skip_h1_title": false,
   "title_cell": "Table of Contents",
   "title_sidebar": "Contents",
   "toc_cell": false,
   "toc_position": {},
   "toc_section_display": true,
   "toc_window_display": false
  }
 },
 "nbformat": 4,
 "nbformat_minor": 4
}
