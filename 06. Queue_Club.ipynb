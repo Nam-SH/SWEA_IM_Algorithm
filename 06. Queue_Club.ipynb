{
 "cells": [
  {
   "cell_type": "markdown",
   "metadata": {},
   "source": [
    "# 4047. 영준이의 카드 카운팅\n",
    "\n",
    "<br>\n",
    "\n",
    "![image](https://user-images.githubusercontent.com/50367487/63828368-2dfd3f80-c9a1-11e9-8e05-625a5eb5865c.png)"
   ]
  },
  {
   "cell_type": "code",
   "execution_count": null,
   "metadata": {},
   "outputs": [],
   "source": [
    "import sys; sys.stdin = open('data/(4047)input.txt', 'r')\n",
    "\n",
    "for tc in range(int(input())):\n",
    "    arr = input()\n",
    "\n",
    "    res = []\n",
    "    for i in range(0, len(arr), 3):\n",
    "        if arr[i:i + 3] not in res:\n",
    "            res.append(arr[i:i + 3])\n",
    "        else:\n",
    "            print('#{} ERROR'.format(tc + 1))\n",
    "            break\n",
    "    else:\n",
    "        s = d = h = c = 13\n",
    "        for i in arr:\n",
    "            if not i.isdigit():\n",
    "                if i == 'S': s -= 1\n",
    "                elif i == 'D': d -= 1\n",
    "                elif i == 'H': h -= 1\n",
    "                else: c -= 1\n",
    "        print('#{} {} {} {} {}'.format(tc + 1, s, d, h, c))"
   ]
  },
  {
   "cell_type": "markdown",
   "metadata": {},
   "source": [
    "# 1225. 암호생성기\n",
    "\n",
    "<br>\n",
    "\n",
    "![image](https://user-images.githubusercontent.com/50367487/63696693-3ac14c80-c856-11e9-8d06-2ce889ab9196.png)"
   ]
  },
  {
   "cell_type": "code",
   "execution_count": null,
   "metadata": {},
   "outputs": [],
   "source": [
    "import sys; sys.stdin = open('data/(1225)input.txt', 'r')\n",
    "from collections import deque\n",
    "\n",
    "for _ in range(10):\n",
    "    q = deque()\n",
    "    tc = input()\n",
    "    arr = input().split()\n",
    "    for i in arr:\n",
    "        q.append(int(i))\n",
    "\n",
    "    j = 1\n",
    "    while 0 not in q:\n",
    "        q[0] -= j\n",
    "        q.append(q.popleft())\n",
    "\n",
    "        if q[-1] <= 0:\n",
    "            q[-1] = 0\n",
    "            break\n",
    "        j += 1\n",
    "        if j > 5: j = 1\n",
    "    print('#' + tc, *q)"
   ]
  },
  {
   "cell_type": "markdown",
   "metadata": {},
   "source": [
    "# 1226. 미로1\n",
    "\n",
    "<br>\n",
    "\n",
    "![image](https://user-images.githubusercontent.com/50367487/63696700-4280f100-c856-11e9-8096-e891622be1cf.png)"
   ]
  },
  {
   "cell_type": "code",
   "execution_count": null,
   "metadata": {},
   "outputs": [],
   "source": [
    "import sys; sys.stdin = open('data/(1226)input.txt', 'r')\n",
    "from collections import deque\n",
    "\n",
    "def bfs(i, j):\n",
    "    q = deque()\n",
    "    q.append((1, 1))\n",
    "    visit = [(1, 1)]\n",
    "    while q:\n",
    "        i, j = q.popleft()\n",
    "        for dy, dx in delta:\n",
    "            ty = i + dy\n",
    "            tx = j + dx\n",
    "            if arr[ty][tx] == '3':\n",
    "                return 1\n",
    "            elif arr[ty][tx] == '0' and (ty, tx) not in visit:\n",
    "                visit.append((ty, tx))\n",
    "                q.append((ty, tx))\n",
    "    return 0\n",
    "\n",
    "for _ in range(10):\n",
    "    tc = int(input())\n",
    "    arr = [input() for _ in range(16)]\n",
    "    delta = [(0, 1), (0, -1), (1, 0), (-1, 0)]\n",
    "\n",
    "    print('#{} {}'.format(tc, bfs(1, 1)))"
   ]
  },
  {
   "cell_type": "markdown",
   "metadata": {},
   "source": [
    "# 1227. 미로2\n",
    "\n",
    "<br>\n",
    "\n",
    "![image](https://user-images.githubusercontent.com/50367487/63696712-4ad92c00-c856-11e9-8cbc-1698bf95b595.png)"
   ]
  },
  {
   "cell_type": "code",
   "execution_count": null,
   "metadata": {},
   "outputs": [],
   "source": [
    "import sys; sys.stdin = open('data/(1227)input.txt', 'r')\n",
    "from collections import deque\n",
    "\n",
    "def bfs(i, j):\n",
    "    q = deque()\n",
    "    q.append((1, 1))\n",
    "    visit = [(1, 1)]\n",
    "    while q:\n",
    "        i, j = q.popleft()\n",
    "        for dy, dx in delta:\n",
    "            ty = i + dy\n",
    "            tx = j + dx\n",
    "            if arr[ty][tx] == '3':\n",
    "                return 1\n",
    "            elif arr[ty][tx] == '0' and (ty, tx) not in visit:\n",
    "                visit.append((ty, tx))\n",
    "                q.append((ty, tx))\n",
    "    return 0\n",
    "\n",
    "for _ in range(10):\n",
    "    tc = int(input())\n",
    "    arr = [input() for _ in range(100)]\n",
    "    delta = [(0, 1), (0, -1), (1, 0), (-1, 0)]\n",
    "\n",
    "    print('#{} {}'.format(tc, bfs(2, 1)))"
   ]
  },
  {
   "cell_type": "markdown",
   "metadata": {},
   "source": [
    "# 1238. Contact\n",
    "\n",
    "<br>\n",
    "\n",
    "![image](https://user-images.githubusercontent.com/50367487/63696819-8116ab80-c856-11e9-8679-732a5db740d5.png)"
   ]
  },
  {
   "cell_type": "code",
   "execution_count": null,
   "metadata": {},
   "outputs": [],
   "source": [
    "import sys; sys.stdin = open('data/(1238)input.txt', 'r')\n",
    "from collections import deque\n",
    "\n",
    "def find(s):\n",
    "    q = deque()\n",
    "    q.append(s)\n",
    "    V[s] = True\n",
    "\n",
    "    while q:\n",
    "        u = q.popleft()\n",
    "        for w in G[u]:\n",
    "            if not V[w]:\n",
    "                V[w] = True\n",
    "                q.append(w)\n",
    "                D[w] = D[u] + 1\n",
    "    return\n",
    "\n",
    "for tc in range(10):\n",
    "    N, S = map(int, input().split())\n",
    "    arr = list(map(int, input().split()))\n",
    "    G = [[] for _ in range(101)]\n",
    "    D = [0] * 101\n",
    "\n",
    "    V = [False] * 101\n",
    "    for i in range(0, N, 2):\n",
    "        G[arr[i]].append(arr[i + 1])\n",
    "    find(S)\n",
    "\n",
    "    for i in range(100, -1, -1):\n",
    "        if D[i] == max(D):\n",
    "            print('#{} {}'.format(tc + 1, i))\n",
    "            break"
   ]
  },
  {
   "cell_type": "markdown",
   "metadata": {},
   "source": [
    "# 1247. 최적 경로 ---xxxxxx\n",
    "\n",
    "<br>\n",
    "\n",
    "![image](https://user-images.githubusercontent.com/50367487/63857419-a59d8f80-c9de-11e9-95dd-b59099d60bcd.png)"
   ]
  },
  {
   "cell_type": "code",
   "execution_count": null,
   "metadata": {},
   "outputs": [],
   "source": [
    "import sys; sys.stdin = open('data/(1247)input.txt', 'r')\n",
    "from collections import deque\n",
    "\n",
    "def BFS(s, G):\n",
    "\n",
    "    D[s] = 0\n",
    "    q = queue()\n",
    "    q.append(s)\n",
    "\n",
    "    while q:\n",
    "        u = q.popleft()\n",
    "        for v, w in G[u]:\n",
    "            if D[v] > D[u] + w:\n",
    "                D[v] = D[u] + w\n",
    "                P[v] = u\n",
    "                q.append(v)\n",
    "\n",
    "TC = int(input())\n",
    "for tc in range(1):\n",
    "    \n",
    "    n = int(input())\n",
    "    data = list(map(int, input().split()))\n",
    "    \n",
    "    arr = []\n",
    "    j = 1\n",
    "    for i in range(0, len(data) - 1, 2):\n",
    "        arr.append([j, data[i], data[i + 1]])\n",
    "        j += 1\n",
    "    \n",
    "    G = [[] for _ in range(n + 3)]\n",
    "    for i in range(len(arr) - 1):\n",
    "        for j in range(i + 1, len(arr)):\n",
    "            w = abs(arr[j][2] - arr[i][2]) + abs(arr[j][1] - arr[i][1])\n",
    "            G[i + 1].append((j + 1, w))\n",
    "            G[j + 1].append((i + 1, w))\n",
    "    \n"
   ]
  }
 ],
 "metadata": {
  "kernelspec": {
   "display_name": "Python 3",
   "language": "python",
   "name": "python3"
  },
  "language_info": {
   "codemirror_mode": {
    "name": "ipython",
    "version": 3
   },
   "file_extension": ".py",
   "mimetype": "text/x-python",
   "name": "python",
   "nbconvert_exporter": "python",
   "pygments_lexer": "ipython3",
   "version": "3.7.3"
  },
  "toc": {
   "base_numbering": 1,
   "nav_menu": {},
   "number_sections": true,
   "sideBar": true,
   "skip_h1_title": false,
   "title_cell": "Table of Contents",
   "title_sidebar": "Contents",
   "toc_cell": false,
   "toc_position": {},
   "toc_section_display": true,
   "toc_window_display": false
  }
 },
 "nbformat": 4,
 "nbformat_minor": 2
}
