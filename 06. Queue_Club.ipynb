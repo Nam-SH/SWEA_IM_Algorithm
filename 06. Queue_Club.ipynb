{
 "cells": [
  {
   "attachments": {},
   "cell_type": "markdown",
   "metadata": {},
   "source": [
    "# 4047. 영준이의 카드 카운팅\n",
    "\n",
    "<br>\n",
    "\n",
    "![image](https://user-images.githubusercontent.com/50367487/63828368-2dfd3f80-c9a1-11e9-8e05-625a5eb5865c.png)"
   ]
  },
  {
   "cell_type": "code",
   "execution_count": null,
   "metadata": {},
   "outputs": [],
   "source": [
    "import sys; sys.stdin = open('data/(4047)input.txt', 'r')\n",
    "\n",
    "for tc in range(int(input())):\n",
    "    arr = input()\n",
    "\n",
    "    res = []\n",
    "    for i in range(0, len(arr), 3):\n",
    "        if arr[i:i + 3] not in res:\n",
    "            res.append(arr[i:i + 3])\n",
    "        else:\n",
    "            print('#{} ERROR'.format(tc + 1))\n",
    "            break\n",
    "    else:\n",
    "        s = d = h = c = 13\n",
    "        for i in arr:\n",
    "            if not i.isdigit():\n",
    "                if i == 'S': s -= 1\n",
    "                elif i == 'D': d -= 1\n",
    "                elif i == 'H': h -= 1\n",
    "                else: c -= 1\n",
    "        print('#{} {} {} {} {}'.format(tc + 1, s, d, h, c))"
   ]
  },
  {
   "cell_type": "markdown",
   "metadata": {},
   "source": [
    "# 1225. 암호생성기\n",
    "\n",
    "<br>\n",
    "\n",
    "![image](https://user-images.githubusercontent.com/50367487/63696693-3ac14c80-c856-11e9-8d06-2ce889ab9196.png)"
   ]
  },
  {
   "cell_type": "code",
   "execution_count": null,
   "metadata": {},
   "outputs": [],
   "source": [
    "import sys; sys.stdin = open('data/(1225)input.txt', 'r')\n",
    "from collections import deque\n",
    "\n",
    "for _ in range(10):\n",
    "    q = deque()\n",
    "    tc = input()\n",
    "    arr = input().split()\n",
    "    for i in arr:\n",
    "        q.append(int(i))\n",
    "\n",
    "    j = 1\n",
    "    while 0 not in q:\n",
    "        q[0] -= j\n",
    "        q.append(q.popleft())\n",
    "\n",
    "        if q[-1] <= 0:\n",
    "            q[-1] = 0\n",
    "            break\n",
    "        j += 1\n",
    "        if j > 5: j = 1\n",
    "    print('#' + tc, end=' ')\n",
    "    print(*q)"
   ]
  },
  {
   "cell_type": "markdown",
   "metadata": {},
   "source": [
    "# 1226. 미로1\n",
    "\n",
    "<br>\n",
    "\n",
    "![image](https://user-images.githubusercontent.com/50367487/63696700-4280f100-c856-11e9-8096-e891622be1cf.png)"
   ]
  },
  {
   "cell_type": "code",
   "execution_count": null,
   "metadata": {},
   "outputs": [],
   "source": []
  },
  {
   "cell_type": "markdown",
   "metadata": {},
   "source": [
    "# 1227. 미로2\n",
    "\n",
    "<br>\n",
    "\n",
    "![image](https://user-images.githubusercontent.com/50367487/63696712-4ad92c00-c856-11e9-8cbc-1698bf95b595.png)"
   ]
  },
  {
   "cell_type": "code",
   "execution_count": null,
   "metadata": {},
   "outputs": [],
   "source": []
  }
 ],
 "metadata": {
  "kernelspec": {
   "display_name": "Python 3",
   "language": "python",
   "name": "python3"
  },
  "language_info": {
   "codemirror_mode": {
    "name": "ipython",
    "version": 3
   },
   "file_extension": ".py",
   "mimetype": "text/x-python",
   "name": "python",
   "nbconvert_exporter": "python",
   "pygments_lexer": "ipython3",
   "version": "3.7.3"
  },
  "toc": {
   "base_numbering": 1,
   "nav_menu": {},
   "number_sections": true,
   "sideBar": true,
   "skip_h1_title": false,
   "title_cell": "Table of Contents",
   "title_sidebar": "Contents",
   "toc_cell": false,
   "toc_position": {},
   "toc_section_display": true,
   "toc_window_display": false
  }
 },
 "nbformat": 4,
 "nbformat_minor": 2
}
