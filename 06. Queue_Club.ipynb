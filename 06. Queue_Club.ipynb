{
 "cells": [
  {
   "cell_type": "markdown",
   "metadata": {},
   "source": [
    "# 1222. 계산기1\n",
    "\n",
    "<br>\n",
    "\n",
    "![image](https://user-images.githubusercontent.com/50367487/63696407-9d661880-c855-11e9-89a3-6d58552bfc63.png)"
   ]
  },
  {
   "cell_type": "code",
   "execution_count": null,
   "metadata": {},
   "outputs": [],
   "source": [
    "for tc in range(10):\n",
    "    N = int(input())\n",
    "    data = input()\n",
    "    num = [data[0]]\n",
    "\n",
    "    for i in range(1, N - 1):\n",
    "        if not data[i].isdigit():\n",
    "            b = data[i + 1]\n",
    "            a = num.pop()\n",
    "            val = int(a) + int(b)\n",
    "            num.append(val)\n",
    "\n",
    "    print('#{} {}'.format(tc + 1, *num))"
   ]
  },
  {
   "cell_type": "markdown",
   "metadata": {},
   "source": [
    "# 1223. 계산기2\n",
    "\n",
    "<br>\n",
    "\n",
    "![image](https://user-images.githubusercontent.com/50367487/63696445-ba025080-c855-11e9-81fa-b81ac2866bc8.png)"
   ]
  },
  {
   "cell_type": "code",
   "execution_count": null,
   "metadata": {},
   "outputs": [],
   "source": [
    "import sys; sys.stdin = open('data/(1223)input.txt', 'r')\n",
    "\n",
    "isp = {'(': 0, '+': 1, '-': 1, '*': 2, '/': 2}\n",
    "icp = {'(': 3, '+': 1, '-': 1, '*': 2, '/': 2}\n",
    "\n",
    "for tc in range(10):\n",
    "    N = int(input())\n",
    "    arr = input()\n",
    "    sign = []\n",
    "    res = []\n",
    "    for i in arr:\n",
    "        if i.isdigit(): res.append(i)\n",
    "\n",
    "        else:\n",
    "            if not sign: sign.append(i)\n",
    "\n",
    "            else:\n",
    "                if icp[i] > isp[sign[-1]]: sign.append(i)\n",
    "\n",
    "                else:\n",
    "                    while sign and icp[i] <= isp[sign[-1]]: res.append(sign.pop())\n",
    "                    sign.append(i)\n",
    "\n",
    "    while sign: res.append(sign.pop())\n",
    "\n",
    "    calc = []\n",
    "    for j in res:\n",
    "        if j.isdigit(): calc.append(j)\n",
    "\n",
    "        else:\n",
    "            b = int(calc.pop())\n",
    "            a = int(calc.pop())\n",
    "\n",
    "            if j == \"+\": c = a + b\n",
    "            else: c = a * b\n",
    "            calc.append(c)\n",
    "\n",
    "    print('#{} {}'.format(tc + 1, *calc))"
   ]
  },
  {
   "cell_type": "markdown",
   "metadata": {},
   "source": [
    "# 1224. 계산기3\n",
    "\n",
    "<br>\n",
    "\n",
    "![image](https://user-images.githubusercontent.com/50367487/63696452-bf5f9b00-c855-11e9-9c9f-c493e7987450.png)\n"
   ]
  },
  {
   "cell_type": "code",
   "execution_count": null,
   "metadata": {},
   "outputs": [],
   "source": [
    "import sys; sys.stdin = open('data/(1224)input.txt', 'r')\n",
    "\n",
    "isp = {'(': 0, '+': 1, '-': 1, '*': 2, '/': 2}\n",
    "icp = {'(': 3, '+': 1, '-': 1, '*': 2, '/': 2}\n",
    "\n",
    "for tc in range(10):\n",
    "    N = int(input())\n",
    "    arr = input()\n",
    "    sign = []\n",
    "    res = []\n",
    "    for i in arr:\n",
    "        if i.isdigit(): res.append(i)\n",
    "\n",
    "        else:\n",
    "            if not sign: sign.append(i)\n",
    "            else:\n",
    "                if i == ')':\n",
    "                    while sign[-1] != '(': res.append(sign.pop())\n",
    "                    sign.pop()\n",
    "                elif icp[i] > isp[sign[-1]]: sign.append(i)\n",
    "                else:\n",
    "                    while icp[i] <= isp[sign[-1]]: res.append(sign.pop())\n",
    "                    sign.append(i)\n",
    "\n",
    "    calc = []\n",
    "    for j in res:\n",
    "        if j.isdigit(): calc.append(j)\n",
    "        else:\n",
    "            b = int(calc.pop())\n",
    "            a = int(calc.pop())\n",
    "            if j == \"+\": c = a + b\n",
    "            else: c = a * b\n",
    "            calc.append(c)\n",
    "\n",
    "    print('#{} {}'.format(tc + 1, *calc))"
   ]
  }
 ],
 "metadata": {
  "kernelspec": {
   "display_name": "Python 3",
   "language": "python",
   "name": "python3"
  },
  "language_info": {
   "codemirror_mode": {
    "name": "ipython",
    "version": 3
   },
   "file_extension": ".py",
   "mimetype": "text/x-python",
   "name": "python",
   "nbconvert_exporter": "python",
   "pygments_lexer": "ipython3",
   "version": "3.7.3"
  },
  "toc": {
   "base_numbering": 1,
   "nav_menu": {},
   "number_sections": true,
   "sideBar": true,
   "skip_h1_title": false,
   "title_cell": "Table of Contents",
   "title_sidebar": "Contents",
   "toc_cell": false,
   "toc_position": {},
   "toc_section_display": true,
   "toc_window_display": false
  }
 },
 "nbformat": 4,
 "nbformat_minor": 2
}
