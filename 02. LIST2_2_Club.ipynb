{
 "cells": [
  {
   "cell_type": "markdown",
   "metadata": {},
   "source": [
    "# 1259. 금속막대\n",
    "\n",
    "<br>\n",
    "\n",
    "![image](https://user-images.githubusercontent.com/50367487/62515180-8044b800-b85c-11e9-9a37-ac8dcf7f1df5.png)"
   ]
  },
  {
   "cell_type": "code",
   "execution_count": null,
   "metadata": {},
   "outputs": [],
   "source": [
    "TC = int(input())\n",
    "for t in range(TC):\n",
    "\n",
    "    N = int(input())\n",
    "    arr = list(map(int, input().split()))\n",
    "    \n",
    "    res = [[i, j] for i, j in zip(arr[::2], arr[1::2])]\n",
    "    print(res)\n",
    "    find = [res[0]]\n",
    "    while len(find) != len(res):\n",
    "        for i in range(1, len(res)):\n",
    "            if res[i][1] == find[0][0]:\n",
    "                find.insert(0, res[i])\n",
    "            if find[-1][1] == res[i][0]:\n",
    "                find.append(res[i])\n",
    "\n",
    "    print('#{}'.format(t + 1), end=' ')\n",
    "    print(*[x for i in find for x in i]"
   ]
  }
 ],
 "metadata": {
  "kernelspec": {
   "display_name": "Python 3",
   "language": "python",
   "name": "python3"
  },
  "language_info": {
   "codemirror_mode": {
    "name": "ipython",
    "version": 3
   },
   "file_extension": ".py",
   "mimetype": "text/x-python",
   "name": "python",
   "nbconvert_exporter": "python",
   "pygments_lexer": "ipython3",
   "version": "3.7.3"
  },
  "toc": {
   "base_numbering": 1,
   "nav_menu": {},
   "number_sections": true,
   "sideBar": true,
   "skip_h1_title": false,
   "title_cell": "Table of Contents",
   "title_sidebar": "Contents",
   "toc_cell": false,
   "toc_position": {},
   "toc_section_display": true,
   "toc_window_display": false
  }
 },
 "nbformat": 4,
 "nbformat_minor": 2
}
