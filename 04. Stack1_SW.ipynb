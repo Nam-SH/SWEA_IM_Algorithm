{
 "cells": [
  {
   "cell_type": "markdown",
   "metadata": {},
   "source": [
    "# 4869. 종이붙이기\n",
    "\n",
    "<br>\n",
    "\n",
    "![image](https://user-images.githubusercontent.com/50367487/62712679-4929fe80-ba36-11e9-9b58-52d614c51a92.png)"
   ]
  },
  {
   "cell_type": "code",
   "execution_count": null,
   "metadata": {},
   "outputs": [],
   "source": [
    "TC = int(input())\n",
    "for tc in range(TC):\n",
    "    N = int(input())\n",
    "    \n",
    "    arr = [1, 3]\n",
    "    for i in range(2, N//10):\n",
    "        arr.append(arr[i-1] + arr[i-2]*2)\n",
    "        \n",
    "    print(\"#{} {}\".format(tc + 1, arr[-1]))"
   ]
  },
  {
   "cell_type": "markdown",
   "metadata": {},
   "source": [
    "# 4866.  괄호검사\n",
    "\n",
    "<br>\n",
    "\n",
    "![image](https://user-images.githubusercontent.com/50367487/62712785-7bd3f700-ba36-11e9-9d5f-48d8d2d4c37e.png)"
   ]
  },
  {
   "cell_type": "markdown",
   "metadata": {},
   "source": [
    "```\n",
    "print('{} {}'.format(1, 2))\n",
    "N, M = map(int, input().split())\n",
    "print('#{} {}'.format(tc, find())\n",
    "```"
   ]
  },
  {
   "cell_type": "code",
   "execution_count": null,
   "metadata": {},
   "outputs": [],
   "source": [
    "for t in range(int(input())):\n",
    "    data = input()\n",
    "    lst = []\n",
    "    for i in data:\n",
    "        if i == '(' or i == '{': lst.append(i)\n",
    "\n",
    "        elif i == ')' or i == '}':\n",
    "            if not lst or (i == ')' and lst.pop() == '{') or (i == '}' and lst.pop() == '('):\n",
    "                res = 0\n",
    "                break\n",
    "    else:\n",
    "        if lst: res = 0\n",
    "        else: res = 1\n",
    "\n",
    "    print('#{} {}'.format(t + 1, res))"
   ]
  },
  {
   "cell_type": "markdown",
   "metadata": {},
   "source": [
    "#  4871. 그래프 경로\n",
    "\n",
    "<br>\n",
    "\n",
    "![image](https://user-images.githubusercontent.com/50367487/62712846-9b6b1f80-ba36-11e9-827e-0066b1d502c9.png)"
   ]
  },
  {
   "cell_type": "code",
   "execution_count": null,
   "metadata": {},
   "outputs": [],
   "source": [
    "import sys\n",
    "sys.stdin = open('test.txt', 'r')\n",
    "\n",
    "TC = int(input())\n",
    "for tc in range(TC):\n",
    "    v, e = map(int, input().split())\n",
    "\n",
    "    arr = [[] for _ in range(v+1)]\n",
    "    for _ in range(e):\n",
    "        a, b = map(int, input().split())\n",
    "        arr[a].append(b)\n",
    "    s, g = map(int, input().split())\n",
    "\n",
    "    visited = [s]\n",
    "    while 1:\n",
    "        if arr[s]:\n",
    "            s = arr[s][0]\n",
    "            visited.append(s)\n",
    "        else:\n",
    "            visited.pop()\n",
    "            if visited:\n",
    "                s = visited[-1]\n",
    "                arr[s].pop(0)\n",
    "            else:\n",
    "                print(\"#{} 0\".format(tc + 1))\n",
    "                break\n",
    "        if s == g:\n",
    "            print(\"#{} 1\".format(tc + 1))\n",
    "            break\n"
   ]
  },
  {
   "cell_type": "markdown",
   "metadata": {},
   "source": [
    "# 4873.  반복문자 지우기\n",
    "\n",
    "<br>\n",
    "\n",
    "![image](https://user-images.githubusercontent.com/50367487/62712895-b9d11b00-ba36-11e9-8afa-13575f8402cc.png)"
   ]
  },
  {
   "cell_type": "markdown",
   "metadata": {},
   "source": [
    "```\n",
    "3\n",
    "ABCCB\n",
    "NNNASBBSNV\n",
    "UKJWHGGHNFTCRRCTWLALX\n",
    "```"
   ]
  },
  {
   "cell_type": "code",
   "execution_count": null,
   "metadata": {},
   "outputs": [],
   "source": [
    "TC = int(input())\n",
    "for tc in range(TC):\n",
    "    data = input()\n",
    "    arr = [0]\n",
    "    for i in data:\n",
    "        if i != arr[-1]:\n",
    "            arr.append(i)\n",
    "        else:\n",
    "            arr.pop()\n",
    "    print('#{} {}'.format(tc + 1, len(arr)-1))"
   ]
  }
 ],
 "metadata": {
  "kernelspec": {
   "display_name": "Python 3",
   "language": "python",
   "name": "python3"
  },
  "language_info": {
   "codemirror_mode": {
    "name": "ipython",
    "version": 3
   },
   "file_extension": ".py",
   "mimetype": "text/x-python",
   "name": "python",
   "nbconvert_exporter": "python",
   "pygments_lexer": "ipython3",
   "version": "3.7.3"
  },
  "toc": {
   "base_numbering": 1,
   "nav_menu": {},
   "number_sections": true,
   "sideBar": true,
   "skip_h1_title": false,
   "title_cell": "Table of Contents",
   "title_sidebar": "Contents",
   "toc_cell": false,
   "toc_position": {},
   "toc_section_display": true,
   "toc_window_display": false
  }
 },
 "nbformat": 4,
 "nbformat_minor": 2
}
