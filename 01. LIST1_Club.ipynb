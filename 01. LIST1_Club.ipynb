{
 "cells": [
  {
   "cell_type": "markdown",
   "metadata": {},
   "source": [
    "# 1206. - View\n",
    "\n",
    "<br>\n",
    "\n",
    "![image](https://user-images.githubusercontent.com/50367487/62030175-7d741280-b21f-11e9-90aa-f04b233ada0a.png)"
   ]
  },
  {
   "cell_type": "code",
   "execution_count": null,
   "metadata": {},
   "outputs": [],
   "source": [
    "#  처음\n",
    "\n",
    "for n in range(10):\n",
    "    N = int(input())\n",
    "    num = list(map(int, input().split()))\n",
    "    result = 0\n",
    "    for i in range(2, N-1):\n",
    "        if num[i-2] < num[i] and num[i-1] < num[i] and num[i+1] < num[i] and num[i+2] < num[i]:\n",
    "            MAX = num[i-2]\n",
    "            for val in [num[i-2], num[i-1], num[i+1], num[i+2]]:\n",
    "                if val > MAX:\n",
    "                    MAX = val\n",
    "            result += num[i] - MAX\n",
    "    print('#{} {}'.format(n+1,result))"
   ]
  },
  {
   "cell_type": "code",
   "execution_count": null,
   "metadata": {},
   "outputs": [],
   "source": [
    "# 수정 한 후\n",
    "\n",
    "for n in range(10):\n",
    "    N = int(input())\n",
    "    num = list(map(int, input().split()))\n",
    "    result = 0\n",
    "    for i in range(2, N-1):\n",
    "        MAX = max(num[i-2], num[i-1], num[i+1], num[i+2])\n",
    "            if MAX < num[i]:\n",
    "                result += num[i] - MAX\n",
    "    print('#{} {}'.format(n+1,result))"
   ]
  },
  {
   "cell_type": "markdown",
   "metadata": {},
   "source": [
    "# 1208. - Flatten\n",
    "\n",
    "![image](https://user-images.githubusercontent.com/50367487/62112678-25f0a800-b2ee-11e9-9932-bd8c192cc72c.png)\n",
    "![image](https://user-images.githubusercontent.com/50367487/62112761-559fb000-b2ee-11e9-9b9d-de4939278627.png)\n",
    "![image](https://user-images.githubusercontent.com/50367487/62112796-6bad7080-b2ee-11e9-9bcb-b206000c939e.png)"
   ]
  },
  {
   "cell_type": "code",
   "execution_count": null,
   "metadata": {},
   "outputs": [],
   "source": [
    "for k in range(10):\n",
    "    dump = int(input())\n",
    "    data = list(map(int, input().split()))\n",
    "    count = 0\n",
    "\n",
    "    while count <= dump:\n",
    "\n",
    "        MAX = MIN = data[0]\n",
    "        for val in data:\n",
    "            if MAX < val:\n",
    "                MAX = val\n",
    "            if MIN > val:\n",
    "                MIN = val\n",
    "\n",
    "        if MAX - MIN <= 1:\n",
    "            break\n",
    "\n",
    "        data.remove(MAX)\n",
    "        data.remove(MIN)\n",
    "        data.append(MAX - 1)\n",
    "        data.append(MIN + 1)\n",
    "\n",
    "        count +=1\n",
    "    print('#{} {}'.format(k+1, MAX - MIN))"
   ]
  },
  {
   "cell_type": "code",
   "execution_count": null,
   "metadata": {},
   "outputs": [],
   "source": [
    "for k in range(10):\n",
    "    dump = int(input())\n",
    "    data = list(map(int, input().split()))\n",
    "    count = 0\n",
    "\n",
    "    while count <= dump:\n",
    "\n",
    "        if max(data) - min(data) <= 1:\n",
    "            break\n",
    "\n",
    "        data.remove(max(data))\n",
    "        data.append(max(data) - 1)\n",
    "        data.remove(min(data))\n",
    "        data.append(min(data) + 1)\n",
    "\n",
    "        count +=1\n",
    "        \n",
    "    print('#{} {}'.format(k+1, MAX - MIN))"
   ]
  },
  {
   "cell_type": "code",
   "execution_count": null,
   "metadata": {},
   "outputs": [],
   "source": [
    "for k in range(10):\n",
    "    dump = int(input())\n",
    "    data = list(map(int, input().split()))\n",
    "    \n",
    "    for d in range(dump):\n",
    "        mx, mn = 0, 0\n",
    "        for i in range(1, len(data)):\n",
    "            if data[mx] < data[i]:\n",
    "                mx = i\n",
    "            if data[mn] > data[i]:\n",
    "                mn = i\n",
    "                \n",
    "        if d == dump: break\n",
    "        \n",
    "        data[mx] -= 1\n",
    "        data[mn] += 1\n",
    "        \n",
    "    print('#{} {}'.format(k+1, MAX - MIN))"
   ]
  },
  {
   "cell_type": "code",
   "execution_count": null,
   "metadata": {},
   "outputs": [],
   "source": [
    "for k in range(10):\n",
    "    dump = int(input())\n",
    "    data = list(map(int, input().split()))\n",
    "    \n",
    "    for d in range(dump):\n",
    "        mx, mn = 0, 0\n",
    "        for i in range(1, len(data)):\n",
    "            if data[mx] < data[i]:\n",
    "                mx = i\n",
    "            if data[mn] > data[i]:\n",
    "                mn = i\n",
    "                \n",
    "        if d == dump: break\n",
    "        \n",
    "        data[mx] -= 1\n",
    "        data[mn] += 1\n",
    "        \n",
    "    print('#{} {}'.format(k+1, MAX - MIN))"
   ]
  },
  {
   "cell_type": "code",
   "execution_count": null,
   "metadata": {},
   "outputs": [],
   "source": [
    "for k in range(10):\n",
    "    dump = int(input())\n",
    "    data = list(map(int, input().split()))\n",
    "    cnt = [0]*101\n",
    "    \n",
    "    minIdx, maxIdx = 0, 100\n",
    "    i = 0\n",
    "    \n",
    "    while i < 100:\n",
    "        while cnt[minIdx] == 0:\n",
    "            minIdx += i\n",
    "        while cnt[maxIdx] == 0:\n",
    "            maxIdx -= i\n",
    "                \n",
    "        i += 1\n",
    "        \n",
    "    if cnt[minIdx] == 0: minIdx += 1\n",
    "    if cnt[maxIdx] == 0: maxIdx += 1\n",
    "        \n",
    "    print('#{} {}'.format(k+1, maxIdxdx - minIdx))"
   ]
  }
 ],
 "metadata": {
  "kernelspec": {
   "display_name": "Python 3",
   "language": "python",
   "name": "python3"
  },
  "language_info": {
   "codemirror_mode": {
    "name": "ipython",
    "version": 3
   },
   "file_extension": ".py",
   "mimetype": "text/x-python",
   "name": "python",
   "nbconvert_exporter": "python",
   "pygments_lexer": "ipython3",
   "version": "3.7.4"
  },
  "toc": {
   "base_numbering": 1,
   "nav_menu": {},
   "number_sections": true,
   "sideBar": true,
   "skip_h1_title": false,
   "title_cell": "Table of Contents",
   "title_sidebar": "Contents",
   "toc_cell": false,
   "toc_position": {},
   "toc_section_display": true,
   "toc_window_display": false
  }
 },
 "nbformat": 4,
 "nbformat_minor": 2
}
