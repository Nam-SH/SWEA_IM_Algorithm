{
 "cells": [
  {
   "cell_type": "markdown",
   "metadata": {},
   "source": [
    "# 5120. 암호\n",
    "\n",
    "<br>\n",
    "\n",
    "![image](https://user-images.githubusercontent.com/50367487/63827220-49fee200-c99d-11e9-89be-bf03c7f4154f.png)"
   ]
  },
  {
   "cell_type": "code",
   "execution_count": null,
   "metadata": {},
   "outputs": [],
   "source": [
    "import sys; sys.stdin = open('data/(5120)input.txt', 'r')\n",
    "\n",
    "TC = int(input())\n",
    "\n",
    "for tc in range(TC):\n",
    "    N, M, K = map(int, input().split())\n",
    "    arr = list(map(int, input().split()))\n",
    "\n",
    "    s = M\n",
    "    for i in range(K):\n",
    "        if s < len(arr):\n",
    "            arr.insert(s, arr[s - 1] + arr[s])\n",
    "            s += M\n",
    "\n",
    "        elif s == len(arr):\n",
    "            arr.append(arr[s - 1] + arr[0])\n",
    "            s += M - len(arr)\n",
    "\n",
    "        else:\n",
    "            s = s - len(arr)\n",
    "            arr.insert(s, arr[s - 1] + arr[s])\n",
    "            s += M\n",
    "\n",
    "    arr.reverse()\n",
    "    arr = arr[:10]\n",
    "    print(tc + 1, *arr)"
   ]
  }
 ],
 "metadata": {
  "kernelspec": {
   "display_name": "Python 3",
   "language": "python",
   "name": "python3"
  },
  "language_info": {
   "codemirror_mode": {
    "name": "ipython",
    "version": 3
   },
   "file_extension": ".py",
   "mimetype": "text/x-python",
   "name": "python",
   "nbconvert_exporter": "python",
   "pygments_lexer": "ipython3",
   "version": "3.7.6"
  },
  "toc": {
   "base_numbering": 1,
   "nav_menu": {},
   "number_sections": true,
   "sideBar": true,
   "skip_h1_title": false,
   "title_cell": "Table of Contents",
   "title_sidebar": "Contents",
   "toc_cell": false,
   "toc_position": {},
   "toc_section_display": true,
   "toc_window_display": false
  }
 },
 "nbformat": 4,
 "nbformat_minor": 4
}
