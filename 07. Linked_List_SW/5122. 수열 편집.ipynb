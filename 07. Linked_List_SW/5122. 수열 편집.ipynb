{
 "cells": [
  {
   "cell_type": "markdown",
   "metadata": {},
   "source": [
    "# 5122. 수열 편집\n",
    "\n",
    "<br>\n",
    "\n",
    "![image](https://user-images.githubusercontent.com/50367487/63827232-5125f000-c99d-11e9-99ca-ca14b843c97c.png)"
   ]
  },
  {
   "cell_type": "code",
   "execution_count": null,
   "metadata": {},
   "outputs": [],
   "source": [
    "import sys; sys.stdin = open('data/(5122)input.txt', 'r')\n",
    "\n",
    "for tc in range(int(input())):\n",
    "    N, M, L = map(int, input().split())\n",
    "    arr = list(map(int, input().split()))\n",
    "    for _ in range(M):\n",
    "        e, *v = input().split()\n",
    "        if e == 'I':\n",
    "            arr.insert(int(v[0]), int(v[1]))\n",
    "        elif e == 'D':\n",
    "            arr.pop(int(v[0]))\n",
    "        else:\n",
    "            arr[int(v[0])] = int(v[1])\n",
    "\n",
    "    print('#{} {}'.format(tc + 1, arr[L] if L < len(arr) else -1))"
   ]
  }
 ],
 "metadata": {
  "kernelspec": {
   "display_name": "Python 3",
   "language": "python",
   "name": "python3"
  },
  "language_info": {
   "codemirror_mode": {
    "name": "ipython",
    "version": 3
   },
   "file_extension": ".py",
   "mimetype": "text/x-python",
   "name": "python",
   "nbconvert_exporter": "python",
   "pygments_lexer": "ipython3",
   "version": "3.7.6"
  },
  "toc": {
   "base_numbering": 1,
   "nav_menu": {},
   "number_sections": true,
   "sideBar": true,
   "skip_h1_title": false,
   "title_cell": "Table of Contents",
   "title_sidebar": "Contents",
   "toc_cell": false,
   "toc_position": {},
   "toc_section_display": true,
   "toc_window_display": false
  }
 },
 "nbformat": 4,
 "nbformat_minor": 4
}
