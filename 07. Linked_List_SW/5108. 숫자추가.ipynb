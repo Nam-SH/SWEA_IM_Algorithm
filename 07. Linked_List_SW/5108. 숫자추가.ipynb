{
 "cells": [
  {
   "cell_type": "markdown",
   "metadata": {},
   "source": [
    "# 5108. 숫자추가\n",
    "\n",
    "<br>\n",
    "\n",
    "![image](https://user-images.githubusercontent.com/50367487/63827202-3eabb680-c99d-11e9-86b6-f5bc12ad449a.png)"
   ]
  },
  {
   "cell_type": "code",
   "execution_count": null,
   "metadata": {},
   "outputs": [],
   "source": [
    "import sys; sys.stdin = open('data/(5108)input.txt', 'r')\n",
    "\n",
    "for tc in range(int(input())):\n",
    "    N, M, L = map(int, input().split())\n",
    "\n",
    "    arr = list(map(int, input().split()))\n",
    "\n",
    "    for _ in range(M):\n",
    "        idx, num = map(int, input().split())\n",
    "        arr.insert(idx, num)\n",
    "\n",
    "    print('#{} {}'.format(tc + 1, arr[L]))"
   ]
  },
  {
   "cell_type": "code",
   "execution_count": null,
   "metadata": {},
   "outputs": [],
   "source": [
    "import sys; sys.stdin = open('data/(5108)input.txt', 'r')\n",
    "\n",
    "class Node:\n",
    "    def __init__(self, data, link):\n",
    "        self.data = data\n",
    "        self.link = link\n",
    "\n",
    "def addLast(data):              # 마지막노드 추가\n",
    "    global pHead\n",
    "    if pHead==None:\n",
    "        pHead = Node(data, None)\n",
    "    else:\n",
    "        p = pHead\n",
    "        while p.link != None:\n",
    "            p = p.link\n",
    "        p.link = Node(data, None)\n",
    "    return\n",
    "\n",
    "def add(data, idx):             # idx 위치에 새 노드 추가\n",
    "    global pHead\n",
    "    p = pHead\n",
    "    n = 0\n",
    "    while n<idx-1:\n",
    "        p = p.link\n",
    "        n += 1\n",
    "    t = p.link\n",
    "    p.link = Node(data, t)    \n",
    "    return\n",
    "\n",
    "def get(idx):                       # idx의 데이터 리턴\n",
    "    p = pHead\n",
    "    n = 0\n",
    "    while n<idx:\n",
    "        p = p.link\n",
    "        n += 1\n",
    "    return p.data\n",
    "\n",
    "for tc in range(int(input())):\n",
    "    N, M, L = map(int, input().split())\n",
    "    pHead = None\n",
    "\n",
    "    s = list(map(int, input().split()))   # 미완성 수열 저장\n",
    "    for i in range(N):\n",
    "       addLast(s[i])\n",
    " \n",
    "    for i in range(M):                                  # M개의 숫자 추가\n",
    "        idx, data = map(int, input().split()) \n",
    "        add(data, idx)\n",
    "        \n",
    "    print('#{} {}'.format(tc + 1, get(L)))\n"
   ]
  }
 ],
 "metadata": {
  "kernelspec": {
   "display_name": "Python 3",
   "language": "python",
   "name": "python3"
  },
  "language_info": {
   "codemirror_mode": {
    "name": "ipython",
    "version": 3
   },
   "file_extension": ".py",
   "mimetype": "text/x-python",
   "name": "python",
   "nbconvert_exporter": "python",
   "pygments_lexer": "ipython3",
   "version": "3.7.6"
  },
  "toc": {
   "base_numbering": 1,
   "nav_menu": {},
   "number_sections": true,
   "sideBar": true,
   "skip_h1_title": false,
   "title_cell": "Table of Contents",
   "title_sidebar": "Contents",
   "toc_cell": false,
   "toc_position": {},
   "toc_section_display": true,
   "toc_window_display": false
  }
 },
 "nbformat": 4,
 "nbformat_minor": 4
}
