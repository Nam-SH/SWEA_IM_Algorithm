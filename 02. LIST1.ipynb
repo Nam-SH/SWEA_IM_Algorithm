{
 "cells": [
  {
   "cell_type": "markdown",
   "metadata": {},
   "source": [
    "# 4828. min max\n",
    "\n",
    "![image](https://user-images.githubusercontent.com/50367487/62105233-bfaf5980-b2dc-11e9-8238-5f3a483f3f01.png)"
   ]
  },
  {
   "cell_type": "code",
   "execution_count": 5,
   "metadata": {},
   "outputs": [
    {
     "name": "stdout",
     "output_type": "stream",
     "text": [
      "1\n",
      "5\n",
      "477162 658880 751280 927930 297191\n",
      "#1 450768\n"
     ]
    }
   ],
   "source": [
    "N = int(input())\n",
    "\n",
    "for k in range(N):\n",
    "    num = int(input())\n",
    "    ex_list = list(map(int, input().split()))\n",
    "\n",
    "    MAX = MIN = ex_list[0]\n",
    "    for val in ex_list[1:]:\n",
    "        if MAX < val:\n",
    "            MAX = int(val)\n",
    "        if MIN > val:\n",
    "            MIN = val\n",
    "    print('#{} {}'.format(k+1, MAX - MIN))"
   ]
  },
  {
   "attachments": {},
   "cell_type": "markdown",
   "metadata": {},
   "source": [
    "# 4831. 1일차 - 전기버스\n",
    "\n",
    "![image](https://user-images.githubusercontent.com/50367487/62105819-7233ec00-b2de-11e9-86c8-085ded14457a.png)\n",
    "![image](https://user-images.githubusercontent.com/50367487/62105796-647e6680-b2de-11e9-8f8d-d5eba125ab7b.png)"
   ]
  },
  {
   "cell_type": "code",
   "execution_count": null,
   "metadata": {},
   "outputs": [],
   "source": [
    "T = int(input())\n",
    "\n",
    "for p in range(T):\n",
    "\n",
    "    k, n, m = list(map(int, input().split()))\n",
    "    m_list = list(map(int, input().split()))\n",
    "    loc = charge = fail = move = 0\n",
    "\n",
    "    while loc < (n - k) and fail == 0:\n",
    "\n",
    "        for j in range(k, 0, -1):\n",
    "            if (loc + j) not in m_list:\n",
    "                fail = 1\n",
    "            else:\n",
    "                fail = 0\n",
    "                move = j\n",
    "                loc += move\n",
    "                charge += 1\n",
    "                break\n",
    "\n",
    "    if fail == 1:\n",
    "        charge = 0\n",
    "\n",
    "    print('#{} {}'.format(p+1, charge))"
   ]
  },
  {
   "cell_type": "markdown",
   "metadata": {},
   "source": [
    "# 4834. 숫자 카드\n",
    "\n",
    "![image](https://user-images.githubusercontent.com/50367487/62105891-a3142100-b2de-11e9-8caa-4475176d37e5.png)"
   ]
  },
  {
   "cell_type": "code",
   "execution_count": 8,
   "metadata": {},
   "outputs": [
    {
     "name": "stdout",
     "output_type": "stream",
     "text": [
      "1\n",
      "5\n",
      "49679\n",
      "#1 9 2\n"
     ]
    }
   ],
   "source": [
    "T = int(input())\n",
    "\n",
    "for k in range(T):\n",
    "    N = int(input())\n",
    "    card = sorted(list(map(int, input())))\n",
    "\n",
    "    result = {}\n",
    "    for key in card:\n",
    "        if key not in result:\n",
    "            result[key] = 1\n",
    "        else:\n",
    "            result[key] += 1\n",
    "        res = {val: key for key, val in result.items()}\n",
    "    print('#{} {} {}'.format(k+1, res[max(res)], result[res[max(res)]]))"
   ]
  },
  {
   "cell_type": "markdown",
   "metadata": {},
   "source": [
    "# 4835. 구간합\n",
    "\n",
    "![image](https://user-images.githubusercontent.com/50367487/62106028-16b62e00-b2df-11e9-9eeb-ae3ec013f12e.png)\n",
    "![image](https://user-images.githubusercontent.com/50367487/62106044-26357700-b2df-11e9-8d4f-a399a590e392.png)"
   ]
  },
  {
   "cell_type": "code",
   "execution_count": 10,
   "metadata": {},
   "outputs": [
    {
     "name": "stdout",
     "output_type": "stream",
     "text": [
      "1\n",
      "10 3\n",
      "1 2 3 4 5 6 7 8 9 10\n",
      "#1 21\n"
     ]
    }
   ],
   "source": [
    "T = int(input())\n",
    "\n",
    "for k in range(T):\n",
    "    N, M = map(int, input().split())\n",
    "    n_list = list(map(int, input().split()))\n",
    "    MAX = MIN = 0\n",
    "    \n",
    "    for i in range(M):\n",
    "        MAX += n_list[i]\n",
    "        MIN += n_list[i]\n",
    "\n",
    "    for i in range(1, N-(M-1)):\n",
    "        \n",
    "        crt = 0\n",
    "        for j in range(i, i+M):\n",
    "            crt += n_list[j]\n",
    "        \n",
    "        if MAX < crt:\n",
    "            MAX = crt\n",
    "\n",
    "        if MIN > crt:\n",
    "            MIN = crt\n",
    "\n",
    "    print('#{} {}'.format(k+1, MAX - MIN))"
   ]
  }
 ],
 "metadata": {
  "kernelspec": {
   "display_name": "Python 3",
   "language": "python",
   "name": "python3"
  },
  "language_info": {
   "codemirror_mode": {
    "name": "ipython",
    "version": 3
   },
   "file_extension": ".py",
   "mimetype": "text/x-python",
   "name": "python",
   "nbconvert_exporter": "python",
   "pygments_lexer": "ipython3",
   "version": "3.7.3"
  },
  "toc": {
   "base_numbering": 1,
   "nav_menu": {},
   "number_sections": true,
   "sideBar": true,
   "skip_h1_title": false,
   "title_cell": "Table of Contents",
   "title_sidebar": "Contents",
   "toc_cell": false,
   "toc_position": {},
   "toc_section_display": true,
   "toc_window_display": false
  }
 },
 "nbformat": 4,
 "nbformat_minor": 2
}
