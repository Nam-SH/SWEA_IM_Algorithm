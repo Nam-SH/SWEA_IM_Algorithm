{
 "cells": [
  {
   "cell_type": "markdown",
   "metadata": {},
   "source": [
    "# 1221. GNS\n",
    "\n",
    "<br>\n",
    "\n",
    "![image](https://user-images.githubusercontent.com/50367487/62943620-df369e00-be15-11e9-99c5-e0b68bb951a5.png)"
   ]
  },
  {
   "cell_type": "code",
   "execution_count": null,
   "metadata": {},
   "outputs": [],
   "source": [
    "TC = int(input())\n",
    "for tc in range(TC):\n",
    "    none = input()\n",
    "    data = input().split()\n",
    "\n",
    "    dic = {'ZRO': 0, 'ONE': 0, 'TWO': 0, 'THR': 0, 'FOR': 0,\n",
    "           'FIV': 0, 'SIX': 0, 'SVN': 0, 'EGT': 0, 'NIN': 0}\n",
    "\n",
    "    for i in data:\n",
    "        dic[i] += 1\n",
    "\n",
    "    print('#{}'.format(tc + 1))\n",
    "    for key, val in dic.items():\n",
    "        print((key + ' ') * val)"
   ]
  },
  {
   "cell_type": "markdown",
   "metadata": {},
   "source": [
    "# 1215. 회문1\n",
    "\n",
    "<br>\n",
    "\n",
    "![image](https://user-images.githubusercontent.com/50367487/62938519-320a5880-be0a-11e9-9057-eb54962d6f77.png)"
   ]
  },
  {
   "cell_type": "code",
   "execution_count": null,
   "metadata": {},
   "outputs": [],
   "source": [
    "import sys\n",
    "sys.stdin = open('input.txt', 'r')\n",
    "\n",
    "for tc in range(10):\n",
    "    M = int(input())\n",
    "    count = 0\n",
    "    arr = [input() for _ in range(8)]\n",
    "    for i in range(8):\n",
    "        for j in range(8 - M + 1):\n",
    "            for k in range(M//2):\n",
    "                if arr[i][j+k] != arr[i][j-k+M-1]:\n",
    "                    break\n",
    "            else:\n",
    "                count += 1\n",
    "            for k in range(M//2):\n",
    "                if arr[j+k][i] != arr[j-k+M-1][i]:\n",
    "                    break\n",
    "            else:\n",
    "                count += 1\n",
    "    print('#{} {}'.format(tc + 1, count))"
   ]
  },
  {
   "cell_type": "markdown",
   "metadata": {},
   "source": [
    "# 1216. 회문2\n",
    "\n",
    "<br>\n",
    "\n",
    "![image](https://user-images.githubusercontent.com/50367487/62938626-56fecb80-be0a-11e9-9d4b-ddb78988a16d.png)"
   ]
  },
  {
   "cell_type": "code",
   "execution_count": null,
   "metadata": {},
   "outputs": [],
   "source": [
    "import sys\n",
    "sys.stdin = open('input.txt', 'r')\n",
    "\n",
    "for _ in range(10):\n",
    "\n",
    "    tc = int(input())\n",
    "    arr = [input() for _ in range(100)]\n",
    "\n",
    "    Max = 0\n",
    "    M = 0\n",
    "    count = 0\n",
    "    while M <= 100:\n",
    "        for i in range(100):\n",
    "            for j in range(100 - M + 1):\n",
    "                for k in range(M // 2):\n",
    "                    if arr[i][j + k] != arr[i][j - k + M - 1]: break\n",
    "                else: Max = max(Max, len(arr[i][j:j+M]))\n",
    "        M += 1\n",
    "\n",
    "    M = Max\n",
    "    while M <= 100:\n",
    "        for i in range(100):\n",
    "            for j in range(100 - M + 1):\n",
    "                for k in range(M // 2):\n",
    "                    if arr[j + k][i] != arr[j - k + M - 1][i]: break\n",
    "                else: Max = max(Max, len(arr[i][j:j+M]))\n",
    "        M += 1\n",
    "\n",
    "    print('#{} {}'.format(tc, Max))"
   ]
  },
  {
   "cell_type": "markdown",
   "metadata": {},
   "source": [
    "# 1946. 간단한 압축 풀기\n",
    "\n",
    "<br>\n",
    "\n",
    "![image](https://user-images.githubusercontent.com/50367487/62938712-857ca680-be0a-11e9-86a7-d1eecf01e235.png)"
   ]
  },
  {
   "cell_type": "code",
   "execution_count": null,
   "metadata": {},
   "outputs": [],
   "source": [
    "TC = int(input())\n",
    "for tc in range(TC):\n",
    "    N = int(input())\n",
    "\n",
    "    count = 0\n",
    "    res = ''\n",
    "    for _ in range(N):\n",
    "        char, num = input().split()\n",
    "        res += char*int(num)\n",
    "\n",
    "    count = 0\n",
    "    print('#{}'.format(tc + 1))\n",
    "    for i in res:\n",
    "        print(i, end='')\n",
    "        count += 1\n",
    "        if count % 10 == 0:\n",
    "            print()\n",
    "    print()"
   ]
  },
  {
   "cell_type": "markdown",
   "metadata": {},
   "source": [
    "# 4522. 세상의 모든 팰린드롬\n",
    "\n",
    "<br>\n",
    "\n",
    "![image](https://user-images.githubusercontent.com/50367487/62940069-aabee400-be0d-11e9-901d-6999f1a5b356.png)"
   ]
  },
  {
   "cell_type": "code",
   "execution_count": null,
   "metadata": {},
   "outputs": [],
   "source": [
    "TC = int(input())\n",
    "for tc in range(TC):\n",
    "    data = input()\n",
    "    for i in range(len(data)//2):\n",
    "        if data[i] == '?' or data[-i-1] == '?': continue\n",
    "        if data[i] != data[-i-1]:\n",
    "            print('#{} Not exist'.format(tc + 1))\n",
    "            break\n",
    "    else:\n",
    "        print('#{} Exist'.format(tc + 1))"
   ]
  },
  {
   "cell_type": "markdown",
   "metadata": {},
   "source": [
    "# 4579. 세상의 모든 팰린드롬 2\n",
    "\n",
    "<br>\n",
    "\n",
    "![image](https://user-images.githubusercontent.com/50367487/62940625-f625c200-be0e-11e9-870c-f2b64c3df1f2.png)"
   ]
  },
  {
   "cell_type": "code",
   "execution_count": null,
   "metadata": {},
   "outputs": [],
   "source": [
    "TC = int(input())\n",
    "for tc in range(TC):\n",
    "    data = input()\n",
    "    for i in range(len(data)//2):\n",
    "        if data[i] == '*' or data[-i-1] == '*':\n",
    "            print('#{} Exist'.format(tc + 1))\n",
    "            break\n",
    "        if data[i] != data[-i-1]:\n",
    "            print('#{} Not exist'.format(tc + 1))\n",
    "            break\n",
    "    else:\n",
    "        print('#{} Exist'.format(tc + 1))"
   ]
  }
 ],
 "metadata": {
  "kernelspec": {
   "display_name": "Python 3",
   "language": "python",
   "name": "python3"
  },
  "language_info": {
   "codemirror_mode": {
    "name": "ipython",
    "version": 3
   },
   "file_extension": ".py",
   "mimetype": "text/x-python",
   "name": "python",
   "nbconvert_exporter": "python",
   "pygments_lexer": "ipython3",
   "version": "3.7.3"
  },
  "toc": {
   "base_numbering": 1,
   "nav_menu": {},
   "number_sections": true,
   "sideBar": true,
   "skip_h1_title": false,
   "title_cell": "Table of Contents",
   "title_sidebar": "Contents",
   "toc_cell": false,
   "toc_position": {},
   "toc_section_display": true,
   "toc_window_display": false
  }
 },
 "nbformat": 4,
 "nbformat_minor": 2
}
