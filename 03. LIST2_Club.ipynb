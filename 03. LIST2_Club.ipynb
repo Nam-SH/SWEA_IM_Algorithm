{
 "cells": [
  {
   "cell_type": "markdown",
   "metadata": {},
   "source": [
    "# [S/W 문제해결 기본] 2일차 - Sum\n",
    "\n",
    "<br>\n",
    "\n",
    "![image](https://user-images.githubusercontent.com/50367487/62467709-5a250680-b7cf-11e9-8e13-11a55603d972.png)"
   ]
  },
  {
   "cell_type": "code",
   "execution_count": null,
   "metadata": {},
   "outputs": [],
   "source": [
    "for _ in range(10):\n",
    "    \n",
    "    T = int(input())\n",
    "    \n",
    "    arr = [list(map(int, input().split())) for _ in range(100)]\n",
    "    \n",
    "    diagRD = diagLD  = rcMax = 0\n",
    "    for i in range(100):\n",
    "        diagRD += arr[i][i]\n",
    "        diagLD += arr[i][99 - i]\n",
    "        \n",
    "        rSum = cSum = 0\n",
    "        for k in range(100):\n",
    "            rSum += arr[i][k]\n",
    "            cSum += arr[k][i]\n",
    "\n",
    "            if rcMax < max(rSum, cSum):\n",
    "                rcMax = max(rSum, cSum)\n",
    "\n",
    "    Max = max(diagRD, diagLD, rcMax)\n",
    "\n",
    "    print('#{} {}'.format(T, Max))"
   ]
  }
 ],
 "metadata": {
  "kernelspec": {
   "display_name": "Python 3",
   "language": "python",
   "name": "python3"
  },
  "language_info": {
   "codemirror_mode": {
    "name": "ipython",
    "version": 3
   },
   "file_extension": ".py",
   "mimetype": "text/x-python",
   "name": "python",
   "nbconvert_exporter": "python",
   "pygments_lexer": "ipython3",
   "version": "3.7.3"
  },
  "toc": {
   "base_numbering": 1,
   "nav_menu": {},
   "number_sections": true,
   "sideBar": true,
   "skip_h1_title": false,
   "title_cell": "Table of Contents",
   "title_sidebar": "Contents",
   "toc_cell": false,
   "toc_position": {},
   "toc_section_display": true,
   "toc_window_display": false
  }
 },
 "nbformat": 4,
 "nbformat_minor": 2
}
