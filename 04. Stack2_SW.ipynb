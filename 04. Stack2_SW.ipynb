{
 "cells": [
  {
   "cell_type": "markdown",
   "metadata": {},
   "source": [
    "# 4874. Forth \n",
    "\n",
    "<br>\n",
    "\n",
    "![image](https://user-images.githubusercontent.com/50367487/62832905-c5a82180-bc70-11e9-8f48-b6c1cd24e02a.png)"
   ]
  },
  {
   "cell_type": "markdown",
   "metadata": {},
   "source": [
    "```\n",
    "3\n",
    "10 2 + 3 4 + * .\n",
    "5 3 * + .\n",
    "1 5 8 10 3 4 + + 3 + * 2 + + + .\n",
    "```\n",
    "```\n",
    "#1 84\n",
    "#2 error\n",
    "#3 168\n",
    "```"
   ]
  },
  {
   "cell_type": "code",
   "execution_count": null,
   "metadata": {},
   "outputs": [],
   "source": [
    "TC = int(input())\n",
    "for tc in range(TC):\n",
    "    arr = []\n",
    "    data = input().split()\n",
    "    for i in data:\n",
    "        if i.isdigit():\n",
    "            arr.append(i)\n",
    "        else:\n",
    "            try:\n",
    "                if i == '.': \n",
    "                    if len(arr) > 1:\n",
    "                        print('#{} error'.format(tc + 1)); break\n",
    "                    else:\n",
    "                        print('#{} {}'.format(tc + 1, arr[0])); break\n",
    "                b = int(arr.pop())\n",
    "                a = int(arr.pop())\n",
    "                if i == '+': c = a + b\n",
    "                if i == '-': c = a - b\n",
    "                if i == '*': c = a * b\n",
    "                if i =='/':  c = a // b\n",
    "                arr.append(c)\n",
    "            except:\n",
    "                print('#{} error'.format(tc + 1)); break"
   ]
  },
  {
   "cell_type": "markdown",
   "metadata": {},
   "source": [
    "# 4875. 미로 \n",
    "\n",
    "<br>\n",
    "\n",
    "![image](https://user-images.githubusercontent.com/50367487/62832983-56333180-bc72-11e9-935a-96869a8d28eb.png)"
   ]
  },
  {
   "cell_type": "markdown",
   "metadata": {},
   "source": [
    "|첫번째|두번째|세번쩨|\n",
    "|:---:|:---:|:---:|\n",
    "|5|5|5|\n",
    "|13101|10031|00013|\n",
    "|10101|10111|01110|\n",
    "|10101|10101|21000|\n",
    "|10101|10101|01111|\n",
    "|10021|12001|00000|\n",
    "|#1 1|#2 1|#3 0|"
   ]
  },
  {
   "cell_type": "code",
   "execution_count": null,
   "metadata": {},
   "outputs": [],
   "source": [
    "import sys; sys.stdin = open('input.txt', 'r')\n",
    "\n",
    "def safe(ty, tx):\n",
    "    if ty > 0  and tx > 0 and ty < N and tx < N: return True\n",
    "    elif arr[ty][tx] == 0 or arr[ty][tx] == 3: return True\n",
    "    else: return False\n",
    "        \n",
    "def DFS(i, j):\n",
    "    global res, delta\n",
    "\n",
    "    if arr[i][j] == 3:\n",
    "        res = 1\n",
    "        return\n",
    "\n",
    "    visit.append((i, j))\n",
    "    for dx, dy in delta:\n",
    "        ty = i + dy\n",
    "        tx = j + dx\n",
    "        if safe(ty, tx) and (ty, tx) not in visit:\n",
    "            DFS(ty, tx)\n",
    "\n",
    "for tc in range(int(input())):\n",
    "    N = int(input())\n",
    "    arr = [list(map(int, input())) for _ in range(N)]\n",
    "    print(arr)\n",
    "    for i in range(N):\n",
    "        for j in range(N):\n",
    "            if arr[i][j] == 2:\n",
    "                x, y = i, j\n",
    "                break\n",
    "\n",
    "    delta = [(0, 1), (0, -1), (1, 0), (-1, 0)]\n",
    "    visit = []\n",
    "    res = 0\n",
    "    DFS(x, y)\n",
    "\n",
    "    print('#{} {}'.format(tc + 1, res))"
   ]
  },
  {
   "cell_type": "markdown",
   "metadata": {},
   "source": [
    "# 4880. 토너먼트 카드게임\n",
    "\n",
    "<br>\n",
    "\n",
    "![image](https://user-images.githubusercontent.com/50367487/62833002-94305580-bc72-11e9-8d45-f0afdbae0a81.png)"
   ]
  },
  {
   "cell_type": "markdown",
   "metadata": {},
   "source": [
    "```\n",
    "3\n",
    "4\n",
    "1 3 2 1\n",
    "6\n",
    "2 1 1 2 3 3\n",
    "7\n",
    "1 3 3 3 1 1 3\n",
    "```\n",
    "```\n",
    "#1 3\n",
    "#2 5\n",
    "#3 1\n",
    "```"
   ]
  },
  {
   "cell_type": "code",
   "execution_count": null,
   "metadata": {},
   "outputs": [],
   "source": [
    "import sys; sys.stdin = open('input.txt', 'r')\n",
    "\n",
    "def win(l, r):\n",
    "    if (arr[l], arr[r]) == (1, 3) or (arr[l], arr[r]) == (3, 2) or (arr[l], arr[r]) == (2, 1):\n",
    "        return l\n",
    "    elif (arr[l], arr[r]) == (3, 1) or (arr[l], arr[r]) ==  (2, 3) or (arr[l], arr[r]) == (1, 2):\n",
    "        return r\n",
    "    else: return l\n",
    "\n",
    "def lr(s, f):\n",
    "    if s == f: return s\n",
    "    l = lr(s, (s + f)//2)\n",
    "    r = lr((s + f)//2 + 1, f)\n",
    "    return win(l, r)\n",
    "\n",
    "for tc in range(int(input())):\n",
    "    N = int(input())\n",
    "    arr = list(map(int, input().split()))\n",
    "\n",
    "    print('#{} {}'.format(tc + 1, lr(0, N - 1) + 1))"
   ]
  },
  {
   "cell_type": "markdown",
   "metadata": {},
   "source": [
    "#  4881. 배열 최소 합\n",
    "\n",
    "<br>\n",
    "\n",
    "![image](https://user-images.githubusercontent.com/50367487/62833023-eb362a80-bc72-11e9-900b-a6ccf09e493e.png)"
   ]
  },
  {
   "cell_type": "markdown",
   "metadata": {},
   "source": [
    "```\n",
    "3\n",
    "3\n",
    "2 1 2\n",
    "5 8 5\n",
    "7 2 2\n",
    "3\n",
    "9 4 7\n",
    "8 6 5\n",
    "5 3 7\n",
    "5\n",
    "5 2 1 1 9\n",
    "3 3 8 3 1\n",
    "9 2 8 8 6\n",
    "1 5 7 8 3\n",
    "5 5 4 6 8\n",
    "```\n",
    "```\n",
    "#1 8\n",
    "#2 14\n",
    "#3 9\n",
    "```"
   ]
  },
  {
   "cell_type": "code",
   "execution_count": null,
   "metadata": {},
   "outputs": [],
   "source": [
    "def find(i):\n",
    "    global res, Min\n",
    "\n",
    "    if Min < res: return\n",
    "\n",
    "    if i == N:\n",
    "        if Min > res: Min = res\n",
    "        return\n",
    "\n",
    "    for j in range(N):\n",
    "        if not visit[j]:\n",
    "            visit[j] = True\n",
    "            res += arr[i][j]\n",
    "            find(i+1)\n",
    "            visit[j] = False\n",
    "            res -= arr[i][j]\n",
    "\n",
    "for tc in range(int(input())):\n",
    "    N = int(input())\n",
    "    arr = [list(map(int, input().split())) for _ in range(N)]\n",
    "    visit = [False] * N\n",
    "    res, Min = 0, 9999999\n",
    "    find(0)\n",
    "    print('#{} {}'.format(tc + 1, Min))"
   ]
  }
 ],
 "metadata": {
  "kernelspec": {
   "display_name": "Python 3",
   "language": "python",
   "name": "python3"
  },
  "language_info": {
   "codemirror_mode": {
    "name": "ipython",
    "version": 3
   },
   "file_extension": ".py",
   "mimetype": "text/x-python",
   "name": "python",
   "nbconvert_exporter": "python",
   "pygments_lexer": "ipython3",
   "version": "3.7.3"
  },
  "toc": {
   "base_numbering": 1,
   "nav_menu": {},
   "number_sections": true,
   "sideBar": true,
   "skip_h1_title": false,
   "title_cell": "Table of Contents",
   "title_sidebar": "Contents",
   "toc_cell": false,
   "toc_position": {},
   "toc_section_display": true,
   "toc_window_display": false
  }
 },
 "nbformat": 4,
 "nbformat_minor": 2
}
