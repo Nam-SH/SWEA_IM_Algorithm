{
 "cells": [
  {
   "cell_type": "markdown",
   "metadata": {},
   "source": [
    "# 4865. 글자수\n",
    "\n",
    "<br>\n",
    "\n",
    "![image](https://user-images.githubusercontent.com/50367487/62471682-226e8c80-b7d8-11e9-97e6-21752f283096.png)"
   ]
  },
  {
   "cell_type": "markdown",
   "metadata": {},
   "source": [
    "`input`\n",
    "```\n",
    "3\n",
    "XYPV\n",
    "EOGGXYPVSY\n",
    "STJJ\n",
    "HOFSTJPVPP\n",
    "ZYJZXZTIBSDG\n",
    "TTXGZYJZXZTIBSDGWQLW\n",
    "```\n",
    "\n",
    "`output`\n",
    "```\n",
    "#1 2\n",
    "#2 1\n",
    "#3 3\n",
    "```"
   ]
  },
  {
   "cell_type": "code",
   "execution_count": null,
   "metadata": {},
   "outputs": [],
   "source": [
    "TC = int(input())\n",
    "for t in range(TC):\n",
    "\n",
    "    str1 = input()\n",
    "    str2 = input()\n",
    "\n",
    "    Max = 0\n",
    "    for i in str1:\n",
    "        if Max < str2.count(i):\n",
    "            Max = str2.count(i)\n",
    "    print('#{} {}'.format(t + 1, Max))"
   ]
  }
 ],
 "metadata": {
  "kernelspec": {
   "display_name": "Python 3",
   "language": "python",
   "name": "python3"
  },
  "language_info": {
   "codemirror_mode": {
    "name": "ipython",
    "version": 3
   },
   "file_extension": ".py",
   "mimetype": "text/x-python",
   "name": "python",
   "nbconvert_exporter": "python",
   "pygments_lexer": "ipython3",
   "version": "3.7.6"
  },
  "toc": {
   "base_numbering": 1,
   "nav_menu": {},
   "number_sections": true,
   "sideBar": true,
   "skip_h1_title": false,
   "title_cell": "Table of Contents",
   "title_sidebar": "Contents",
   "toc_cell": false,
   "toc_position": {},
   "toc_section_display": true,
   "toc_window_display": false
  }
 },
 "nbformat": 4,
 "nbformat_minor": 4
}
