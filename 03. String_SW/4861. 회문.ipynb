{
 "cells": [
  {
   "cell_type": "markdown",
   "metadata": {},
   "source": [
    "# 4861. 회문\n",
    "\n",
    "<br>\n",
    "\n",
    "![image](https://user-images.githubusercontent.com/50367487/62423668-6a20e580-b6fe-11e9-8870-f320f1e460a6.png)"
   ]
  },
  {
   "cell_type": "markdown",
   "metadata": {},
   "source": [
    "```\n",
    "3\n",
    "10 10\n",
    "GOFFAKWFSM\n",
    "OYECRSLDLQ\n",
    "UJAJQVSYYC\n",
    "JAEZNNZEAJ\n",
    "WJAKCGSGCF\n",
    "QKUDGATDQL\n",
    "OKGPFPYRKQ\n",
    "TDCXBMQTIO\n",
    "UNADRPNETZ\n",
    "ZATWDEKDQF\n",
    "10 10\n",
    "WPMACSIBIK\n",
    "STWASDCOBQ\n",
    "AMOUENCSOG\n",
    "XTIIGBLRCZ\n",
    "WXVSWXYYVU\n",
    "CJVAHRZZEM\n",
    "NDIEBIIMTX\n",
    "UOOGPQCBIW\n",
    "OWWATKUEUY\n",
    "FTMERSSANL\n",
    "20 13\n",
    "ECFQBKSYBBOSZQSFBXKI\n",
    "VBOAIDLYEXYMNGLLIOPP\n",
    "AIZMTVJBZAWSJEIGAKWB\n",
    "CABLQKMRFNBINNZSOGNT\n",
    "NQLMHYUMBOCSZWIOBINM\n",
    "QJZQPSOMNQELBPLVXNRN\n",
    "RHMDWPBHDAMWROUFTPYH\n",
    "FNERUGIFZNLJSSATGFHF\n",
    "TUIAXPMHFKDLQLNYQBPW\n",
    "OPIRADJURRDLTDKZGOGA\n",
    "JHYXHBQTLMMHOOOHMMLT\n",
    "XXCNJGTXXKUCVOUYNXZR\n",
    "RMWTQQFHZUIGCJBASNOX\n",
    "CVODFKWMJSGMFTCSLLWO\n",
    "EJISQCXLNQHEIXXZSGKG\n",
    "KGVFJLNNBTVXJLFXPOZA\n",
    "YUNDJDSSOPRVSLLHGKGZ\n",
    "OZVTWRYWRFIAIPEYRFFG\n",
    "```"
   ]
  },
  {
   "cell_type": "markdown",
   "metadata": {},
   "source": [
    "```\n",
    "#1 JAEZNNZEAJ\n",
    "#2 MWOIVVIOWM\n",
    "#3 TLMMHOOOHMMLT\n",
    "```"
   ]
  },
  {
   "cell_type": "code",
   "execution_count": null,
   "metadata": {},
   "outputs": [],
   "source": [
    "def find(arr):\n",
    "    for i in range(len(arr)):\n",
    "        for j in range(len(arr[0]) - M + 1):\n",
    "            for k in range(M // 2):\n",
    "                if arr[i][j + k] != arr[i][j - k + M - 1]:\n",
    "                    break\n",
    "            else:\n",
    "                print('#{} {}'.format(tc+1, arr[i][j:j+M]))\n",
    "                return\n",
    "    return False\n",
    "\n",
    "def rev(arr):\n",
    "    arr = [''.join(i) for i in list(zip(*arr))]\n",
    "    return arr\n",
    "\n",
    "\n",
    "TC = int(input())\n",
    "for tc in range(TC):\n",
    "    N, M = map(int, input().split())\n",
    "    arr = [input() for _ in range(N)]\n",
    "    find(arr) or find(rev(arr))\n"
   ]
  },
  {
   "cell_type": "code",
   "execution_count": null,
   "metadata": {},
   "outputs": [],
   "source": [
    "def find(arr):\n",
    "    for i in arr:\n",
    "        for j in range(len(i) - M + 1):\n",
    "            if i[j : j + M] == i[j : j + M][::-1]:\n",
    "                print('#{} {}'.format(t + 1, i[j:j + M]))\n",
    "                return True\n",
    "\n",
    "    a = 0\n",
    "    while 1:\n",
    "        for j in range(len(arr[0])):\n",
    "            res = ''\n",
    "            for i in range(M):\n",
    "                res += arr[i+a][j]\n",
    "            if res == res[::-1]:\n",
    "                print('#{} {}'.format(t+1, res))\n",
    "                return True\n",
    "        a += 1\n",
    "\n",
    "TC = int(input())\n",
    "for t in range(TC):\n",
    "    N, M = map(int, input().split())\n",
    "    arr = [input() for _ in range(N)]\n",
    "    find(arr)"
   ]
  }
 ],
 "metadata": {
  "kernelspec": {
   "display_name": "Python 3",
   "language": "python",
   "name": "python3"
  },
  "language_info": {
   "codemirror_mode": {
    "name": "ipython",
    "version": 3
   },
   "file_extension": ".py",
   "mimetype": "text/x-python",
   "name": "python",
   "nbconvert_exporter": "python",
   "pygments_lexer": "ipython3",
   "version": "3.7.6"
  },
  "toc": {
   "base_numbering": 1,
   "nav_menu": {},
   "number_sections": true,
   "sideBar": true,
   "skip_h1_title": false,
   "title_cell": "Table of Contents",
   "title_sidebar": "Contents",
   "toc_cell": false,
   "toc_position": {},
   "toc_section_display": true,
   "toc_window_display": false
  }
 },
 "nbformat": 4,
 "nbformat_minor": 4
}
