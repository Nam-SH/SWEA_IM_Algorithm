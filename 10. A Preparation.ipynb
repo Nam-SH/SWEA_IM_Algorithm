{
 "cells": [
  {
   "cell_type": "markdown",
   "metadata": {},
   "source": [
    "# A1. Shuffle-O-Matic\n",
    "\n",
    "\n",
    "<br>\n",
    "\n",
    "Shuffle-O-Matic 은 카드의 순서를 섞는데 사용하는, 카드 셔플러이다.\n",
    "[그림 1] 과 같이, 양쪽에 카드를 절반씩 올려놓고, 동작 버튼을 누르면 카드가 가운데로 떨어지면서 섞이게 된다. \n",
    "\n",
    "![1_1](https://user-images.githubusercontent.com/50367487/64058754-b15da180-cbea-11e9-9f33-4ea2e60063db.png)\n",
    "\n",
    "<center>[그림 1]</center>\n",
    "\n",
    "<hr>\n",
    "\n",
    "이 카드 셔플러는 특이하게도, 카드가 섞이기 시작하는 시점인 x 값을 사용자가 조정할 수 있다. \n",
    "카드 셔플러의 사용 방법은 아래와 같다.\n",
    "\n",
    "\n",
    "1. N 개로 이루어진 덱을 절반으로 나누어 올려둔다. \n",
    "    - 1 ~ N/2 번째 카드는 왼쪽 (L), N/2 + 1 ~ N 번째 카드는 오른쪽 (R) 에 올려둔다.\n",
    "2. 카드 셔플러의 측면에 있는 다이얼로 x 값을 조정한 후, 동작 버튼을 누른다. 다이얼로 조정할 수 있는 x 값은 0 ~ N-1 이며, x 값에 따라 카드가 섞이는 순서가 달라진다. \n",
    "3. N = 6이고, 기존 카드의 순서가 오름차순으로 정렬된 상태일 때, 아래 **[그림 2]** 와 같은 순서로 셔플이 된다.\n",
    "\n",
    "![1_2](https://user-images.githubusercontent.com/50367487/64058755-b3bffb80-cbea-11e9-8e83-5556c4e2594c.png)\n",
    "\n",
    "<center>[그림 2]</center>\n",
    "\n",
    "<hr>\n",
    "\n",
    "Shuffle-O-Matic 의 기능을 활용하여, 카드의 순서가 오름차순 또는 내림차순이 되도록 정렬하려고 한다.\n",
    "\n",
    "\n",
    "입력으로 N 장의 카드와, 정리되지 않은 상태의 카드 순서가 주어질 때, 최소 몇 번의 셔플로 카드를 정렬할 수 있는지를 계산하는 프로그램을 작성하라.\n",
    "\n",
    "\n",
    "정답으로 오름차순으로 정렬했을 때와 내림차순으로 정렬했을 때 중, 셔플 횟수의 최소값을 출력한다. \n",
    "\n",
    "단, 정렬이 불가능한 경우나 셔플 횟수가 5 회를 초과할 경우, 정답으로 -1 을 출력한다.\n",
    "\n",
    "<br>\n",
    "\n",
    "**제약사항**\n",
    "\n",
    "1. 카드의 개수 N 은 4 이상 12 이하의 짝수이다. (4 ≤ N ≤ 12) \n",
    "2. 각각의 카드는 1 ~ N 번까지 숫자가 표기되어 있다.\n",
    "\n",
    "<br>\n",
    "\n",
    "**입력**\n",
    "\n",
    "입력은 첫 줄에 총 테스트 케이스의 개수 T 가 온다. 다음 줄 부터 각 테스트 케이스가 주어진다.\n",
    "각 테스트 케이스의 첫 줄에는 카드의 갯수 N 이 주어진다.\n",
    "두 번째 줄에는 정렬되지 않은 상태의 카드 번호가 순서대로 나열된다.\n",
    "\n",
    "<br>\n",
    "\n",
    "**출력**\n",
    "\n",
    "테스트 케이스 t에 대한 결과는 “#t”을 찍고, 한 칸 띄고, 정답을 출력한다. \n",
    "(t는 테스트 케이스의 번호를 의미하며 1부터 시작한다.) \n",
    "정답으로 정렬에 필요한 최소 셔플 횟수를 출력한다. \n",
    "\n",
    "<br>\n",
    "\n",
    "![1_3](https://user-images.githubusercontent.com/50367487/64058756-b4f12880-cbea-11e9-99bd-d4618063ece7.png)\n",
    "![image](https://user-images.githubusercontent.com/50367487/64058752-adca1a80-cbea-11e9-859a-0d735bdfdefc.png)"
   ]
  },
  {
   "cell_type": "code",
   "execution_count": null,
   "metadata": {},
   "outputs": [],
   "source": []
  },
  {
   "cell_type": "markdown",
   "metadata": {},
   "source": [
    "# 2383. 점심 식사시간\n",
    "\n",
    "<br>\n",
    "\n",
    "![image](https://user-images.githubusercontent.com/50367487/64058505-3050db00-cbe7-11e9-89e1-69e109fa55ce.png)"
   ]
  },
  {
   "cell_type": "code",
   "execution_count": null,
   "metadata": {},
   "outputs": [],
   "source": []
  },
  {
   "cell_type": "markdown",
   "metadata": {},
   "source": [
    "# 2382. 미생물 격리\n",
    "\n",
    "<br>\n",
    "\n",
    "![image](https://user-images.githubusercontent.com/50367487/64058507-3777e900-cbe7-11e9-8fdc-1b2fc3681acd.png)"
   ]
  },
  {
   "cell_type": "code",
   "execution_count": null,
   "metadata": {},
   "outputs": [],
   "source": []
  },
  {
   "cell_type": "markdown",
   "metadata": {},
   "source": [
    "# 1949. 등산로 조성\n",
    "\n",
    "<br>\n",
    "\n",
    "![image](https://user-images.githubusercontent.com/50367487/64058508-3e9ef700-cbe7-11e9-9624-5927c2188f2f.png)"
   ]
  },
  {
   "cell_type": "code",
   "execution_count": null,
   "metadata": {},
   "outputs": [],
   "source": []
  },
  {
   "cell_type": "markdown",
   "metadata": {},
   "source": [
    "# 1952. 수영장\n",
    "\n",
    "<br>\n",
    "\n",
    "![image](https://user-images.githubusercontent.com/50367487/64058511-452d6e80-cbe7-11e9-9d93-5b65c2a91cc8.png)"
   ]
  },
  {
   "cell_type": "code",
   "execution_count": null,
   "metadata": {},
   "outputs": [],
   "source": []
  },
  {
   "cell_type": "markdown",
   "metadata": {},
   "source": [
    "# 1953. 탈주범 검거\n",
    "\n",
    "<br>\n",
    "\n",
    "![image](https://user-images.githubusercontent.com/50367487/64058513-4e1e4000-cbe7-11e9-9c9a-ccd163796136.png)"
   ]
  },
  {
   "cell_type": "code",
   "execution_count": null,
   "metadata": {},
   "outputs": [],
   "source": []
  },
  {
   "cell_type": "markdown",
   "metadata": {},
   "source": [
    "# 2112. 보호 필름\n",
    "\n",
    "<br>\n",
    "\n",
    "![image](https://user-images.githubusercontent.com/50367487/64058515-55454e00-cbe7-11e9-89a7-62bd99cae68b.png)"
   ]
  },
  {
   "cell_type": "code",
   "execution_count": null,
   "metadata": {},
   "outputs": [],
   "source": []
  },
  {
   "cell_type": "markdown",
   "metadata": {},
   "source": [
    "# 2115. 벌꿀채취\n",
    "\n",
    "<br>\n",
    "\n",
    "![image](https://user-images.githubusercontent.com/50367487/64058519-5c6c5c00-cbe7-11e9-8fc5-928966e02c54.png)"
   ]
  },
  {
   "cell_type": "code",
   "execution_count": null,
   "metadata": {},
   "outputs": [],
   "source": []
  },
  {
   "cell_type": "markdown",
   "metadata": {},
   "source": [
    "# 2117. 홈 방범 서비스\n",
    "\n",
    "<br>\n",
    "\n",
    "![image](https://user-images.githubusercontent.com/50367487/64058522-6726f100-cbe7-11e9-814c-d3a7795119d8.png)"
   ]
  },
  {
   "cell_type": "code",
   "execution_count": null,
   "metadata": {},
   "outputs": [],
   "source": []
  },
  {
   "cell_type": "markdown",
   "metadata": {},
   "source": [
    "# 2105. 디저트 카페\n",
    "\n",
    "<br>\n",
    "\n",
    "![image](https://user-images.githubusercontent.com/50367487/64058526-6ee69580-cbe7-11e9-8cc0-53946f7c016a.png)"
   ]
  },
  {
   "cell_type": "code",
   "execution_count": null,
   "metadata": {},
   "outputs": [],
   "source": []
  },
  {
   "cell_type": "markdown",
   "metadata": {},
   "source": [
    "# 2477. 차량 정비소\n",
    "\n",
    "<br>\n",
    "\n",
    "![image](https://user-images.githubusercontent.com/50367487/64058531-786ffd80-cbe7-11e9-87ef-a60308191a69.png)"
   ]
  },
  {
   "cell_type": "code",
   "execution_count": null,
   "metadata": {},
   "outputs": [],
   "source": []
  },
  {
   "cell_type": "markdown",
   "metadata": {},
   "source": [
    "# 4008. 숫자 만들기\n",
    "\n",
    "<br>\n",
    "\n",
    "![image](https://user-images.githubusercontent.com/50367487/64058535-832a9280-cbe7-11e9-9f8b-508690cc8a8d.png)"
   ]
  },
  {
   "cell_type": "code",
   "execution_count": null,
   "metadata": {},
   "outputs": [],
   "source": []
  },
  {
   "cell_type": "markdown",
   "metadata": {},
   "source": [
    "# 4012. 요리사\n",
    "\n",
    "<br>\n",
    "\n",
    "![image](https://user-images.githubusercontent.com/50367487/64058539-90e01800-cbe7-11e9-8f33-2cfb01801242.png)"
   ]
  },
  {
   "cell_type": "code",
   "execution_count": null,
   "metadata": {},
   "outputs": [],
   "source": []
  },
  {
   "cell_type": "markdown",
   "metadata": {},
   "source": [
    "# 4013. 특이한 자석\n",
    "\n",
    "<br>\n",
    "\n",
    "![image](https://user-images.githubusercontent.com/50367487/64058544-989fbc80-cbe7-11e9-9b96-d8516df07408.png)"
   ]
  },
  {
   "cell_type": "code",
   "execution_count": null,
   "metadata": {},
   "outputs": [],
   "source": []
  },
  {
   "cell_type": "markdown",
   "metadata": {},
   "source": [
    "# 4014. 활주로 건설\n",
    "\n",
    "<br>\n",
    "\n",
    "![image](https://user-images.githubusercontent.com/50367487/64058545-a05f6100-cbe7-11e9-9758-777037cba388.png)"
   ]
  },
  {
   "cell_type": "code",
   "execution_count": null,
   "metadata": {},
   "outputs": [],
   "source": []
  },
  {
   "cell_type": "markdown",
   "metadata": {},
   "source": [
    "# 5644. 무선 충전\n",
    "\n",
    "<br>\n",
    "\n",
    "![image](https://user-images.githubusercontent.com/50367487/64058546-a8b79c00-cbe7-11e9-940f-2e0c49a1325c.png)"
   ]
  },
  {
   "cell_type": "code",
   "execution_count": null,
   "metadata": {},
   "outputs": [],
   "source": []
  },
  {
   "cell_type": "markdown",
   "metadata": {},
   "source": [
    "# 5650. 핀볼 게임\n",
    "\n",
    "<br>\n",
    "\n",
    "![image](https://user-images.githubusercontent.com/50367487/64058552-b2410400-cbe7-11e9-8bbf-b29dd630da53.png)"
   ]
  },
  {
   "cell_type": "code",
   "execution_count": null,
   "metadata": {},
   "outputs": [],
   "source": []
  },
  {
   "cell_type": "markdown",
   "metadata": {},
   "source": [
    "# 5648. 원자 소멸 시뮬레이션\n",
    "\n",
    "<br>\n",
    "\n",
    "![image](https://user-images.githubusercontent.com/50367487/64058628-c33e4500-cbe8-11e9-8e6e-c734165f369b.png)"
   ]
  },
  {
   "cell_type": "code",
   "execution_count": null,
   "metadata": {},
   "outputs": [],
   "source": []
  },
  {
   "cell_type": "markdown",
   "metadata": {},
   "source": [
    "# 5653. 줄기세포배양\n",
    "\n",
    "<br>\n",
    "\n",
    "![image](https://user-images.githubusercontent.com/50367487/64058632-cb968000-cbe8-11e9-9d64-0299d82b123e.png)"
   ]
  },
  {
   "cell_type": "code",
   "execution_count": null,
   "metadata": {},
   "outputs": [],
   "source": []
  },
  {
   "cell_type": "markdown",
   "metadata": {},
   "source": [
    "# 5656. 벽돌 깨기\n",
    "\n",
    "<br>\n",
    "\n",
    "![image](https://user-images.githubusercontent.com/50367487/64058633-d51fe800-cbe8-11e9-834b-8ceccce49100.png)"
   ]
  },
  {
   "cell_type": "code",
   "execution_count": null,
   "metadata": {},
   "outputs": [],
   "source": []
  },
  {
   "cell_type": "markdown",
   "metadata": {},
   "source": [
    "# 5658. 보물상자 비밀번호\n",
    "\n",
    "<br>\n",
    "\n",
    "![image](https://user-images.githubusercontent.com/50367487/64058634-dc46f600-cbe8-11e9-80fd-5b700cc49d8b.png)"
   ]
  },
  {
   "cell_type": "code",
   "execution_count": null,
   "metadata": {},
   "outputs": [],
   "source": []
  }
 ],
 "metadata": {
  "kernelspec": {
   "display_name": "Python 3",
   "language": "python",
   "name": "python3"
  },
  "language_info": {
   "codemirror_mode": {
    "name": "ipython",
    "version": 3
   },
   "file_extension": ".py",
   "mimetype": "text/x-python",
   "name": "python",
   "nbconvert_exporter": "python",
   "pygments_lexer": "ipython3",
   "version": "3.7.3"
  },
  "toc": {
   "base_numbering": 1,
   "nav_menu": {},
   "number_sections": true,
   "sideBar": true,
   "skip_h1_title": false,
   "title_cell": "Table of Contents",
   "title_sidebar": "Contents",
   "toc_cell": false,
   "toc_position": {},
   "toc_section_display": true,
   "toc_window_display": false
  }
 },
 "nbformat": 4,
 "nbformat_minor": 2
}
