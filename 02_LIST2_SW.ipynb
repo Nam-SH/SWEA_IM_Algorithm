{
 "cells": [
  {
   "cell_type": "markdown",
   "metadata": {},
   "source": [
    "# 4836. 색칠하기\n",
    "\n",
    "<br>\n",
    "\n",
    "![image](https://user-images.githubusercontent.com/50367487/62107472-9abde500-b2e2-11e9-8c78-10b1e675a810.png)\n",
    "![image](https://user-images.githubusercontent.com/50367487/62107507-b1643c00-b2e2-11e9-9d82-7bda826760df.png)"
   ]
  },
  {
   "cell_type": "code",
   "execution_count": null,
   "metadata": {},
   "outputs": [],
   "source": [
    "T = int(input())\n",
    "    for k in range(T):\n",
    "        N = int(input())\n",
    "    \n",
    "        data = [[0]*10 for _ in range(10)]\n",
    "    \n",
    "        count = 0\n",
    "        for _ in range(N):\n",
    "            a, b, c, d, e = map(int, input().split())\n",
    "            for i in range(c-a+1):\n",
    "                for j in range(d-b+1):\n",
    "                    if data[a+i][b+j] == 0:\n",
    "                        data[a+i][b+j] = e\n",
    "                    if  or data[a+i][b+j] != e:\n",
    "                        data[a+i][b+j] = e\n",
    "                        count += 1\n",
    "                        \n",
    "        print('#{} {}'.format(k + 1, count))"
   ]
  },
  {
   "cell_type": "markdown",
   "metadata": {},
   "source": [
    "# 4837. 부분집합의 합\n",
    "\n",
    "<br>\n",
    "\n",
    "![image](https://user-images.githubusercontent.com/50367487/62107558-cfca3780-b2e2-11e9-9bc1-b38770ce7333.png)"
   ]
  },
  {
   "cell_type": "code",
   "execution_count": null,
   "metadata": {},
   "outputs": [],
   "source": [
    "T = int(input())\n",
    "data = list(range(1, 13))\n",
    "\n",
    "for t in range(T):\n",
    "    n, k = map(int, input().split())\n",
    "\n",
    "    count = 0\n",
    "\n",
    "    for i in range(1 << len(data)):\n",
    "        ans = [data[j] for j in range(len(data)) if (i & (1 << j))]\n",
    "        if len(ans) == n and sum(ans) == k:\n",
    "            count += 1\n",
    "\n",
    "print(f'#{t + 1} {count}')"
   ]
  },
  {
   "cell_type": "markdown",
   "metadata": {},
   "source": [
    "# 4839. 이진탐색\n",
    "\n",
    "<br>\n",
    "\n",
    "![image](https://user-images.githubusercontent.com/50367487/62107598-e7a1bb80-b2e2-11e9-851d-9d68babf14a9.png)"
   ]
  },
  {
   "cell_type": "code",
   "execution_count": null,
   "metadata": {},
   "outputs": [],
   "source": [
    "T = int(input())\n",
    "for t in range(T):\n",
    "    p, a, b = map(int, input().split())\n",
    "\n",
    "    def cnt(p, x):\n",
    "        l = 1\n",
    "        count = 1\n",
    "        while 1:\n",
    "            c = (l + p )//2\n",
    "            if c == x:\n",
    "                return count\n",
    "                break\n",
    "            elif c < x:\n",
    "                l = c\n",
    "            else:\n",
    "                p = c\n",
    "            count += 1\n",
    "\n",
    "    if cnt(p, a) == cnt(p, b):\n",
    "        print('#{} {}'.format(t + 1, 0) )\n",
    "    elif cnt(p, a) < cnt(p, b):\n",
    "        print('#{} {}'.format(t + 1, 'A') )\n",
    "    else:\n",
    "        print('#{} {}'.format(t + 1, 'B'))"
   ]
  },
  {
   "cell_type": "markdown",
   "metadata": {},
   "source": [
    "# 4843. 특별한 정렬\n",
    "\n",
    "<br>\n",
    "\n",
    "![image](https://user-images.githubusercontent.com/50367487/62819361-29f2b480-bb8f-11e9-95b0-02b02c84de02.png)"
   ]
  },
  {
   "cell_type": "code",
   "execution_count": null,
   "metadata": {},
   "outputs": [],
   "source": [
    "TC = int(input())\n",
    "for t in range(TC):\n",
    "    N = int(input())\n",
    "    data = sorted(map(int, input().split()))\n",
    "    small, big = data[:N//2], data[N//2:]\n",
    "\n",
    "    res = []\n",
    "    while len(small + big) != 0 and len(res) != 10:\n",
    "\n",
    "        if big:\n",
    "            res.append(big.pop())\n",
    "        if small:\n",
    "            res.append(small.pop(0))\n",
    "\n",
    "    print('#{} {}'.format(t + 1, ' '.join(map(str, res))))"
   ]
  }
 ],
 "metadata": {
  "kernelspec": {
   "display_name": "Python 3",
   "language": "python",
   "name": "python3"
  },
  "language_info": {
   "codemirror_mode": {
    "name": "ipython",
    "version": 3
   },
   "file_extension": ".py",
   "mimetype": "text/x-python",
   "name": "python",
   "nbconvert_exporter": "python",
   "pygments_lexer": "ipython3",
   "version": "3.7.3"
  },
  "toc": {
   "base_numbering": 1,
   "nav_menu": {},
   "number_sections": true,
   "sideBar": true,
   "skip_h1_title": false,
   "title_cell": "Table of Contents",
   "title_sidebar": "Contents",
   "toc_cell": false,
   "toc_position": {},
   "toc_section_display": true,
   "toc_window_display": false
  }
 },
 "nbformat": 4,
 "nbformat_minor": 2
}
