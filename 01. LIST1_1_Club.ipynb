{
 "cells": [
  {
   "cell_type": "markdown",
   "metadata": {},
   "source": [
    "# 1206. - View\n",
    "\n",
    "<br>\n",
    "\n",
    "![image](https://user-images.githubusercontent.com/50367487/62030175-7d741280-b21f-11e9-90aa-f04b233ada0a.png)"
   ]
  },
  {
   "cell_type": "code",
   "execution_count": null,
   "metadata": {},
   "outputs": [],
   "source": [
    "#  처음\n",
    "\n",
    "for n in range(10):\n",
    "    N = int(input())\n",
    "    num = list(map(int, input().split()))\n",
    "    result = 0\n",
    "    for i in range(2, N-1):\n",
    "        if num[i-2] < num[i] and num[i-1] < num[i] and num[i+1] < num[i] and num[i+2] < num[i]:\n",
    "            MAX = num[i-2]\n",
    "            for val in [num[i-2], num[i-1], num[i+1], num[i+2]]:\n",
    "                if val > MAX:\n",
    "                    MAX = val\n",
    "            result += num[i] - MAX\n",
    "    print('#{} {}'.format(n+1,result))"
   ]
  },
  {
   "cell_type": "code",
   "execution_count": null,
   "metadata": {},
   "outputs": [],
   "source": [
    "# 수정 한 후\n",
    "\n",
    "for n in range(10):\n",
    "    N = int(input())\n",
    "    num = list(map(int, input().split()))\n",
    "    result = 0\n",
    "    for i in range(2, N-1):\n",
    "        MAX = max(num[i-2], num[i-1], num[i+1], num[i+2])\n",
    "            if MAX < num[i]:\n",
    "                result += num[i] - MAX\n",
    "    print('#{} {}'.format(n+1,result))"
   ]
  }
 ],
 "metadata": {
  "kernelspec": {
   "display_name": "Python 3",
   "language": "python",
   "name": "python3"
  },
  "language_info": {
   "codemirror_mode": {
    "name": "ipython",
    "version": 3
   },
   "file_extension": ".py",
   "mimetype": "text/x-python",
   "name": "python",
   "nbconvert_exporter": "python",
   "pygments_lexer": "ipython3",
   "version": "3.7.3"
  },
  "toc": {
   "base_numbering": 1,
   "nav_menu": {},
   "number_sections": true,
   "sideBar": true,
   "skip_h1_title": false,
   "title_cell": "Table of Contents",
   "title_sidebar": "Contents",
   "toc_cell": false,
   "toc_position": {},
   "toc_section_display": true,
   "toc_window_display": false
  }
 },
 "nbformat": 4,
 "nbformat_minor": 2
}
