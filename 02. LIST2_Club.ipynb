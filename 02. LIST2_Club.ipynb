{
 "cells": [
  {
   "cell_type": "markdown",
   "metadata": {},
   "source": [
    "# 1209. - Sum\n",
    "\n",
    "<br>\n",
    "\n",
    "![image](https://user-images.githubusercontent.com/50367487/62467709-5a250680-b7cf-11e9-8e13-11a55603d972.png)"
   ]
  },
  {
   "cell_type": "code",
   "execution_count": null,
   "metadata": {},
   "outputs": [],
   "source": [
    "import sys; sys.stdin = open('data/(1209)input.txt', 'r')\n",
    "\n",
    "for _ in range(10):\n",
    "    \n",
    "    T = int(input())\n",
    "    \n",
    "    arr = [list(map(int, input().split())) for _ in range(100)]\n",
    "    \n",
    "    diagRD = diagLD  = rcMax = 0\n",
    "    for i in range(100):\n",
    "        diagRD += arr[i][i]\n",
    "        diagLD += arr[i][99 - i]\n",
    "        \n",
    "        rSum = cSum = 0\n",
    "        for k in range(100):\n",
    "            rSum += arr[i][k]\n",
    "            cSum += arr[k][i]\n",
    "\n",
    "            if rcMax < max(rSum, cSum):\n",
    "                rcMax = max(rSum, cSum)\n",
    "\n",
    "    Max = max(diagRD, diagLD, rcMax)\n",
    "\n",
    "    print('#{} {}'.format(T, Max))"
   ]
  },
  {
   "cell_type": "markdown",
   "metadata": {},
   "source": [
    "# 1259. 금속막대\n",
    "\n",
    "<br>\n",
    "\n",
    "![image](https://user-images.githubusercontent.com/50367487/62515180-8044b800-b85c-11e9-9a37-ac8dcf7f1df5.png)"
   ]
  },
  {
   "cell_type": "code",
   "execution_count": null,
   "metadata": {},
   "outputs": [],
   "source": [
    "import sys; sys.stdin = open('data/(1259)input.txt', 'r')\n",
    "\n",
    "TC = int(input())\n",
    "for t in range(TC):\n",
    "\n",
    "    N = int(input())\n",
    "    arr = list(map(int, input().split()))\n",
    "    \n",
    "    res = [[i, j] for i, j in zip(arr[::2], arr[1::2])]\n",
    "    find = [res[0]]\n",
    "    while len(find) != len(res):\n",
    "        for i in range(1, len(res)):\n",
    "            if res[i][1] == find[0][0]: find.insert(0, res[i])\n",
    "            if find[-1][1] == res[i][0]: find.append(res[i])\n",
    "\n",
    "    print('#{}'.format(t + 1), end=' ')\n",
    "    print(*[x for i in find for x in i]"
   ]
  },
  {
   "cell_type": "markdown",
   "metadata": {},
   "source": [
    "# 4408. 자기 방으로 돌아가기\n",
    "\n",
    "<br>\n",
    "\n",
    "![image](https://user-images.githubusercontent.com/50367487/63209665-c0d6e800-c11e-11e9-8c20-48838fe3f849.png)"
   ]
  },
  {
   "cell_type": "code",
   "execution_count": null,
   "metadata": {},
   "outputs": [],
   "source": [
    "import sys; sys.stdin = open('data/(4408)input.txt', 'r')\n",
    "\n",
    "for tc in range(int(input())):\n",
    "    n = int(input())\n",
    "    arr = [0]*400\n",
    "    for _ in range(n):\n",
    "        a, b = map(int, input().split())\n",
    "        if a < b:\n",
    "            if not a & 1: a -= 1\n",
    "            if b & 1: b += 1\n",
    "            for i in range(a, b + 1):\n",
    "                arr[i-1] += 1\n",
    "        else:\n",
    "            if not b & 1: b -= 1\n",
    "            if a & 1: a += 1\n",
    "            for i in range(b, a + 1):\n",
    "                arr[i-1] += 1\n",
    "    print(\"#{} {}\".format(tc + 1, max(arr)))"
   ]
  }
 ],
 "metadata": {
  "kernelspec": {
   "display_name": "Python 3",
   "language": "python",
   "name": "python3"
  },
  "language_info": {
   "codemirror_mode": {
    "name": "ipython",
    "version": 3
   },
   "file_extension": ".py",
   "mimetype": "text/x-python",
   "name": "python",
   "nbconvert_exporter": "python",
   "pygments_lexer": "ipython3",
   "version": "3.7.3"
  },
  "toc": {
   "base_numbering": 1,
   "nav_menu": {},
   "number_sections": true,
   "sideBar": true,
   "skip_h1_title": false,
   "title_cell": "Table of Contents",
   "title_sidebar": "Contents",
   "toc_cell": false,
   "toc_position": {},
   "toc_section_display": true,
   "toc_window_display": false
  }
 },
 "nbformat": 4,
 "nbformat_minor": 2
}
